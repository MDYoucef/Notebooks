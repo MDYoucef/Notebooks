{
 "cells": [
  {
   "cell_type": "code",
   "execution_count": 9,
   "metadata": {},
   "outputs": [],
   "source": [
    "import pandas as pd\n",
    "import numpy as np\n",
    "import scipy\n",
    "from scipy.stats import lognorm, norm, poisson\n",
    "from sklearn.preprocessing import MinMaxScaler, LabelEncoder, OneHotEncoder\n",
    "from sklearn.metrics import mean_squared_error, mean_absolute_error, r2_score, make_scorer\n",
    "import category_encoders as ce\n",
    "from statsmodels.tsa.seasonal import seasonal_decompose\n",
    "from copy import copy, deepcopy\n",
    "import plotly\n",
    "from plotly import tools\n",
    "import plotly.graph_objs as go\n",
    "from plotly.subplots import make_subplots\n",
    "from copy import copy, deepcopy\n",
    "import dask\n",
    "import gplearn as gpl        \n",
    "from gplearn.genetic import SymbolicRegressor\n",
    "import zipfile"
   ]
  },
  {
   "cell_type": "code",
   "execution_count": 4,
   "metadata": {},
   "outputs": [],
   "source": [
    "def plot_gp(mu, lb, ub, test_x, test_y, train_x=None, train_y=None, name='', samples={},\n",
    "            layout='v', xaxis_title='Time', yaxis_title='Sales', fig_size=[1000,500], w=3, f=10):\n",
    "    fig = make_subplots(rows=1, cols=1, subplot_titles=(\"Samples\"))\n",
    "    samples = {'sample '+str(i): s for i, s in enumerate(samples)} if not isinstance(samples, dict) else samples\n",
    "    if train_x is not None:\n",
    "        fig.add_trace(go.Scatter(x=train_x, y=train_y, mode='lines', name='History', line=dict(width=w), line_color='#1a76ff'))  # plot training data\n",
    "\n",
    "    fig.add_trace(\n",
    "        go.Scatter(x=test_x, y=ub, fill=None, mode='lines', line_color='rgba(199, 19, 19, 0.3)',\n",
    "                   fillcolor='rgba(249, 129, 37, 0.3)', showlegend=True, name='95% uncertainty interval'))\n",
    "    fig.add_trace(\n",
    "        go.Scatter(x=test_x, y=lb, fill='tonexty', mode='lines', line_color='rgba(199, 19, 19, 0.3)',\n",
    "                   fillcolor='rgba(249, 129, 37, 0.3)', showlegend=True, name='95% uncertainty interval'))\n",
    "\n",
    "    fig.add_trace(go.Scatter(x=test_x, y=mu, line=dict(color='#c71313', width=w), mode='lines', name='Skyolia Forecast'))  # plot the mean\n",
    "    fig.add_trace(go.Scatter(x=test_x, y=test_y, line=dict(color='#1a76ff', width=w), mode='lines', name='Observed'))\n",
    "    for k, v in samples.items():\n",
    "        fig.add_trace(go.Scatter(x=test_x, y=v, name=k, mode='lines', \n",
    "                                 line=dict(width=w)))  # plot samples\n",
    "    fig.update_layout(title_text=name, paper_bgcolor='#343434', plot_bgcolor='#343434', xaxis_title=xaxis_title, yaxis_title=yaxis_title,\n",
    "                          font=dict(family=\"Montserrat\", color=\"#fff\", size=f), title_x=0.5, hovermode=\"x\")\n",
    "    fig.update_xaxes(showgrid=True, showline=False, gridcolor='#c9c9c9', gridwidth=0.0005)\n",
    "    fig.update_yaxes(showgrid=True, showline=False, gridcolor='#c9c9c9', gridwidth=0.0005)\n",
    "    return fig\n",
    "\n",
    "def confidence_interval(mu, cov):\n",
    "    std = np.sqrt(np.diag(cov)) #compute std\n",
    "    uncertainty = 1.96 * std\n",
    "    return mu, std, mu-uncertainty, mu+uncertainty\n",
    "\n",
    "def order_quantity(mu, std, cu, co):\n",
    "    cf = cu/(cu+co)\n",
    "    return scipy.stats.norm.ppf(cf, loc=mu, scale=std)\n",
    "\n",
    "def plot_cov(covs, cols, subplot_titles, labels=None):\n",
    "    fig = make_subplots(rows=int(len(covs)/cols) + 1, cols=cols, subplot_titles=subplot_titles)\n",
    "    height = (1000/cols)*2\n",
    "    for i, cov in enumerate(covs):\n",
    "        row, col = int(i / cols)+1, (i%cols)+1\n",
    "        fig.add_trace(go.Heatmap(z=cov, x=labels, y=labels, colorscale='Greys'), row=row, col=col)\n",
    "    fig.update_layout(title_text='Cov matrix', height=height)#, yaxis1=dict(domain=[0, 1]), yaxis1=dict(domain=[0, 1])\n",
    "    return fig\n",
    "\n",
    "def plot_ts_decomposition(df, index, obs, model=\"additive\", features=False, period=None, samples=None):\n",
    "    df.index = df[index]\n",
    "    decompose = df[[index, obs]]\n",
    "    decompose.index = df[index]\n",
    "    decompose = decompose[[obs]]\n",
    "    \n",
    "    decomposition = seasonal_decompose(decompose, model=model, period=period)\n",
    "    trend, seasonal, residual = decomposition.trend, decomposition.seasonal, decomposition.resid\n",
    "    fig = go.Figure()\n",
    "    fig.add_trace(go.Scatter(x=decompose.index, y=decompose.iloc[:,0], mode='lines', name='observed')) #plot the observed\n",
    "    fig.add_trace(go.Scatter(x=decompose.index, y=trend.tolist(), mode='lines', name='trend')) #plot the trend\n",
    "    fig.add_trace(go.Scatter(x=decompose.index, y=seasonal.tolist(), mode='lines', name='seasonal')) #plot the seasonal\n",
    "    fig.add_trace(go.Scatter(x=decompose.index, y=residual.tolist(), mode='lines', name='residual')) #plot the residual\n",
    "    if features:\n",
    "        features = [col for col in list(df.columns) if col not in [index, obs]]\n",
    "        for col in features:\n",
    "            fig.add_trace(go.Scatter(x=decompose.index, y=df[col].values, name=col, mode='lines'))\n",
    "    if samples is not None:\n",
    "        for i, s in enumerate(samples):\n",
    "            fig.add_trace(go.Scatter(x=decompose.index, y=s, name='sample '+str(i), mode='lines')) #plot samples\n",
    "    fig.update_layout(title_text='Decomposition')\n",
    "    return fig, trend.dropna().values, seasonal.dropna().values, residual.dropna().values\n",
    "\n",
    "def plot_stl_decomposition(df, index, obs, model=\"additive\", period=None, seasonal=7, samples=None):\n",
    "    df.index = df[index]\n",
    "    decompose = df[[index, obs]]\n",
    "    decompose.index = df[index]\n",
    "    decompose = decompose[[obs]]\n",
    "    \n",
    "    decomposition = STL(decompose, period=period, seasonal=seasonal).fit()\n",
    "    trend, seasonal, residual = decomposition.trend, decomposition.seasonal, decomposition.resid\n",
    "    fig = go.Figure()\n",
    "    fig.add_trace(go.Scatter(x=decompose.index, y=decompose.iloc[:,0], mode='lines', name='observed')) #plot the observed\n",
    "    fig.add_trace(go.Scatter(x=decompose.index, y=trend.tolist(), mode='lines', name='trend')) #plot the trend\n",
    "    fig.add_trace(go.Scatter(x=decompose.index, y=seasonal.tolist(), mode='lines', name='seasonal')) #plot the seasonal\n",
    "    fig.add_trace(go.Scatter(x=decompose.index, y=residual.tolist(), mode='lines', name='residual')) #plot the residual\n",
    "    if samples is not None:\n",
    "        for i, s in enumerate(samples):\n",
    "            fig.add_trace(go.Scatter(x=decompose.index, y=s, name='sample '+str(i), mode='lines')) #plot samples\n",
    "    fig.update_layout(title_text='Decomposition')\n",
    "    return fig, trend.dropna().values, seasonal.dropna().values, residual.dropna().values"
   ]
  },
  {
   "cell_type": "code",
   "execution_count": 17,
   "metadata": {
    "scrolled": true
   },
   "outputs": [
    {
     "data": {
      "text/html": [
       "<div>\n",
       "<style scoped>\n",
       "    .dataframe tbody tr th:only-of-type {\n",
       "        vertical-align: middle;\n",
       "    }\n",
       "\n",
       "    .dataframe tbody tr th {\n",
       "        vertical-align: top;\n",
       "    }\n",
       "\n",
       "    .dataframe thead th {\n",
       "        text-align: right;\n",
       "    }\n",
       "</style>\n",
       "<table border=\"1\" class=\"dataframe\">\n",
       "  <thead>\n",
       "    <tr style=\"text-align: right;\">\n",
       "      <th></th>\n",
       "      <th>Date</th>\n",
       "      <th>product_group</th>\n",
       "      <th>dispatches_SellIn</th>\n",
       "      <th>orders_SellIn</th>\n",
       "      <th>SellOut</th>\n",
       "      <th>promo</th>\n",
       "      <th>hyp_promo</th>\n",
       "      <th>type_promo_1</th>\n",
       "      <th>type_promo_2</th>\n",
       "    </tr>\n",
       "  </thead>\n",
       "  <tbody>\n",
       "    <tr>\n",
       "      <th>2</th>\n",
       "      <td>2016-08-07</td>\n",
       "      <td>Product_04</td>\n",
       "      <td>3976</td>\n",
       "      <td>3976</td>\n",
       "      <td>0</td>\n",
       "      <td>0.0</td>\n",
       "      <td>0.000000</td>\n",
       "      <td>0.0</td>\n",
       "      <td>0.0</td>\n",
       "    </tr>\n",
       "    <tr>\n",
       "      <th>8</th>\n",
       "      <td>2016-08-07</td>\n",
       "      <td>Product_11</td>\n",
       "      <td>363</td>\n",
       "      <td>363</td>\n",
       "      <td>0</td>\n",
       "      <td>0.0</td>\n",
       "      <td>0.000000</td>\n",
       "      <td>0.0</td>\n",
       "      <td>0.0</td>\n",
       "    </tr>\n",
       "    <tr>\n",
       "      <th>11</th>\n",
       "      <td>2016-08-07</td>\n",
       "      <td>Product_17</td>\n",
       "      <td>485</td>\n",
       "      <td>485</td>\n",
       "      <td>0</td>\n",
       "      <td>0.0</td>\n",
       "      <td>0.000000</td>\n",
       "      <td>0.0</td>\n",
       "      <td>0.0</td>\n",
       "    </tr>\n",
       "    <tr>\n",
       "      <th>20</th>\n",
       "      <td>2016-08-07</td>\n",
       "      <td>Product_32</td>\n",
       "      <td>224</td>\n",
       "      <td>224</td>\n",
       "      <td>0</td>\n",
       "      <td>0.0</td>\n",
       "      <td>0.000000</td>\n",
       "      <td>0.0</td>\n",
       "      <td>0.0</td>\n",
       "    </tr>\n",
       "    <tr>\n",
       "      <th>30</th>\n",
       "      <td>2016-08-14</td>\n",
       "      <td>Product_04</td>\n",
       "      <td>8845</td>\n",
       "      <td>8845</td>\n",
       "      <td>3752</td>\n",
       "      <td>71.9</td>\n",
       "      <td>0.000000</td>\n",
       "      <td>0.0</td>\n",
       "      <td>0.0</td>\n",
       "    </tr>\n",
       "    <tr>\n",
       "      <th>...</th>\n",
       "      <td>...</td>\n",
       "      <td>...</td>\n",
       "      <td>...</td>\n",
       "      <td>...</td>\n",
       "      <td>...</td>\n",
       "      <td>...</td>\n",
       "      <td>...</td>\n",
       "      <td>...</td>\n",
       "      <td>...</td>\n",
       "    </tr>\n",
       "    <tr>\n",
       "      <th>6820</th>\n",
       "      <td>2019-12-22</td>\n",
       "      <td>Product_32</td>\n",
       "      <td>1982</td>\n",
       "      <td>1982</td>\n",
       "      <td>1540</td>\n",
       "      <td>0.3</td>\n",
       "      <td>0.000000</td>\n",
       "      <td>0.0</td>\n",
       "      <td>0.0</td>\n",
       "    </tr>\n",
       "    <tr>\n",
       "      <th>6834</th>\n",
       "      <td>2019-12-29</td>\n",
       "      <td>Product_04</td>\n",
       "      <td>4510</td>\n",
       "      <td>4510</td>\n",
       "      <td>5162</td>\n",
       "      <td>0.3</td>\n",
       "      <td>0.000000</td>\n",
       "      <td>0.0</td>\n",
       "      <td>0.0</td>\n",
       "    </tr>\n",
       "    <tr>\n",
       "      <th>6841</th>\n",
       "      <td>2019-12-29</td>\n",
       "      <td>Product_11</td>\n",
       "      <td>362</td>\n",
       "      <td>362</td>\n",
       "      <td>361</td>\n",
       "      <td>4.1</td>\n",
       "      <td>62.427746</td>\n",
       "      <td>1.0</td>\n",
       "      <td>1.0</td>\n",
       "    </tr>\n",
       "    <tr>\n",
       "      <th>6847</th>\n",
       "      <td>2019-12-29</td>\n",
       "      <td>Product_17</td>\n",
       "      <td>385</td>\n",
       "      <td>385</td>\n",
       "      <td>672</td>\n",
       "      <td>3.2</td>\n",
       "      <td>0.000000</td>\n",
       "      <td>0.0</td>\n",
       "      <td>0.0</td>\n",
       "    </tr>\n",
       "    <tr>\n",
       "      <th>6862</th>\n",
       "      <td>2019-12-29</td>\n",
       "      <td>Product_32</td>\n",
       "      <td>1671</td>\n",
       "      <td>2190</td>\n",
       "      <td>1298</td>\n",
       "      <td>0.1</td>\n",
       "      <td>0.000000</td>\n",
       "      <td>0.0</td>\n",
       "      <td>0.0</td>\n",
       "    </tr>\n",
       "  </tbody>\n",
       "</table>\n",
       "<p>712 rows × 9 columns</p>\n",
       "</div>"
      ],
      "text/plain": [
       "           Date product_group  dispatches_SellIn  orders_SellIn  SellOut  \\\n",
       "2    2016-08-07    Product_04               3976           3976        0   \n",
       "8    2016-08-07    Product_11                363            363        0   \n",
       "11   2016-08-07    Product_17                485            485        0   \n",
       "20   2016-08-07    Product_32                224            224        0   \n",
       "30   2016-08-14    Product_04               8845           8845     3752   \n",
       "...         ...           ...                ...            ...      ...   \n",
       "6820 2019-12-22    Product_32               1982           1982     1540   \n",
       "6834 2019-12-29    Product_04               4510           4510     5162   \n",
       "6841 2019-12-29    Product_11                362            362      361   \n",
       "6847 2019-12-29    Product_17                385            385      672   \n",
       "6862 2019-12-29    Product_32               1671           2190     1298   \n",
       "\n",
       "      promo  hyp_promo  type_promo_1  type_promo_2  \n",
       "2       0.0   0.000000           0.0           0.0  \n",
       "8       0.0   0.000000           0.0           0.0  \n",
       "11      0.0   0.000000           0.0           0.0  \n",
       "20      0.0   0.000000           0.0           0.0  \n",
       "30     71.9   0.000000           0.0           0.0  \n",
       "...     ...        ...           ...           ...  \n",
       "6820    0.3   0.000000           0.0           0.0  \n",
       "6834    0.3   0.000000           0.0           0.0  \n",
       "6841    4.1  62.427746           1.0           1.0  \n",
       "6847    3.2   0.000000           0.0           0.0  \n",
       "6862    0.1   0.000000           0.0           0.0  \n",
       "\n",
       "[712 rows x 9 columns]"
      ]
     },
     "execution_count": 17,
     "metadata": {},
     "output_type": "execute_result"
    }
   ],
   "source": [
    "df = pd.read_csv('/home/skyolia/JupyterProjects/data/time_series/nestle.csv', sep=';')\n",
    "df.rename(columns={\"PERIOD_TAG\": \"Date\", 'numeric_distribution_selling_promotion': 'promo',\n",
    "                  'numeric_distribution_selling_promotion_hyperparmarkets': 'hyp_promo'}, inplace=True)\n",
    "df['Date'] = pd.to_datetime(df['Date'], format=\"%Y-%m-%d\")\n",
    "df = df.loc[(df['product_group'].isin(['Product_04', 'Product_11', 'Product_17', 'Product_32']))]\n",
    "df = df.drop(columns=[col for col in df.columns if len(df[col].unique()) == 1])\n",
    "df"
   ]
  },
  {
   "cell_type": "code",
   "execution_count": 18,
   "metadata": {},
   "outputs": [
    {
     "data": {
      "text/html": [
       "<div>\n",
       "<style scoped>\n",
       "    .dataframe tbody tr th:only-of-type {\n",
       "        vertical-align: middle;\n",
       "    }\n",
       "\n",
       "    .dataframe tbody tr th {\n",
       "        vertical-align: top;\n",
       "    }\n",
       "\n",
       "    .dataframe thead th {\n",
       "        text-align: right;\n",
       "    }\n",
       "</style>\n",
       "<table border=\"1\" class=\"dataframe\">\n",
       "  <thead>\n",
       "    <tr style=\"text-align: right;\">\n",
       "      <th></th>\n",
       "      <th>Date</th>\n",
       "      <th>product_group</th>\n",
       "      <th>dispatches_SellIn</th>\n",
       "      <th>orders_SellIn</th>\n",
       "      <th>SellOut</th>\n",
       "      <th>promo</th>\n",
       "      <th>hyp_promo</th>\n",
       "      <th>type_promo_1</th>\n",
       "      <th>type_promo_2</th>\n",
       "      <th>sin_dayofyear</th>\n",
       "      <th>cos_dayofyear</th>\n",
       "    </tr>\n",
       "  </thead>\n",
       "  <tbody>\n",
       "    <tr>\n",
       "      <th>2</th>\n",
       "      <td>2016-08-07</td>\n",
       "      <td>Product_04</td>\n",
       "      <td>3976</td>\n",
       "      <td>3976</td>\n",
       "      <td>0</td>\n",
       "      <td>0.0</td>\n",
       "      <td>0.000000</td>\n",
       "      <td>0.0</td>\n",
       "      <td>0.0</td>\n",
       "      <td>-0.601624</td>\n",
       "      <td>-0.798779</td>\n",
       "    </tr>\n",
       "    <tr>\n",
       "      <th>8</th>\n",
       "      <td>2016-08-07</td>\n",
       "      <td>Product_11</td>\n",
       "      <td>363</td>\n",
       "      <td>363</td>\n",
       "      <td>0</td>\n",
       "      <td>0.0</td>\n",
       "      <td>0.000000</td>\n",
       "      <td>0.0</td>\n",
       "      <td>0.0</td>\n",
       "      <td>-0.601624</td>\n",
       "      <td>-0.798779</td>\n",
       "    </tr>\n",
       "    <tr>\n",
       "      <th>11</th>\n",
       "      <td>2016-08-07</td>\n",
       "      <td>Product_17</td>\n",
       "      <td>485</td>\n",
       "      <td>485</td>\n",
       "      <td>0</td>\n",
       "      <td>0.0</td>\n",
       "      <td>0.000000</td>\n",
       "      <td>0.0</td>\n",
       "      <td>0.0</td>\n",
       "      <td>-0.601624</td>\n",
       "      <td>-0.798779</td>\n",
       "    </tr>\n",
       "    <tr>\n",
       "      <th>20</th>\n",
       "      <td>2016-08-07</td>\n",
       "      <td>Product_32</td>\n",
       "      <td>224</td>\n",
       "      <td>224</td>\n",
       "      <td>0</td>\n",
       "      <td>0.0</td>\n",
       "      <td>0.000000</td>\n",
       "      <td>0.0</td>\n",
       "      <td>0.0</td>\n",
       "      <td>-0.601624</td>\n",
       "      <td>-0.798779</td>\n",
       "    </tr>\n",
       "    <tr>\n",
       "      <th>30</th>\n",
       "      <td>2016-08-14</td>\n",
       "      <td>Product_04</td>\n",
       "      <td>8845</td>\n",
       "      <td>8845</td>\n",
       "      <td>3752</td>\n",
       "      <td>71.9</td>\n",
       "      <td>0.000000</td>\n",
       "      <td>0.0</td>\n",
       "      <td>0.0</td>\n",
       "      <td>-0.693281</td>\n",
       "      <td>-0.720667</td>\n",
       "    </tr>\n",
       "    <tr>\n",
       "      <th>...</th>\n",
       "      <td>...</td>\n",
       "      <td>...</td>\n",
       "      <td>...</td>\n",
       "      <td>...</td>\n",
       "      <td>...</td>\n",
       "      <td>...</td>\n",
       "      <td>...</td>\n",
       "      <td>...</td>\n",
       "      <td>...</td>\n",
       "      <td>...</td>\n",
       "      <td>...</td>\n",
       "    </tr>\n",
       "    <tr>\n",
       "      <th>6820</th>\n",
       "      <td>2019-12-22</td>\n",
       "      <td>Product_32</td>\n",
       "      <td>1982</td>\n",
       "      <td>1982</td>\n",
       "      <td>1540</td>\n",
       "      <td>0.3</td>\n",
       "      <td>0.000000</td>\n",
       "      <td>0.0</td>\n",
       "      <td>0.0</td>\n",
       "      <td>-0.154309</td>\n",
       "      <td>0.988023</td>\n",
       "    </tr>\n",
       "    <tr>\n",
       "      <th>6834</th>\n",
       "      <td>2019-12-29</td>\n",
       "      <td>Product_04</td>\n",
       "      <td>4510</td>\n",
       "      <td>4510</td>\n",
       "      <td>5162</td>\n",
       "      <td>0.3</td>\n",
       "      <td>0.000000</td>\n",
       "      <td>0.0</td>\n",
       "      <td>0.0</td>\n",
       "      <td>-0.034422</td>\n",
       "      <td>0.999407</td>\n",
       "    </tr>\n",
       "    <tr>\n",
       "      <th>6841</th>\n",
       "      <td>2019-12-29</td>\n",
       "      <td>Product_11</td>\n",
       "      <td>362</td>\n",
       "      <td>362</td>\n",
       "      <td>361</td>\n",
       "      <td>4.1</td>\n",
       "      <td>62.427746</td>\n",
       "      <td>1.0</td>\n",
       "      <td>1.0</td>\n",
       "      <td>-0.034422</td>\n",
       "      <td>0.999407</td>\n",
       "    </tr>\n",
       "    <tr>\n",
       "      <th>6847</th>\n",
       "      <td>2019-12-29</td>\n",
       "      <td>Product_17</td>\n",
       "      <td>385</td>\n",
       "      <td>385</td>\n",
       "      <td>672</td>\n",
       "      <td>3.2</td>\n",
       "      <td>0.000000</td>\n",
       "      <td>0.0</td>\n",
       "      <td>0.0</td>\n",
       "      <td>-0.034422</td>\n",
       "      <td>0.999407</td>\n",
       "    </tr>\n",
       "    <tr>\n",
       "      <th>6862</th>\n",
       "      <td>2019-12-29</td>\n",
       "      <td>Product_32</td>\n",
       "      <td>1671</td>\n",
       "      <td>2190</td>\n",
       "      <td>1298</td>\n",
       "      <td>0.1</td>\n",
       "      <td>0.000000</td>\n",
       "      <td>0.0</td>\n",
       "      <td>0.0</td>\n",
       "      <td>-0.034422</td>\n",
       "      <td>0.999407</td>\n",
       "    </tr>\n",
       "  </tbody>\n",
       "</table>\n",
       "<p>712 rows × 11 columns</p>\n",
       "</div>"
      ],
      "text/plain": [
       "           Date product_group  dispatches_SellIn  orders_SellIn  SellOut  \\\n",
       "2    2016-08-07    Product_04               3976           3976        0   \n",
       "8    2016-08-07    Product_11                363            363        0   \n",
       "11   2016-08-07    Product_17                485            485        0   \n",
       "20   2016-08-07    Product_32                224            224        0   \n",
       "30   2016-08-14    Product_04               8845           8845     3752   \n",
       "...         ...           ...                ...            ...      ...   \n",
       "6820 2019-12-22    Product_32               1982           1982     1540   \n",
       "6834 2019-12-29    Product_04               4510           4510     5162   \n",
       "6841 2019-12-29    Product_11                362            362      361   \n",
       "6847 2019-12-29    Product_17                385            385      672   \n",
       "6862 2019-12-29    Product_32               1671           2190     1298   \n",
       "\n",
       "      promo  hyp_promo  type_promo_1  type_promo_2  sin_dayofyear  \\\n",
       "2       0.0   0.000000           0.0           0.0      -0.601624   \n",
       "8       0.0   0.000000           0.0           0.0      -0.601624   \n",
       "11      0.0   0.000000           0.0           0.0      -0.601624   \n",
       "20      0.0   0.000000           0.0           0.0      -0.601624   \n",
       "30     71.9   0.000000           0.0           0.0      -0.693281   \n",
       "...     ...        ...           ...           ...            ...   \n",
       "6820    0.3   0.000000           0.0           0.0      -0.154309   \n",
       "6834    0.3   0.000000           0.0           0.0      -0.034422   \n",
       "6841    4.1  62.427746           1.0           1.0      -0.034422   \n",
       "6847    3.2   0.000000           0.0           0.0      -0.034422   \n",
       "6862    0.1   0.000000           0.0           0.0      -0.034422   \n",
       "\n",
       "      cos_dayofyear  \n",
       "2         -0.798779  \n",
       "8         -0.798779  \n",
       "11        -0.798779  \n",
       "20        -0.798779  \n",
       "30        -0.720667  \n",
       "...             ...  \n",
       "6820       0.988023  \n",
       "6834       0.999407  \n",
       "6841       0.999407  \n",
       "6847       0.999407  \n",
       "6862       0.999407  \n",
       "\n",
       "[712 rows x 11 columns]"
      ]
     },
     "execution_count": 18,
     "metadata": {},
     "output_type": "execute_result"
    }
   ],
   "source": [
    "'''df['dayofweek'] = df['Date'].dt.dayofweek \n",
    "df['sin_dayofweek'] = np.sin(2*np.pi*df['dayofweek']/np.max(df['dayofweek']))\n",
    "df['cos_dayofweek'] = np.cos(2*np.pi*df['dayofweek']/np.max(df['dayofweek']))\n",
    "df.drop(columns=['dayofweek'], inplace=True)'''\n",
    "\n",
    "df['dayofyear'] = df['Date'].dt.dayofyear\n",
    "df['sin_dayofyear'] = np.sin(2*np.pi*df['dayofyear']/np.max(df['dayofyear']))\n",
    "df['cos_dayofyear'] = np.cos(2*np.pi*df['dayofyear']/np.max(df['dayofyear']))\n",
    "df.drop(columns=['dayofyear'], inplace=True)\n",
    "df"
   ]
  },
  {
   "cell_type": "code",
   "execution_count": 19,
   "metadata": {},
   "outputs": [],
   "source": [
    "output_col = ['SellOut']\n",
    "time_col = 'Date'\n",
    "to_remove = ['dispatches_SellIn', 'orders_SellIn']\n",
    "categorical = ['product_group']\n",
    "binary = ['type_promo_1', 'type_promo_2']\n",
    "numerical = [col for col in df.columns if col not in categorical + binary + to_remove + output_col + [time_col]]\n",
    "df[numerical] = df[numerical].apply(pd.to_numeric,1)"
   ]
  },
  {
   "cell_type": "code",
   "execution_count": 48,
   "metadata": {
    "collapsed": true
   },
   "outputs": [
    {
     "data": {
      "application/vnd.plotly.v1+json": {
       "config": {
        "plotlyServerURL": "https://plot.ly"
       },
       "data": [
        {
         "type": "heatmap",
         "x": [
          "promo",
          "hyp_promo",
          "SellOut"
         ],
         "y": [
          "promo",
          "hyp_promo",
          "SellOut"
         ],
         "z": [
          [
           1,
           0.6717134387595098,
           0.41076736258325197
          ],
          [
           0.6717134387595098,
           1,
           0.22959189333518273
          ],
          [
           0.41076736258325197,
           0.22959189333518273,
           1
          ]
         ]
        }
       ],
       "layout": {
        "template": {
         "data": {
          "bar": [
           {
            "error_x": {
             "color": "#2a3f5f"
            },
            "error_y": {
             "color": "#2a3f5f"
            },
            "marker": {
             "line": {
              "color": "#E5ECF6",
              "width": 0.5
             },
             "pattern": {
              "fillmode": "overlay",
              "size": 10,
              "solidity": 0.2
             }
            },
            "type": "bar"
           }
          ],
          "barpolar": [
           {
            "marker": {
             "line": {
              "color": "#E5ECF6",
              "width": 0.5
             },
             "pattern": {
              "fillmode": "overlay",
              "size": 10,
              "solidity": 0.2
             }
            },
            "type": "barpolar"
           }
          ],
          "carpet": [
           {
            "aaxis": {
             "endlinecolor": "#2a3f5f",
             "gridcolor": "white",
             "linecolor": "white",
             "minorgridcolor": "white",
             "startlinecolor": "#2a3f5f"
            },
            "baxis": {
             "endlinecolor": "#2a3f5f",
             "gridcolor": "white",
             "linecolor": "white",
             "minorgridcolor": "white",
             "startlinecolor": "#2a3f5f"
            },
            "type": "carpet"
           }
          ],
          "choropleth": [
           {
            "colorbar": {
             "outlinewidth": 0,
             "ticks": ""
            },
            "type": "choropleth"
           }
          ],
          "contour": [
           {
            "colorbar": {
             "outlinewidth": 0,
             "ticks": ""
            },
            "colorscale": [
             [
              0,
              "#0d0887"
             ],
             [
              0.1111111111111111,
              "#46039f"
             ],
             [
              0.2222222222222222,
              "#7201a8"
             ],
             [
              0.3333333333333333,
              "#9c179e"
             ],
             [
              0.4444444444444444,
              "#bd3786"
             ],
             [
              0.5555555555555556,
              "#d8576b"
             ],
             [
              0.6666666666666666,
              "#ed7953"
             ],
             [
              0.7777777777777778,
              "#fb9f3a"
             ],
             [
              0.8888888888888888,
              "#fdca26"
             ],
             [
              1,
              "#f0f921"
             ]
            ],
            "type": "contour"
           }
          ],
          "contourcarpet": [
           {
            "colorbar": {
             "outlinewidth": 0,
             "ticks": ""
            },
            "type": "contourcarpet"
           }
          ],
          "heatmap": [
           {
            "colorbar": {
             "outlinewidth": 0,
             "ticks": ""
            },
            "colorscale": [
             [
              0,
              "#0d0887"
             ],
             [
              0.1111111111111111,
              "#46039f"
             ],
             [
              0.2222222222222222,
              "#7201a8"
             ],
             [
              0.3333333333333333,
              "#9c179e"
             ],
             [
              0.4444444444444444,
              "#bd3786"
             ],
             [
              0.5555555555555556,
              "#d8576b"
             ],
             [
              0.6666666666666666,
              "#ed7953"
             ],
             [
              0.7777777777777778,
              "#fb9f3a"
             ],
             [
              0.8888888888888888,
              "#fdca26"
             ],
             [
              1,
              "#f0f921"
             ]
            ],
            "type": "heatmap"
           }
          ],
          "heatmapgl": [
           {
            "colorbar": {
             "outlinewidth": 0,
             "ticks": ""
            },
            "colorscale": [
             [
              0,
              "#0d0887"
             ],
             [
              0.1111111111111111,
              "#46039f"
             ],
             [
              0.2222222222222222,
              "#7201a8"
             ],
             [
              0.3333333333333333,
              "#9c179e"
             ],
             [
              0.4444444444444444,
              "#bd3786"
             ],
             [
              0.5555555555555556,
              "#d8576b"
             ],
             [
              0.6666666666666666,
              "#ed7953"
             ],
             [
              0.7777777777777778,
              "#fb9f3a"
             ],
             [
              0.8888888888888888,
              "#fdca26"
             ],
             [
              1,
              "#f0f921"
             ]
            ],
            "type": "heatmapgl"
           }
          ],
          "histogram": [
           {
            "marker": {
             "pattern": {
              "fillmode": "overlay",
              "size": 10,
              "solidity": 0.2
             }
            },
            "type": "histogram"
           }
          ],
          "histogram2d": [
           {
            "colorbar": {
             "outlinewidth": 0,
             "ticks": ""
            },
            "colorscale": [
             [
              0,
              "#0d0887"
             ],
             [
              0.1111111111111111,
              "#46039f"
             ],
             [
              0.2222222222222222,
              "#7201a8"
             ],
             [
              0.3333333333333333,
              "#9c179e"
             ],
             [
              0.4444444444444444,
              "#bd3786"
             ],
             [
              0.5555555555555556,
              "#d8576b"
             ],
             [
              0.6666666666666666,
              "#ed7953"
             ],
             [
              0.7777777777777778,
              "#fb9f3a"
             ],
             [
              0.8888888888888888,
              "#fdca26"
             ],
             [
              1,
              "#f0f921"
             ]
            ],
            "type": "histogram2d"
           }
          ],
          "histogram2dcontour": [
           {
            "colorbar": {
             "outlinewidth": 0,
             "ticks": ""
            },
            "colorscale": [
             [
              0,
              "#0d0887"
             ],
             [
              0.1111111111111111,
              "#46039f"
             ],
             [
              0.2222222222222222,
              "#7201a8"
             ],
             [
              0.3333333333333333,
              "#9c179e"
             ],
             [
              0.4444444444444444,
              "#bd3786"
             ],
             [
              0.5555555555555556,
              "#d8576b"
             ],
             [
              0.6666666666666666,
              "#ed7953"
             ],
             [
              0.7777777777777778,
              "#fb9f3a"
             ],
             [
              0.8888888888888888,
              "#fdca26"
             ],
             [
              1,
              "#f0f921"
             ]
            ],
            "type": "histogram2dcontour"
           }
          ],
          "mesh3d": [
           {
            "colorbar": {
             "outlinewidth": 0,
             "ticks": ""
            },
            "type": "mesh3d"
           }
          ],
          "parcoords": [
           {
            "line": {
             "colorbar": {
              "outlinewidth": 0,
              "ticks": ""
             }
            },
            "type": "parcoords"
           }
          ],
          "pie": [
           {
            "automargin": true,
            "type": "pie"
           }
          ],
          "scatter": [
           {
            "marker": {
             "colorbar": {
              "outlinewidth": 0,
              "ticks": ""
             }
            },
            "type": "scatter"
           }
          ],
          "scatter3d": [
           {
            "line": {
             "colorbar": {
              "outlinewidth": 0,
              "ticks": ""
             }
            },
            "marker": {
             "colorbar": {
              "outlinewidth": 0,
              "ticks": ""
             }
            },
            "type": "scatter3d"
           }
          ],
          "scattercarpet": [
           {
            "marker": {
             "colorbar": {
              "outlinewidth": 0,
              "ticks": ""
             }
            },
            "type": "scattercarpet"
           }
          ],
          "scattergeo": [
           {
            "marker": {
             "colorbar": {
              "outlinewidth": 0,
              "ticks": ""
             }
            },
            "type": "scattergeo"
           }
          ],
          "scattergl": [
           {
            "marker": {
             "colorbar": {
              "outlinewidth": 0,
              "ticks": ""
             }
            },
            "type": "scattergl"
           }
          ],
          "scattermapbox": [
           {
            "marker": {
             "colorbar": {
              "outlinewidth": 0,
              "ticks": ""
             }
            },
            "type": "scattermapbox"
           }
          ],
          "scatterpolar": [
           {
            "marker": {
             "colorbar": {
              "outlinewidth": 0,
              "ticks": ""
             }
            },
            "type": "scatterpolar"
           }
          ],
          "scatterpolargl": [
           {
            "marker": {
             "colorbar": {
              "outlinewidth": 0,
              "ticks": ""
             }
            },
            "type": "scatterpolargl"
           }
          ],
          "scatterternary": [
           {
            "marker": {
             "colorbar": {
              "outlinewidth": 0,
              "ticks": ""
             }
            },
            "type": "scatterternary"
           }
          ],
          "surface": [
           {
            "colorbar": {
             "outlinewidth": 0,
             "ticks": ""
            },
            "colorscale": [
             [
              0,
              "#0d0887"
             ],
             [
              0.1111111111111111,
              "#46039f"
             ],
             [
              0.2222222222222222,
              "#7201a8"
             ],
             [
              0.3333333333333333,
              "#9c179e"
             ],
             [
              0.4444444444444444,
              "#bd3786"
             ],
             [
              0.5555555555555556,
              "#d8576b"
             ],
             [
              0.6666666666666666,
              "#ed7953"
             ],
             [
              0.7777777777777778,
              "#fb9f3a"
             ],
             [
              0.8888888888888888,
              "#fdca26"
             ],
             [
              1,
              "#f0f921"
             ]
            ],
            "type": "surface"
           }
          ],
          "table": [
           {
            "cells": {
             "fill": {
              "color": "#EBF0F8"
             },
             "line": {
              "color": "white"
             }
            },
            "header": {
             "fill": {
              "color": "#C8D4E3"
             },
             "line": {
              "color": "white"
             }
            },
            "type": "table"
           }
          ]
         },
         "layout": {
          "annotationdefaults": {
           "arrowcolor": "#2a3f5f",
           "arrowhead": 0,
           "arrowwidth": 1
          },
          "autotypenumbers": "strict",
          "coloraxis": {
           "colorbar": {
            "outlinewidth": 0,
            "ticks": ""
           }
          },
          "colorscale": {
           "diverging": [
            [
             0,
             "#8e0152"
            ],
            [
             0.1,
             "#c51b7d"
            ],
            [
             0.2,
             "#de77ae"
            ],
            [
             0.3,
             "#f1b6da"
            ],
            [
             0.4,
             "#fde0ef"
            ],
            [
             0.5,
             "#f7f7f7"
            ],
            [
             0.6,
             "#e6f5d0"
            ],
            [
             0.7,
             "#b8e186"
            ],
            [
             0.8,
             "#7fbc41"
            ],
            [
             0.9,
             "#4d9221"
            ],
            [
             1,
             "#276419"
            ]
           ],
           "sequential": [
            [
             0,
             "#0d0887"
            ],
            [
             0.1111111111111111,
             "#46039f"
            ],
            [
             0.2222222222222222,
             "#7201a8"
            ],
            [
             0.3333333333333333,
             "#9c179e"
            ],
            [
             0.4444444444444444,
             "#bd3786"
            ],
            [
             0.5555555555555556,
             "#d8576b"
            ],
            [
             0.6666666666666666,
             "#ed7953"
            ],
            [
             0.7777777777777778,
             "#fb9f3a"
            ],
            [
             0.8888888888888888,
             "#fdca26"
            ],
            [
             1,
             "#f0f921"
            ]
           ],
           "sequentialminus": [
            [
             0,
             "#0d0887"
            ],
            [
             0.1111111111111111,
             "#46039f"
            ],
            [
             0.2222222222222222,
             "#7201a8"
            ],
            [
             0.3333333333333333,
             "#9c179e"
            ],
            [
             0.4444444444444444,
             "#bd3786"
            ],
            [
             0.5555555555555556,
             "#d8576b"
            ],
            [
             0.6666666666666666,
             "#ed7953"
            ],
            [
             0.7777777777777778,
             "#fb9f3a"
            ],
            [
             0.8888888888888888,
             "#fdca26"
            ],
            [
             1,
             "#f0f921"
            ]
           ]
          },
          "colorway": [
           "#636efa",
           "#EF553B",
           "#00cc96",
           "#ab63fa",
           "#FFA15A",
           "#19d3f3",
           "#FF6692",
           "#B6E880",
           "#FF97FF",
           "#FECB52"
          ],
          "font": {
           "color": "#2a3f5f"
          },
          "geo": {
           "bgcolor": "white",
           "lakecolor": "white",
           "landcolor": "#E5ECF6",
           "showlakes": true,
           "showland": true,
           "subunitcolor": "white"
          },
          "hoverlabel": {
           "align": "left"
          },
          "hovermode": "closest",
          "mapbox": {
           "style": "light"
          },
          "paper_bgcolor": "white",
          "plot_bgcolor": "#E5ECF6",
          "polar": {
           "angularaxis": {
            "gridcolor": "white",
            "linecolor": "white",
            "ticks": ""
           },
           "bgcolor": "#E5ECF6",
           "radialaxis": {
            "gridcolor": "white",
            "linecolor": "white",
            "ticks": ""
           }
          },
          "scene": {
           "xaxis": {
            "backgroundcolor": "#E5ECF6",
            "gridcolor": "white",
            "gridwidth": 2,
            "linecolor": "white",
            "showbackground": true,
            "ticks": "",
            "zerolinecolor": "white"
           },
           "yaxis": {
            "backgroundcolor": "#E5ECF6",
            "gridcolor": "white",
            "gridwidth": 2,
            "linecolor": "white",
            "showbackground": true,
            "ticks": "",
            "zerolinecolor": "white"
           },
           "zaxis": {
            "backgroundcolor": "#E5ECF6",
            "gridcolor": "white",
            "gridwidth": 2,
            "linecolor": "white",
            "showbackground": true,
            "ticks": "",
            "zerolinecolor": "white"
           }
          },
          "shapedefaults": {
           "line": {
            "color": "#2a3f5f"
           }
          },
          "ternary": {
           "aaxis": {
            "gridcolor": "white",
            "linecolor": "white",
            "ticks": ""
           },
           "baxis": {
            "gridcolor": "white",
            "linecolor": "white",
            "ticks": ""
           },
           "bgcolor": "#E5ECF6",
           "caxis": {
            "gridcolor": "white",
            "linecolor": "white",
            "ticks": ""
           }
          },
          "title": {
           "x": 0.05
          },
          "xaxis": {
           "automargin": true,
           "gridcolor": "white",
           "linecolor": "white",
           "ticks": "",
           "title": {
            "standoff": 15
           },
           "zerolinecolor": "white",
           "zerolinewidth": 2
          },
          "yaxis": {
           "automargin": true,
           "gridcolor": "white",
           "linecolor": "white",
           "ticks": "",
           "title": {
            "standoff": 15
           },
           "zerolinecolor": "white",
           "zerolinewidth": 2
          }
         }
        }
       }
      },
      "text/html": [
       "<div>                            <div id=\"44e9ed36-3cf4-4811-a2e5-75abdd0e53a0\" class=\"plotly-graph-div\" style=\"height:525px; width:100%;\"></div>            <script type=\"text/javascript\">                require([\"plotly\"], function(Plotly) {                    window.PLOTLYENV=window.PLOTLYENV || {};                                    if (document.getElementById(\"44e9ed36-3cf4-4811-a2e5-75abdd0e53a0\")) {                    Plotly.newPlot(                        \"44e9ed36-3cf4-4811-a2e5-75abdd0e53a0\",                        [{\"x\":[\"promo\",\"hyp_promo\",\"SellOut\"],\"y\":[\"promo\",\"hyp_promo\",\"SellOut\"],\"z\":[[1.0,0.6717134387595098,0.41076736258325197],[0.6717134387595098,1.0,0.22959189333518273],[0.41076736258325197,0.22959189333518273,1.0]],\"type\":\"heatmap\"}],                        {\"template\":{\"data\":{\"bar\":[{\"error_x\":{\"color\":\"#2a3f5f\"},\"error_y\":{\"color\":\"#2a3f5f\"},\"marker\":{\"line\":{\"color\":\"#E5ECF6\",\"width\":0.5},\"pattern\":{\"fillmode\":\"overlay\",\"size\":10,\"solidity\":0.2}},\"type\":\"bar\"}],\"barpolar\":[{\"marker\":{\"line\":{\"color\":\"#E5ECF6\",\"width\":0.5},\"pattern\":{\"fillmode\":\"overlay\",\"size\":10,\"solidity\":0.2}},\"type\":\"barpolar\"}],\"carpet\":[{\"aaxis\":{\"endlinecolor\":\"#2a3f5f\",\"gridcolor\":\"white\",\"linecolor\":\"white\",\"minorgridcolor\":\"white\",\"startlinecolor\":\"#2a3f5f\"},\"baxis\":{\"endlinecolor\":\"#2a3f5f\",\"gridcolor\":\"white\",\"linecolor\":\"white\",\"minorgridcolor\":\"white\",\"startlinecolor\":\"#2a3f5f\"},\"type\":\"carpet\"}],\"choropleth\":[{\"colorbar\":{\"outlinewidth\":0,\"ticks\":\"\"},\"type\":\"choropleth\"}],\"contour\":[{\"colorbar\":{\"outlinewidth\":0,\"ticks\":\"\"},\"colorscale\":[[0.0,\"#0d0887\"],[0.1111111111111111,\"#46039f\"],[0.2222222222222222,\"#7201a8\"],[0.3333333333333333,\"#9c179e\"],[0.4444444444444444,\"#bd3786\"],[0.5555555555555556,\"#d8576b\"],[0.6666666666666666,\"#ed7953\"],[0.7777777777777778,\"#fb9f3a\"],[0.8888888888888888,\"#fdca26\"],[1.0,\"#f0f921\"]],\"type\":\"contour\"}],\"contourcarpet\":[{\"colorbar\":{\"outlinewidth\":0,\"ticks\":\"\"},\"type\":\"contourcarpet\"}],\"heatmap\":[{\"colorbar\":{\"outlinewidth\":0,\"ticks\":\"\"},\"colorscale\":[[0.0,\"#0d0887\"],[0.1111111111111111,\"#46039f\"],[0.2222222222222222,\"#7201a8\"],[0.3333333333333333,\"#9c179e\"],[0.4444444444444444,\"#bd3786\"],[0.5555555555555556,\"#d8576b\"],[0.6666666666666666,\"#ed7953\"],[0.7777777777777778,\"#fb9f3a\"],[0.8888888888888888,\"#fdca26\"],[1.0,\"#f0f921\"]],\"type\":\"heatmap\"}],\"heatmapgl\":[{\"colorbar\":{\"outlinewidth\":0,\"ticks\":\"\"},\"colorscale\":[[0.0,\"#0d0887\"],[0.1111111111111111,\"#46039f\"],[0.2222222222222222,\"#7201a8\"],[0.3333333333333333,\"#9c179e\"],[0.4444444444444444,\"#bd3786\"],[0.5555555555555556,\"#d8576b\"],[0.6666666666666666,\"#ed7953\"],[0.7777777777777778,\"#fb9f3a\"],[0.8888888888888888,\"#fdca26\"],[1.0,\"#f0f921\"]],\"type\":\"heatmapgl\"}],\"histogram\":[{\"marker\":{\"pattern\":{\"fillmode\":\"overlay\",\"size\":10,\"solidity\":0.2}},\"type\":\"histogram\"}],\"histogram2d\":[{\"colorbar\":{\"outlinewidth\":0,\"ticks\":\"\"},\"colorscale\":[[0.0,\"#0d0887\"],[0.1111111111111111,\"#46039f\"],[0.2222222222222222,\"#7201a8\"],[0.3333333333333333,\"#9c179e\"],[0.4444444444444444,\"#bd3786\"],[0.5555555555555556,\"#d8576b\"],[0.6666666666666666,\"#ed7953\"],[0.7777777777777778,\"#fb9f3a\"],[0.8888888888888888,\"#fdca26\"],[1.0,\"#f0f921\"]],\"type\":\"histogram2d\"}],\"histogram2dcontour\":[{\"colorbar\":{\"outlinewidth\":0,\"ticks\":\"\"},\"colorscale\":[[0.0,\"#0d0887\"],[0.1111111111111111,\"#46039f\"],[0.2222222222222222,\"#7201a8\"],[0.3333333333333333,\"#9c179e\"],[0.4444444444444444,\"#bd3786\"],[0.5555555555555556,\"#d8576b\"],[0.6666666666666666,\"#ed7953\"],[0.7777777777777778,\"#fb9f3a\"],[0.8888888888888888,\"#fdca26\"],[1.0,\"#f0f921\"]],\"type\":\"histogram2dcontour\"}],\"mesh3d\":[{\"colorbar\":{\"outlinewidth\":0,\"ticks\":\"\"},\"type\":\"mesh3d\"}],\"parcoords\":[{\"line\":{\"colorbar\":{\"outlinewidth\":0,\"ticks\":\"\"}},\"type\":\"parcoords\"}],\"pie\":[{\"automargin\":true,\"type\":\"pie\"}],\"scatter\":[{\"marker\":{\"colorbar\":{\"outlinewidth\":0,\"ticks\":\"\"}},\"type\":\"scatter\"}],\"scatter3d\":[{\"line\":{\"colorbar\":{\"outlinewidth\":0,\"ticks\":\"\"}},\"marker\":{\"colorbar\":{\"outlinewidth\":0,\"ticks\":\"\"}},\"type\":\"scatter3d\"}],\"scattercarpet\":[{\"marker\":{\"colorbar\":{\"outlinewidth\":0,\"ticks\":\"\"}},\"type\":\"scattercarpet\"}],\"scattergeo\":[{\"marker\":{\"colorbar\":{\"outlinewidth\":0,\"ticks\":\"\"}},\"type\":\"scattergeo\"}],\"scattergl\":[{\"marker\":{\"colorbar\":{\"outlinewidth\":0,\"ticks\":\"\"}},\"type\":\"scattergl\"}],\"scattermapbox\":[{\"marker\":{\"colorbar\":{\"outlinewidth\":0,\"ticks\":\"\"}},\"type\":\"scattermapbox\"}],\"scatterpolar\":[{\"marker\":{\"colorbar\":{\"outlinewidth\":0,\"ticks\":\"\"}},\"type\":\"scatterpolar\"}],\"scatterpolargl\":[{\"marker\":{\"colorbar\":{\"outlinewidth\":0,\"ticks\":\"\"}},\"type\":\"scatterpolargl\"}],\"scatterternary\":[{\"marker\":{\"colorbar\":{\"outlinewidth\":0,\"ticks\":\"\"}},\"type\":\"scatterternary\"}],\"surface\":[{\"colorbar\":{\"outlinewidth\":0,\"ticks\":\"\"},\"colorscale\":[[0.0,\"#0d0887\"],[0.1111111111111111,\"#46039f\"],[0.2222222222222222,\"#7201a8\"],[0.3333333333333333,\"#9c179e\"],[0.4444444444444444,\"#bd3786\"],[0.5555555555555556,\"#d8576b\"],[0.6666666666666666,\"#ed7953\"],[0.7777777777777778,\"#fb9f3a\"],[0.8888888888888888,\"#fdca26\"],[1.0,\"#f0f921\"]],\"type\":\"surface\"}],\"table\":[{\"cells\":{\"fill\":{\"color\":\"#EBF0F8\"},\"line\":{\"color\":\"white\"}},\"header\":{\"fill\":{\"color\":\"#C8D4E3\"},\"line\":{\"color\":\"white\"}},\"type\":\"table\"}]},\"layout\":{\"annotationdefaults\":{\"arrowcolor\":\"#2a3f5f\",\"arrowhead\":0,\"arrowwidth\":1},\"autotypenumbers\":\"strict\",\"coloraxis\":{\"colorbar\":{\"outlinewidth\":0,\"ticks\":\"\"}},\"colorscale\":{\"diverging\":[[0,\"#8e0152\"],[0.1,\"#c51b7d\"],[0.2,\"#de77ae\"],[0.3,\"#f1b6da\"],[0.4,\"#fde0ef\"],[0.5,\"#f7f7f7\"],[0.6,\"#e6f5d0\"],[0.7,\"#b8e186\"],[0.8,\"#7fbc41\"],[0.9,\"#4d9221\"],[1,\"#276419\"]],\"sequential\":[[0.0,\"#0d0887\"],[0.1111111111111111,\"#46039f\"],[0.2222222222222222,\"#7201a8\"],[0.3333333333333333,\"#9c179e\"],[0.4444444444444444,\"#bd3786\"],[0.5555555555555556,\"#d8576b\"],[0.6666666666666666,\"#ed7953\"],[0.7777777777777778,\"#fb9f3a\"],[0.8888888888888888,\"#fdca26\"],[1.0,\"#f0f921\"]],\"sequentialminus\":[[0.0,\"#0d0887\"],[0.1111111111111111,\"#46039f\"],[0.2222222222222222,\"#7201a8\"],[0.3333333333333333,\"#9c179e\"],[0.4444444444444444,\"#bd3786\"],[0.5555555555555556,\"#d8576b\"],[0.6666666666666666,\"#ed7953\"],[0.7777777777777778,\"#fb9f3a\"],[0.8888888888888888,\"#fdca26\"],[1.0,\"#f0f921\"]]},\"colorway\":[\"#636efa\",\"#EF553B\",\"#00cc96\",\"#ab63fa\",\"#FFA15A\",\"#19d3f3\",\"#FF6692\",\"#B6E880\",\"#FF97FF\",\"#FECB52\"],\"font\":{\"color\":\"#2a3f5f\"},\"geo\":{\"bgcolor\":\"white\",\"lakecolor\":\"white\",\"landcolor\":\"#E5ECF6\",\"showlakes\":true,\"showland\":true,\"subunitcolor\":\"white\"},\"hoverlabel\":{\"align\":\"left\"},\"hovermode\":\"closest\",\"mapbox\":{\"style\":\"light\"},\"paper_bgcolor\":\"white\",\"plot_bgcolor\":\"#E5ECF6\",\"polar\":{\"angularaxis\":{\"gridcolor\":\"white\",\"linecolor\":\"white\",\"ticks\":\"\"},\"bgcolor\":\"#E5ECF6\",\"radialaxis\":{\"gridcolor\":\"white\",\"linecolor\":\"white\",\"ticks\":\"\"}},\"scene\":{\"xaxis\":{\"backgroundcolor\":\"#E5ECF6\",\"gridcolor\":\"white\",\"gridwidth\":2,\"linecolor\":\"white\",\"showbackground\":true,\"ticks\":\"\",\"zerolinecolor\":\"white\"},\"yaxis\":{\"backgroundcolor\":\"#E5ECF6\",\"gridcolor\":\"white\",\"gridwidth\":2,\"linecolor\":\"white\",\"showbackground\":true,\"ticks\":\"\",\"zerolinecolor\":\"white\"},\"zaxis\":{\"backgroundcolor\":\"#E5ECF6\",\"gridcolor\":\"white\",\"gridwidth\":2,\"linecolor\":\"white\",\"showbackground\":true,\"ticks\":\"\",\"zerolinecolor\":\"white\"}},\"shapedefaults\":{\"line\":{\"color\":\"#2a3f5f\"}},\"ternary\":{\"aaxis\":{\"gridcolor\":\"white\",\"linecolor\":\"white\",\"ticks\":\"\"},\"baxis\":{\"gridcolor\":\"white\",\"linecolor\":\"white\",\"ticks\":\"\"},\"bgcolor\":\"#E5ECF6\",\"caxis\":{\"gridcolor\":\"white\",\"linecolor\":\"white\",\"ticks\":\"\"}},\"title\":{\"x\":0.05},\"xaxis\":{\"automargin\":true,\"gridcolor\":\"white\",\"linecolor\":\"white\",\"ticks\":\"\",\"title\":{\"standoff\":15},\"zerolinecolor\":\"white\",\"zerolinewidth\":2},\"yaxis\":{\"automargin\":true,\"gridcolor\":\"white\",\"linecolor\":\"white\",\"ticks\":\"\",\"title\":{\"standoff\":15},\"zerolinecolor\":\"white\",\"zerolinewidth\":2}}}},                        {\"responsive\": true}                    ).then(function(){\n",
       "                            \n",
       "var gd = document.getElementById('44e9ed36-3cf4-4811-a2e5-75abdd0e53a0');\n",
       "var x = new MutationObserver(function (mutations, observer) {{\n",
       "        var display = window.getComputedStyle(gd).display;\n",
       "        if (!display || display === 'none') {{\n",
       "            console.log([gd, 'removed!']);\n",
       "            Plotly.purge(gd);\n",
       "            observer.disconnect();\n",
       "        }}\n",
       "}});\n",
       "\n",
       "// Listen for the removal of the full notebook cells\n",
       "var notebookContainer = gd.closest('#notebook-container');\n",
       "if (notebookContainer) {{\n",
       "    x.observe(notebookContainer, {childList: true});\n",
       "}}\n",
       "\n",
       "// Listen for the clearing of the current output cell\n",
       "var outputEl = gd.closest('.output');\n",
       "if (outputEl) {{\n",
       "    x.observe(outputEl, {childList: true});\n",
       "}}\n",
       "\n",
       "                        })                };                });            </script>        </div>"
      ]
     },
     "metadata": {},
     "output_type": "display_data"
    }
   ],
   "source": [
    "fig = go.Figure(data=go.Heatmap(z=df[numerical+output_col].corr(),x=numerical+output_col,y=numerical+output_col))\n",
    "fig.show()"
   ]
  },
  {
   "cell_type": "code",
   "execution_count": 20,
   "metadata": {},
   "outputs": [
    {
     "name": "stderr",
     "output_type": "stream",
     "text": [
      "/home/skyolia/anaconda3/lib/python3.8/site-packages/pandas/core/frame.py:3678: SettingWithCopyWarning:\n",
      "\n",
      "\n",
      "A value is trying to be set on a copy of a slice from a DataFrame.\n",
      "Try using .loc[row_indexer,col_indexer] = value instead\n",
      "\n",
      "See the caveats in the documentation: https://pandas.pydata.org/pandas-docs/stable/user_guide/indexing.html#returning-a-view-versus-a-copy\n",
      "\n",
      "/home/skyolia/anaconda3/lib/python3.8/site-packages/pandas/core/frame.py:3641: SettingWithCopyWarning:\n",
      "\n",
      "\n",
      "A value is trying to be set on a copy of a slice from a DataFrame.\n",
      "Try using .loc[row_indexer,col_indexer] = value instead\n",
      "\n",
      "See the caveats in the documentation: https://pandas.pydata.org/pandas-docs/stable/user_guide/indexing.html#returning-a-view-versus-a-copy\n",
      "\n"
     ]
    },
    {
     "data": {
      "text/plain": [
       "((608, 7), (104, 7), (608,), (104,))"
      ]
     },
     "execution_count": 20,
     "metadata": {},
     "output_type": "execute_result"
    }
   ],
   "source": [
    "train = df[df['Date'] < '2019-07-01']\n",
    "test = df[df['Date']>='2019-07-01']\n",
    "features = categorical + numerical + binary\n",
    "\n",
    "X_train, X_test = train[features], test[features]\n",
    "Y_train, Y_test = train[output_col], test[output_col]\n",
    "T_train, T_test = train[time_col], test[time_col]\n",
    "\n",
    "y_scaler = MinMaxScaler(feature_range=(0, 1))\n",
    "Y_train, Y_test = y_scaler.fit_transform(Y_train).ravel() + 1e-15, Y_test.values.ravel() + 1e-15\n",
    "\n",
    "MS = MinMaxScaler(feature_range=(-1, 1))\n",
    "scaled_train = MS.fit_transform(X_train[numerical])\n",
    "scaled_test = MS.transform(X_test[numerical])\n",
    "X_train[numerical], X_test[numerical] = scaled_train, scaled_test\n",
    "\n",
    "encoder = ce.CatBoostEncoder(verbose=1, cols=categorical)\n",
    "encoder.fit(X_train[categorical], Y_train)\n",
    "X_train[categorical] = encoder.transform(X_train[categorical])\n",
    "X_test[categorical] = encoder.transform(X_test[categorical])\n",
    "\n",
    "X_train.shape, X_test.shape, Y_train.shape, Y_test.shape"
   ]
  },
  {
   "cell_type": "code",
   "execution_count": 21,
   "metadata": {},
   "outputs": [
    {
     "data": {
      "text/html": [
       "<div>\n",
       "<style scoped>\n",
       "    .dataframe tbody tr th:only-of-type {\n",
       "        vertical-align: middle;\n",
       "    }\n",
       "\n",
       "    .dataframe tbody tr th {\n",
       "        vertical-align: top;\n",
       "    }\n",
       "\n",
       "    .dataframe thead th {\n",
       "        text-align: right;\n",
       "    }\n",
       "</style>\n",
       "<table border=\"1\" class=\"dataframe\">\n",
       "  <thead>\n",
       "    <tr style=\"text-align: right;\">\n",
       "      <th></th>\n",
       "      <th>product_group</th>\n",
       "      <th>promo</th>\n",
       "      <th>hyp_promo</th>\n",
       "      <th>sin_dayofyear</th>\n",
       "      <th>cos_dayofyear</th>\n",
       "      <th>type_promo_1</th>\n",
       "      <th>type_promo_2</th>\n",
       "    </tr>\n",
       "  </thead>\n",
       "  <tbody>\n",
       "    <tr>\n",
       "      <th>2</th>\n",
       "      <td>0.412354</td>\n",
       "      <td>-1.000000</td>\n",
       "      <td>-1.0</td>\n",
       "      <td>-0.601630</td>\n",
       "      <td>-0.798813</td>\n",
       "      <td>0.0</td>\n",
       "      <td>0.0</td>\n",
       "    </tr>\n",
       "    <tr>\n",
       "      <th>8</th>\n",
       "      <td>0.021573</td>\n",
       "      <td>-1.000000</td>\n",
       "      <td>-1.0</td>\n",
       "      <td>-0.601630</td>\n",
       "      <td>-0.798813</td>\n",
       "      <td>0.0</td>\n",
       "      <td>0.0</td>\n",
       "    </tr>\n",
       "    <tr>\n",
       "      <th>11</th>\n",
       "      <td>0.045000</td>\n",
       "      <td>-1.000000</td>\n",
       "      <td>-1.0</td>\n",
       "      <td>-0.601630</td>\n",
       "      <td>-0.798813</td>\n",
       "      <td>0.0</td>\n",
       "      <td>0.0</td>\n",
       "    </tr>\n",
       "    <tr>\n",
       "      <th>20</th>\n",
       "      <td>0.082248</td>\n",
       "      <td>-1.000000</td>\n",
       "      <td>-1.0</td>\n",
       "      <td>-0.601630</td>\n",
       "      <td>-0.798813</td>\n",
       "      <td>0.0</td>\n",
       "      <td>0.0</td>\n",
       "    </tr>\n",
       "    <tr>\n",
       "      <th>30</th>\n",
       "      <td>0.412354</td>\n",
       "      <td>0.528162</td>\n",
       "      <td>-1.0</td>\n",
       "      <td>-0.693288</td>\n",
       "      <td>-0.720699</td>\n",
       "      <td>0.0</td>\n",
       "      <td>0.0</td>\n",
       "    </tr>\n",
       "    <tr>\n",
       "      <th>...</th>\n",
       "      <td>...</td>\n",
       "      <td>...</td>\n",
       "      <td>...</td>\n",
       "      <td>...</td>\n",
       "      <td>...</td>\n",
       "      <td>...</td>\n",
       "      <td>...</td>\n",
       "    </tr>\n",
       "    <tr>\n",
       "      <th>5728</th>\n",
       "      <td>0.082248</td>\n",
       "      <td>-0.987248</td>\n",
       "      <td>-1.0</td>\n",
       "      <td>0.145801</td>\n",
       "      <td>-0.989351</td>\n",
       "      <td>0.0</td>\n",
       "      <td>0.0</td>\n",
       "    </tr>\n",
       "    <tr>\n",
       "      <th>5742</th>\n",
       "      <td>0.412354</td>\n",
       "      <td>-0.985122</td>\n",
       "      <td>-1.0</td>\n",
       "      <td>0.025819</td>\n",
       "      <td>-0.999704</td>\n",
       "      <td>0.0</td>\n",
       "      <td>0.0</td>\n",
       "    </tr>\n",
       "    <tr>\n",
       "      <th>5749</th>\n",
       "      <td>0.021573</td>\n",
       "      <td>-0.997875</td>\n",
       "      <td>-1.0</td>\n",
       "      <td>0.025819</td>\n",
       "      <td>-0.999704</td>\n",
       "      <td>0.0</td>\n",
       "      <td>0.0</td>\n",
       "    </tr>\n",
       "    <tr>\n",
       "      <th>5755</th>\n",
       "      <td>0.045000</td>\n",
       "      <td>-0.995749</td>\n",
       "      <td>-1.0</td>\n",
       "      <td>0.025819</td>\n",
       "      <td>-0.999704</td>\n",
       "      <td>0.0</td>\n",
       "      <td>0.0</td>\n",
       "    </tr>\n",
       "    <tr>\n",
       "      <th>5770</th>\n",
       "      <td>0.082248</td>\n",
       "      <td>-0.961743</td>\n",
       "      <td>-1.0</td>\n",
       "      <td>0.025819</td>\n",
       "      <td>-0.999704</td>\n",
       "      <td>0.0</td>\n",
       "      <td>0.0</td>\n",
       "    </tr>\n",
       "  </tbody>\n",
       "</table>\n",
       "<p>608 rows × 7 columns</p>\n",
       "</div>"
      ],
      "text/plain": [
       "      product_group     promo  hyp_promo  sin_dayofyear  cos_dayofyear  \\\n",
       "2          0.412354 -1.000000       -1.0      -0.601630      -0.798813   \n",
       "8          0.021573 -1.000000       -1.0      -0.601630      -0.798813   \n",
       "11         0.045000 -1.000000       -1.0      -0.601630      -0.798813   \n",
       "20         0.082248 -1.000000       -1.0      -0.601630      -0.798813   \n",
       "30         0.412354  0.528162       -1.0      -0.693288      -0.720699   \n",
       "...             ...       ...        ...            ...            ...   \n",
       "5728       0.082248 -0.987248       -1.0       0.145801      -0.989351   \n",
       "5742       0.412354 -0.985122       -1.0       0.025819      -0.999704   \n",
       "5749       0.021573 -0.997875       -1.0       0.025819      -0.999704   \n",
       "5755       0.045000 -0.995749       -1.0       0.025819      -0.999704   \n",
       "5770       0.082248 -0.961743       -1.0       0.025819      -0.999704   \n",
       "\n",
       "      type_promo_1  type_promo_2  \n",
       "2              0.0           0.0  \n",
       "8              0.0           0.0  \n",
       "11             0.0           0.0  \n",
       "20             0.0           0.0  \n",
       "30             0.0           0.0  \n",
       "...            ...           ...  \n",
       "5728           0.0           0.0  \n",
       "5742           0.0           0.0  \n",
       "5749           0.0           0.0  \n",
       "5755           0.0           0.0  \n",
       "5770           0.0           0.0  \n",
       "\n",
       "[608 rows x 7 columns]"
      ]
     },
     "execution_count": 21,
     "metadata": {},
     "output_type": "execute_result"
    }
   ],
   "source": [
    "X_train"
   ]
  },
  {
   "cell_type": "code",
   "execution_count": 33,
   "metadata": {
    "collapsed": true
   },
   "outputs": [
    {
     "data": {
      "application/vnd.plotly.v1+json": {
       "config": {
        "plotlyServerURL": "https://plot.ly"
       },
       "data": [
        {
         "mode": "lines",
         "name": "observed",
         "type": "scatter",
         "x": [
          "2016-08-07T00:00:00",
          "2016-08-14T00:00:00",
          "2016-08-21T00:00:00",
          "2016-08-28T00:00:00",
          "2016-09-04T00:00:00",
          "2016-09-11T00:00:00",
          "2016-09-18T00:00:00",
          "2016-09-25T00:00:00",
          "2016-10-02T00:00:00",
          "2016-10-09T00:00:00",
          "2016-10-16T00:00:00",
          "2016-10-23T00:00:00",
          "2016-10-30T00:00:00",
          "2016-11-06T00:00:00",
          "2016-11-13T00:00:00",
          "2016-11-20T00:00:00",
          "2016-11-27T00:00:00",
          "2016-12-04T00:00:00",
          "2016-12-11T00:00:00",
          "2016-12-18T00:00:00",
          "2016-12-25T00:00:00",
          "2017-01-01T00:00:00",
          "2017-01-08T00:00:00",
          "2017-01-15T00:00:00",
          "2017-01-22T00:00:00",
          "2017-01-29T00:00:00",
          "2017-02-05T00:00:00",
          "2017-02-12T00:00:00",
          "2017-02-19T00:00:00",
          "2017-02-26T00:00:00",
          "2017-03-05T00:00:00",
          "2017-03-12T00:00:00",
          "2017-03-19T00:00:00",
          "2017-03-26T00:00:00",
          "2017-04-02T00:00:00",
          "2017-04-09T00:00:00",
          "2017-04-16T00:00:00",
          "2017-04-23T00:00:00",
          "2017-04-30T00:00:00",
          "2017-05-07T00:00:00",
          "2017-05-14T00:00:00",
          "2017-05-21T00:00:00",
          "2017-05-28T00:00:00",
          "2017-06-04T00:00:00",
          "2017-06-11T00:00:00",
          "2017-06-18T00:00:00",
          "2017-06-25T00:00:00",
          "2017-07-02T00:00:00",
          "2017-07-09T00:00:00",
          "2017-07-16T00:00:00",
          "2017-07-23T00:00:00",
          "2017-07-30T00:00:00",
          "2017-08-06T00:00:00",
          "2017-08-13T00:00:00",
          "2017-08-20T00:00:00",
          "2017-08-27T00:00:00",
          "2017-09-03T00:00:00",
          "2017-09-10T00:00:00",
          "2017-09-17T00:00:00",
          "2017-09-24T00:00:00",
          "2017-10-01T00:00:00",
          "2017-10-08T00:00:00",
          "2017-10-15T00:00:00",
          "2017-10-22T00:00:00",
          "2017-10-29T00:00:00",
          "2017-11-05T00:00:00",
          "2017-11-12T00:00:00",
          "2017-11-19T00:00:00",
          "2017-11-26T00:00:00",
          "2017-12-03T00:00:00",
          "2017-12-10T00:00:00",
          "2017-12-17T00:00:00",
          "2017-12-24T00:00:00",
          "2017-12-31T00:00:00",
          "2018-01-07T00:00:00",
          "2018-01-14T00:00:00",
          "2018-01-21T00:00:00",
          "2018-01-28T00:00:00",
          "2018-02-04T00:00:00",
          "2018-02-11T00:00:00",
          "2018-02-18T00:00:00",
          "2018-02-25T00:00:00",
          "2018-03-04T00:00:00",
          "2018-03-11T00:00:00",
          "2018-03-18T00:00:00",
          "2018-03-25T00:00:00",
          "2018-04-01T00:00:00",
          "2018-04-08T00:00:00",
          "2018-04-15T00:00:00",
          "2018-04-22T00:00:00",
          "2018-04-29T00:00:00",
          "2018-05-06T00:00:00",
          "2018-05-13T00:00:00",
          "2018-05-20T00:00:00",
          "2018-05-27T00:00:00",
          "2018-06-03T00:00:00",
          "2018-06-10T00:00:00",
          "2018-06-17T00:00:00",
          "2018-06-24T00:00:00",
          "2018-07-01T00:00:00",
          "2018-07-08T00:00:00",
          "2018-07-15T00:00:00",
          "2018-07-22T00:00:00",
          "2018-07-29T00:00:00",
          "2018-08-05T00:00:00",
          "2018-08-12T00:00:00",
          "2018-08-19T00:00:00",
          "2018-08-26T00:00:00",
          "2018-09-02T00:00:00",
          "2018-09-09T00:00:00",
          "2018-09-16T00:00:00",
          "2018-09-23T00:00:00",
          "2018-09-30T00:00:00",
          "2018-10-07T00:00:00",
          "2018-10-14T00:00:00",
          "2018-10-21T00:00:00",
          "2018-10-28T00:00:00",
          "2018-11-04T00:00:00",
          "2018-11-11T00:00:00",
          "2018-11-18T00:00:00",
          "2018-11-25T00:00:00",
          "2018-12-02T00:00:00",
          "2018-12-09T00:00:00",
          "2018-12-16T00:00:00",
          "2018-12-23T00:00:00",
          "2018-12-30T00:00:00",
          "2019-01-06T00:00:00",
          "2019-01-13T00:00:00",
          "2019-01-20T00:00:00",
          "2019-01-27T00:00:00",
          "2019-02-03T00:00:00",
          "2019-02-10T00:00:00",
          "2019-02-17T00:00:00",
          "2019-02-24T00:00:00",
          "2019-03-03T00:00:00",
          "2019-03-10T00:00:00",
          "2019-03-17T00:00:00",
          "2019-03-24T00:00:00",
          "2019-03-31T00:00:00",
          "2019-04-07T00:00:00",
          "2019-04-14T00:00:00",
          "2019-04-21T00:00:00",
          "2019-04-28T00:00:00",
          "2019-05-05T00:00:00",
          "2019-05-12T00:00:00",
          "2019-05-19T00:00:00",
          "2019-05-26T00:00:00",
          "2019-06-02T00:00:00",
          "2019-06-09T00:00:00",
          "2019-06-16T00:00:00",
          "2019-06-23T00:00:00",
          "2019-06-30T00:00:00"
         ],
         "y": [
          0,
          3752,
          3578,
          3826,
          9571,
          3654,
          3414,
          3603,
          3692,
          3927,
          4286,
          8726,
          4323,
          3840,
          4429,
          4427,
          4589,
          4670,
          4809,
          5546,
          8697,
          4464,
          4306,
          4776,
          4834,
          4713,
          4417,
          4519,
          4546,
          4605,
          10638,
          4102,
          4320,
          4294,
          4486,
          4480,
          4683,
          4693,
          5520,
          4553,
          4422,
          4306,
          4737,
          5166,
          4673,
          10905,
          4671,
          5094,
          5061,
          5105,
          6106,
          3836,
          4252,
          4792,
          5148,
          5126,
          4340,
          4197,
          4134,
          4152,
          4267,
          4290,
          12021,
          3602,
          4381,
          4216,
          4659,
          12394,
          3644,
          4421,
          4563,
          4740,
          5504,
          4737,
          5083,
          5512,
          4604,
          4994,
          4820,
          4670,
          4655,
          4689,
          4995,
          5021,
          4814,
          4318,
          3336,
          2520,
          4994,
          5470,
          5446,
          5539,
          11794,
          5124,
          5262,
          5825,
          5358,
          13007,
          4686,
          5228,
          4967,
          4442,
          5773,
          4111,
          4892,
          5263,
          5862,
          5958,
          5746,
          5323,
          5146,
          5073,
          6342,
          5485,
          7151,
          9944,
          4718,
          5134,
          5453,
          4599,
          5141,
          5099,
          5338,
          5332,
          5337,
          9266,
          4823,
          5599,
          5658,
          5185,
          5949,
          5550,
          5700,
          5703,
          5823,
          5940,
          6143,
          5874,
          5751,
          6254,
          6143,
          5736,
          5749,
          5681,
          12738,
          5654,
          5728,
          6035,
          5544,
          12585,
          4917,
          5698
         ]
        },
        {
         "mode": "lines",
         "name": "trend",
         "type": "scatter",
         "x": [
          "2016-08-07T00:00:00",
          "2016-08-14T00:00:00",
          "2016-08-21T00:00:00",
          "2016-08-28T00:00:00",
          "2016-09-04T00:00:00",
          "2016-09-11T00:00:00",
          "2016-09-18T00:00:00",
          "2016-09-25T00:00:00",
          "2016-10-02T00:00:00",
          "2016-10-09T00:00:00",
          "2016-10-16T00:00:00",
          "2016-10-23T00:00:00",
          "2016-10-30T00:00:00",
          "2016-11-06T00:00:00",
          "2016-11-13T00:00:00",
          "2016-11-20T00:00:00",
          "2016-11-27T00:00:00",
          "2016-12-04T00:00:00",
          "2016-12-11T00:00:00",
          "2016-12-18T00:00:00",
          "2016-12-25T00:00:00",
          "2017-01-01T00:00:00",
          "2017-01-08T00:00:00",
          "2017-01-15T00:00:00",
          "2017-01-22T00:00:00",
          "2017-01-29T00:00:00",
          "2017-02-05T00:00:00",
          "2017-02-12T00:00:00",
          "2017-02-19T00:00:00",
          "2017-02-26T00:00:00",
          "2017-03-05T00:00:00",
          "2017-03-12T00:00:00",
          "2017-03-19T00:00:00",
          "2017-03-26T00:00:00",
          "2017-04-02T00:00:00",
          "2017-04-09T00:00:00",
          "2017-04-16T00:00:00",
          "2017-04-23T00:00:00",
          "2017-04-30T00:00:00",
          "2017-05-07T00:00:00",
          "2017-05-14T00:00:00",
          "2017-05-21T00:00:00",
          "2017-05-28T00:00:00",
          "2017-06-04T00:00:00",
          "2017-06-11T00:00:00",
          "2017-06-18T00:00:00",
          "2017-06-25T00:00:00",
          "2017-07-02T00:00:00",
          "2017-07-09T00:00:00",
          "2017-07-16T00:00:00",
          "2017-07-23T00:00:00",
          "2017-07-30T00:00:00",
          "2017-08-06T00:00:00",
          "2017-08-13T00:00:00",
          "2017-08-20T00:00:00",
          "2017-08-27T00:00:00",
          "2017-09-03T00:00:00",
          "2017-09-10T00:00:00",
          "2017-09-17T00:00:00",
          "2017-09-24T00:00:00",
          "2017-10-01T00:00:00",
          "2017-10-08T00:00:00",
          "2017-10-15T00:00:00",
          "2017-10-22T00:00:00",
          "2017-10-29T00:00:00",
          "2017-11-05T00:00:00",
          "2017-11-12T00:00:00",
          "2017-11-19T00:00:00",
          "2017-11-26T00:00:00",
          "2017-12-03T00:00:00",
          "2017-12-10T00:00:00",
          "2017-12-17T00:00:00",
          "2017-12-24T00:00:00",
          "2017-12-31T00:00:00",
          "2018-01-07T00:00:00",
          "2018-01-14T00:00:00",
          "2018-01-21T00:00:00",
          "2018-01-28T00:00:00",
          "2018-02-04T00:00:00",
          "2018-02-11T00:00:00",
          "2018-02-18T00:00:00",
          "2018-02-25T00:00:00",
          "2018-03-04T00:00:00",
          "2018-03-11T00:00:00",
          "2018-03-18T00:00:00",
          "2018-03-25T00:00:00",
          "2018-04-01T00:00:00",
          "2018-04-08T00:00:00",
          "2018-04-15T00:00:00",
          "2018-04-22T00:00:00",
          "2018-04-29T00:00:00",
          "2018-05-06T00:00:00",
          "2018-05-13T00:00:00",
          "2018-05-20T00:00:00",
          "2018-05-27T00:00:00",
          "2018-06-03T00:00:00",
          "2018-06-10T00:00:00",
          "2018-06-17T00:00:00",
          "2018-06-24T00:00:00",
          "2018-07-01T00:00:00",
          "2018-07-08T00:00:00",
          "2018-07-15T00:00:00",
          "2018-07-22T00:00:00",
          "2018-07-29T00:00:00",
          "2018-08-05T00:00:00",
          "2018-08-12T00:00:00",
          "2018-08-19T00:00:00",
          "2018-08-26T00:00:00",
          "2018-09-02T00:00:00",
          "2018-09-09T00:00:00",
          "2018-09-16T00:00:00",
          "2018-09-23T00:00:00",
          "2018-09-30T00:00:00",
          "2018-10-07T00:00:00",
          "2018-10-14T00:00:00",
          "2018-10-21T00:00:00",
          "2018-10-28T00:00:00",
          "2018-11-04T00:00:00",
          "2018-11-11T00:00:00",
          "2018-11-18T00:00:00",
          "2018-11-25T00:00:00",
          "2018-12-02T00:00:00",
          "2018-12-09T00:00:00",
          "2018-12-16T00:00:00",
          "2018-12-23T00:00:00",
          "2018-12-30T00:00:00",
          "2019-01-06T00:00:00",
          "2019-01-13T00:00:00",
          "2019-01-20T00:00:00",
          "2019-01-27T00:00:00",
          "2019-02-03T00:00:00",
          "2019-02-10T00:00:00",
          "2019-02-17T00:00:00",
          "2019-02-24T00:00:00",
          "2019-03-03T00:00:00",
          "2019-03-10T00:00:00",
          "2019-03-17T00:00:00",
          "2019-03-24T00:00:00",
          "2019-03-31T00:00:00",
          "2019-04-07T00:00:00",
          "2019-04-14T00:00:00",
          "2019-04-21T00:00:00",
          "2019-04-28T00:00:00",
          "2019-05-05T00:00:00",
          "2019-05-12T00:00:00",
          "2019-05-19T00:00:00",
          "2019-05-26T00:00:00",
          "2019-06-02T00:00:00",
          "2019-06-09T00:00:00",
          "2019-06-16T00:00:00",
          "2019-06-23T00:00:00",
          "2019-06-30T00:00:00"
         ],
         "y": [
          null,
          null,
          null,
          null,
          null,
          null,
          null,
          null,
          null,
          null,
          null,
          null,
          null,
          null,
          null,
          null,
          null,
          null,
          null,
          null,
          null,
          null,
          null,
          null,
          null,
          null,
          4933,
          4983.884615384615,
          5008.9807692307695,
          5036.576923076922,
          4998.778846153847,
          4953.701923076923,
          4965.846153846153,
          4978.048076923076,
          4988.855769230769,
          4997.875,
          5075.740384615385,
          5100.846153846152,
          5052.134615384615,
          5056.3076923076915,
          5062.134615384615,
          5140.951923076923,
          5208.471153846153,
          5196.990384615387,
          5192.2307692307695,
          5182.115384615384,
          5143.663461538462,
          5115.586538461539,
          5125.682692307693,
          5140.2307692307695,
          5145.096153846153,
          5145.586538461539,
          5152.163461538462,
          5157.490384615385,
          5159.990384615385,
          5161.846153846153,
          5108.394230769231,
          5062.971153846155,
          5076.5576923076915,
          5081.538461538462,
          5070.711538461539,
          5040.8076923076915,
          5024.951923076925,
          5035.413461538462,
          5042.173076923077,
          5050.942307692307,
          5131.3076923076915,
          5210.057692307693,
          5222.971153846153,
          5234.3557692307695,
          5247.278846153846,
          5274.076923076923,
          5294.432692307693,
          5295.865384615384,
          5296.25,
          5288.971153846154,
          5279.394230769231,
          5278.836538461538,
          5287.634615384614,
          5298.317307692308,
          5309.711538461539,
          5324.576923076923,
          5346.096153846153,
          5370.442307692308,
          5391,
          5409.586538461537,
          5438.394230769231,
          5469.836538461538,
          5434.5,
          5448.653846153845,
          5512.875,
          5524.9423076923085,
          5541.403846153847,
          5474.086538461538,
          5413.528846153846,
          5434.442307692308,
          5448.41346153846,
          5461.5576923076915,
          5465.6442307692305,
          5507.586538461539,
          5548.634615384615,
          5546.971153846153,
          5557.942307692308,
          5569.91346153846,
          5582.605769230769,
          5601.923076923076,
          5620.4326923076915,
          5640.2307692307695,
          5657.942307692308,
          5674.740384615383,
          5696.355769230769,
          5724.096153846152,
          5762.278846153847,
          5821.403846153845,
          5868.355769230769,
          5881.961538461539,
          5887.432692307691,
          5891.711538461538,
          5902.153846153846,
          5916.326923076923,
          5925.903846153846,
          5932.403846153846,
          5936.211538461538,
          5933.942307692308,
          5932.1057692307695,
          5938.846153846153,
          null,
          null,
          null,
          null,
          null,
          null,
          null,
          null,
          null,
          null,
          null,
          null,
          null,
          null,
          null,
          null,
          null,
          null,
          null,
          null,
          null,
          null,
          null,
          null,
          null,
          null
         ]
        },
        {
         "mode": "lines",
         "name": "seasonal",
         "type": "scatter",
         "x": [
          "2016-08-07T00:00:00",
          "2016-08-14T00:00:00",
          "2016-08-21T00:00:00",
          "2016-08-28T00:00:00",
          "2016-09-04T00:00:00",
          "2016-09-11T00:00:00",
          "2016-09-18T00:00:00",
          "2016-09-25T00:00:00",
          "2016-10-02T00:00:00",
          "2016-10-09T00:00:00",
          "2016-10-16T00:00:00",
          "2016-10-23T00:00:00",
          "2016-10-30T00:00:00",
          "2016-11-06T00:00:00",
          "2016-11-13T00:00:00",
          "2016-11-20T00:00:00",
          "2016-11-27T00:00:00",
          "2016-12-04T00:00:00",
          "2016-12-11T00:00:00",
          "2016-12-18T00:00:00",
          "2016-12-25T00:00:00",
          "2017-01-01T00:00:00",
          "2017-01-08T00:00:00",
          "2017-01-15T00:00:00",
          "2017-01-22T00:00:00",
          "2017-01-29T00:00:00",
          "2017-02-05T00:00:00",
          "2017-02-12T00:00:00",
          "2017-02-19T00:00:00",
          "2017-02-26T00:00:00",
          "2017-03-05T00:00:00",
          "2017-03-12T00:00:00",
          "2017-03-19T00:00:00",
          "2017-03-26T00:00:00",
          "2017-04-02T00:00:00",
          "2017-04-09T00:00:00",
          "2017-04-16T00:00:00",
          "2017-04-23T00:00:00",
          "2017-04-30T00:00:00",
          "2017-05-07T00:00:00",
          "2017-05-14T00:00:00",
          "2017-05-21T00:00:00",
          "2017-05-28T00:00:00",
          "2017-06-04T00:00:00",
          "2017-06-11T00:00:00",
          "2017-06-18T00:00:00",
          "2017-06-25T00:00:00",
          "2017-07-02T00:00:00",
          "2017-07-09T00:00:00",
          "2017-07-16T00:00:00",
          "2017-07-23T00:00:00",
          "2017-07-30T00:00:00",
          "2017-08-06T00:00:00",
          "2017-08-13T00:00:00",
          "2017-08-20T00:00:00",
          "2017-08-27T00:00:00",
          "2017-09-03T00:00:00",
          "2017-09-10T00:00:00",
          "2017-09-17T00:00:00",
          "2017-09-24T00:00:00",
          "2017-10-01T00:00:00",
          "2017-10-08T00:00:00",
          "2017-10-15T00:00:00",
          "2017-10-22T00:00:00",
          "2017-10-29T00:00:00",
          "2017-11-05T00:00:00",
          "2017-11-12T00:00:00",
          "2017-11-19T00:00:00",
          "2017-11-26T00:00:00",
          "2017-12-03T00:00:00",
          "2017-12-10T00:00:00",
          "2017-12-17T00:00:00",
          "2017-12-24T00:00:00",
          "2017-12-31T00:00:00",
          "2018-01-07T00:00:00",
          "2018-01-14T00:00:00",
          "2018-01-21T00:00:00",
          "2018-01-28T00:00:00",
          "2018-02-04T00:00:00",
          "2018-02-11T00:00:00",
          "2018-02-18T00:00:00",
          "2018-02-25T00:00:00",
          "2018-03-04T00:00:00",
          "2018-03-11T00:00:00",
          "2018-03-18T00:00:00",
          "2018-03-25T00:00:00",
          "2018-04-01T00:00:00",
          "2018-04-08T00:00:00",
          "2018-04-15T00:00:00",
          "2018-04-22T00:00:00",
          "2018-04-29T00:00:00",
          "2018-05-06T00:00:00",
          "2018-05-13T00:00:00",
          "2018-05-20T00:00:00",
          "2018-05-27T00:00:00",
          "2018-06-03T00:00:00",
          "2018-06-10T00:00:00",
          "2018-06-17T00:00:00",
          "2018-06-24T00:00:00",
          "2018-07-01T00:00:00",
          "2018-07-08T00:00:00",
          "2018-07-15T00:00:00",
          "2018-07-22T00:00:00",
          "2018-07-29T00:00:00",
          "2018-08-05T00:00:00",
          "2018-08-12T00:00:00",
          "2018-08-19T00:00:00",
          "2018-08-26T00:00:00",
          "2018-09-02T00:00:00",
          "2018-09-09T00:00:00",
          "2018-09-16T00:00:00",
          "2018-09-23T00:00:00",
          "2018-09-30T00:00:00",
          "2018-10-07T00:00:00",
          "2018-10-14T00:00:00",
          "2018-10-21T00:00:00",
          "2018-10-28T00:00:00",
          "2018-11-04T00:00:00",
          "2018-11-11T00:00:00",
          "2018-11-18T00:00:00",
          "2018-11-25T00:00:00",
          "2018-12-02T00:00:00",
          "2018-12-09T00:00:00",
          "2018-12-16T00:00:00",
          "2018-12-23T00:00:00",
          "2018-12-30T00:00:00",
          "2019-01-06T00:00:00",
          "2019-01-13T00:00:00",
          "2019-01-20T00:00:00",
          "2019-01-27T00:00:00",
          "2019-02-03T00:00:00",
          "2019-02-10T00:00:00",
          "2019-02-17T00:00:00",
          "2019-02-24T00:00:00",
          "2019-03-03T00:00:00",
          "2019-03-10T00:00:00",
          "2019-03-17T00:00:00",
          "2019-03-24T00:00:00",
          "2019-03-31T00:00:00",
          "2019-04-07T00:00:00",
          "2019-04-14T00:00:00",
          "2019-04-21T00:00:00",
          "2019-04-28T00:00:00",
          "2019-05-05T00:00:00",
          "2019-05-12T00:00:00",
          "2019-05-19T00:00:00",
          "2019-05-26T00:00:00",
          "2019-06-02T00:00:00",
          "2019-06-09T00:00:00",
          "2019-06-16T00:00:00",
          "2019-06-23T00:00:00",
          "2019-06-30T00:00:00"
         ],
         "y": [
          -792.994452662722,
          -349.81656804733717,
          117.1786242603552,
          143.35170118343189,
          -337.7781065088762,
          -606.4656065088758,
          -744.0665680473368,
          -787.9271449704139,
          -109.60502958579951,
          -541.2156065088749,
          4141.736316568046,
          1316.702662721893,
          -912.9127218934906,
          -793.9367603550292,
          -458.3406065088753,
          2935.6978550295853,
          -1179.5473372781062,
          -820.9896449704144,
          -638.8550295857987,
          -565.619452662722,
          -190.37906804733808,
          1386.5343934911248,
          -210.85983727810668,
          225.41900887573905,
          -673.0040680473381,
          -282.4463757396448,
          -489.42714497041385,
          -544.2107988165682,
          -556.455991124261,
          -531.1867603550292,
          2646.4526627218934,
          -598.181952662722,
          -609.0329142011834,
          -885.4271449704135,
          -1300.2348372781066,
          -1731.4656065088757,
          -414.23002958579906,
          -190.85983727810532,
          202.8853550295857,
          -242.23483727810668,
          2808.6209319526624,
          -590.1290680473372,
          -309.1098372781062,
          182.17381656804622,
          -302.43195266272147,
          6636.553624260356,
          -623.7636834319529,
          -148.1963757396457,
          -320.76849112426095,
          -567.7107988165682,
          590.3709319526628,
          -1381.8598372781062,
          -792.994452662722,
          -349.81656804733717,
          117.1786242603552,
          143.35170118343189,
          -337.7781065088762,
          -606.4656065088758,
          -744.0665680473368,
          -787.9271449704139,
          -109.60502958579951,
          -541.2156065088749,
          4141.736316568046,
          1316.702662721893,
          -912.9127218934906,
          -793.9367603550292,
          -458.3406065088753,
          2935.6978550295853,
          -1179.5473372781062,
          -820.9896449704144,
          -638.8550295857987,
          -565.619452662722,
          -190.37906804733808,
          1386.5343934911248,
          -210.85983727810668,
          225.41900887573905,
          -673.0040680473381,
          -282.4463757396448,
          -489.42714497041385,
          -544.2107988165682,
          -556.455991124261,
          -531.1867603550292,
          2646.4526627218934,
          -598.181952662722,
          -609.0329142011834,
          -885.4271449704135,
          -1300.2348372781066,
          -1731.4656065088757,
          -414.23002958579906,
          -190.85983727810532,
          202.8853550295857,
          -242.23483727810668,
          2808.6209319526624,
          -590.1290680473372,
          -309.1098372781062,
          182.17381656804622,
          -302.43195266272147,
          6636.553624260356,
          -623.7636834319529,
          -148.1963757396457,
          -320.76849112426095,
          -567.7107988165682,
          590.3709319526628,
          -1381.8598372781062,
          -792.994452662722,
          -349.81656804733717,
          117.1786242603552,
          143.35170118343189,
          -337.7781065088762,
          -606.4656065088758,
          -744.0665680473368,
          -787.9271449704139,
          -109.60502958579951,
          -541.2156065088749,
          4141.736316568046,
          1316.702662721893,
          -912.9127218934906,
          -793.9367603550292,
          -458.3406065088753,
          2935.6978550295853,
          -1179.5473372781062,
          -820.9896449704144,
          -638.8550295857987,
          -565.619452662722,
          -190.37906804733808,
          1386.5343934911248,
          -210.85983727810668,
          225.41900887573905,
          -673.0040680473381,
          -282.4463757396448,
          -489.42714497041385,
          -544.2107988165682,
          -556.455991124261,
          -531.1867603550292,
          2646.4526627218934,
          -598.181952662722,
          -609.0329142011834,
          -885.4271449704135,
          -1300.2348372781066,
          -1731.4656065088757,
          -414.23002958579906,
          -190.85983727810532,
          202.8853550295857,
          -242.23483727810668,
          2808.6209319526624,
          -590.1290680473372,
          -309.1098372781062,
          182.17381656804622,
          -302.43195266272147,
          6636.553624260356,
          -623.7636834319529,
          -148.1963757396457
         ]
        },
        {
         "mode": "lines",
         "name": "residual",
         "type": "scatter",
         "x": [
          "2016-08-07T00:00:00",
          "2016-08-14T00:00:00",
          "2016-08-21T00:00:00",
          "2016-08-28T00:00:00",
          "2016-09-04T00:00:00",
          "2016-09-11T00:00:00",
          "2016-09-18T00:00:00",
          "2016-09-25T00:00:00",
          "2016-10-02T00:00:00",
          "2016-10-09T00:00:00",
          "2016-10-16T00:00:00",
          "2016-10-23T00:00:00",
          "2016-10-30T00:00:00",
          "2016-11-06T00:00:00",
          "2016-11-13T00:00:00",
          "2016-11-20T00:00:00",
          "2016-11-27T00:00:00",
          "2016-12-04T00:00:00",
          "2016-12-11T00:00:00",
          "2016-12-18T00:00:00",
          "2016-12-25T00:00:00",
          "2017-01-01T00:00:00",
          "2017-01-08T00:00:00",
          "2017-01-15T00:00:00",
          "2017-01-22T00:00:00",
          "2017-01-29T00:00:00",
          "2017-02-05T00:00:00",
          "2017-02-12T00:00:00",
          "2017-02-19T00:00:00",
          "2017-02-26T00:00:00",
          "2017-03-05T00:00:00",
          "2017-03-12T00:00:00",
          "2017-03-19T00:00:00",
          "2017-03-26T00:00:00",
          "2017-04-02T00:00:00",
          "2017-04-09T00:00:00",
          "2017-04-16T00:00:00",
          "2017-04-23T00:00:00",
          "2017-04-30T00:00:00",
          "2017-05-07T00:00:00",
          "2017-05-14T00:00:00",
          "2017-05-21T00:00:00",
          "2017-05-28T00:00:00",
          "2017-06-04T00:00:00",
          "2017-06-11T00:00:00",
          "2017-06-18T00:00:00",
          "2017-06-25T00:00:00",
          "2017-07-02T00:00:00",
          "2017-07-09T00:00:00",
          "2017-07-16T00:00:00",
          "2017-07-23T00:00:00",
          "2017-07-30T00:00:00",
          "2017-08-06T00:00:00",
          "2017-08-13T00:00:00",
          "2017-08-20T00:00:00",
          "2017-08-27T00:00:00",
          "2017-09-03T00:00:00",
          "2017-09-10T00:00:00",
          "2017-09-17T00:00:00",
          "2017-09-24T00:00:00",
          "2017-10-01T00:00:00",
          "2017-10-08T00:00:00",
          "2017-10-15T00:00:00",
          "2017-10-22T00:00:00",
          "2017-10-29T00:00:00",
          "2017-11-05T00:00:00",
          "2017-11-12T00:00:00",
          "2017-11-19T00:00:00",
          "2017-11-26T00:00:00",
          "2017-12-03T00:00:00",
          "2017-12-10T00:00:00",
          "2017-12-17T00:00:00",
          "2017-12-24T00:00:00",
          "2017-12-31T00:00:00",
          "2018-01-07T00:00:00",
          "2018-01-14T00:00:00",
          "2018-01-21T00:00:00",
          "2018-01-28T00:00:00",
          "2018-02-04T00:00:00",
          "2018-02-11T00:00:00",
          "2018-02-18T00:00:00",
          "2018-02-25T00:00:00",
          "2018-03-04T00:00:00",
          "2018-03-11T00:00:00",
          "2018-03-18T00:00:00",
          "2018-03-25T00:00:00",
          "2018-04-01T00:00:00",
          "2018-04-08T00:00:00",
          "2018-04-15T00:00:00",
          "2018-04-22T00:00:00",
          "2018-04-29T00:00:00",
          "2018-05-06T00:00:00",
          "2018-05-13T00:00:00",
          "2018-05-20T00:00:00",
          "2018-05-27T00:00:00",
          "2018-06-03T00:00:00",
          "2018-06-10T00:00:00",
          "2018-06-17T00:00:00",
          "2018-06-24T00:00:00",
          "2018-07-01T00:00:00",
          "2018-07-08T00:00:00",
          "2018-07-15T00:00:00",
          "2018-07-22T00:00:00",
          "2018-07-29T00:00:00",
          "2018-08-05T00:00:00",
          "2018-08-12T00:00:00",
          "2018-08-19T00:00:00",
          "2018-08-26T00:00:00",
          "2018-09-02T00:00:00",
          "2018-09-09T00:00:00",
          "2018-09-16T00:00:00",
          "2018-09-23T00:00:00",
          "2018-09-30T00:00:00",
          "2018-10-07T00:00:00",
          "2018-10-14T00:00:00",
          "2018-10-21T00:00:00",
          "2018-10-28T00:00:00",
          "2018-11-04T00:00:00",
          "2018-11-11T00:00:00",
          "2018-11-18T00:00:00",
          "2018-11-25T00:00:00",
          "2018-12-02T00:00:00",
          "2018-12-09T00:00:00",
          "2018-12-16T00:00:00",
          "2018-12-23T00:00:00",
          "2018-12-30T00:00:00",
          "2019-01-06T00:00:00",
          "2019-01-13T00:00:00",
          "2019-01-20T00:00:00",
          "2019-01-27T00:00:00",
          "2019-02-03T00:00:00",
          "2019-02-10T00:00:00",
          "2019-02-17T00:00:00",
          "2019-02-24T00:00:00",
          "2019-03-03T00:00:00",
          "2019-03-10T00:00:00",
          "2019-03-17T00:00:00",
          "2019-03-24T00:00:00",
          "2019-03-31T00:00:00",
          "2019-04-07T00:00:00",
          "2019-04-14T00:00:00",
          "2019-04-21T00:00:00",
          "2019-04-28T00:00:00",
          "2019-05-05T00:00:00",
          "2019-05-12T00:00:00",
          "2019-05-19T00:00:00",
          "2019-05-26T00:00:00",
          "2019-06-02T00:00:00",
          "2019-06-09T00:00:00",
          "2019-06-16T00:00:00",
          "2019-06-23T00:00:00",
          "2019-06-30T00:00:00"
         ],
         "y": [
          null,
          null,
          null,
          null,
          null,
          null,
          null,
          null,
          null,
          null,
          null,
          null,
          null,
          null,
          null,
          null,
          null,
          null,
          null,
          null,
          null,
          null,
          null,
          null,
          null,
          null,
          -26.57285502958615,
          79.32618343195293,
          93.4752218934915,
          99.6098372781072,
          2992.76849112426,
          -253.51997041420088,
          -36.81323964496994,
          201.37906804733723,
          797.379068047338,
          1213.5906065088757,
          21.489644970414304,
          -216.98631656804713,
          264.98002958579906,
          -261.0728550295848,
          -3448.7555473372777,
          -244.82285502958564,
          -162.36131656804713,
          -213.1642011834328,
          -216.79881656804804,
          -913.6690088757396,
          151.10022189349104,
          126.60983727810668,
          256.08579881656766,
          532.4800295857987,
          370.53291420118387,
          72.27329881656715,
          -107.1690088757399,
          -15.673816568047584,
          -129.16900887573996,
          -179.19785502958524,
          -430.6161242603552,
          -259.5055473372794,
          -198.4911242603547,
          -141.61131656804798,
          -694.1065088757396,
          -209.59208579881658,
          2854.311760355029,
          -2750.116124260355,
          251.73964497041345,
          -41.00554733727756,
          -13.967085798816186,
          4248.244452662721,
          -399.4238165680472,
          7.63387573964485,
          -45.42381656804707,
          31.542529585799116,
          399.9463757396448,
          -1945.3997781065086,
          -2.3901627218933186,
          -2.3901627218933186,
          -2.3901627218932617,
          -2.3901627218933186,
          21.792529585799514,
          -84.10650887573945,
          -98.25554733727802,
          -104.39016272189372,
          -2997.5488165680467,
          248.73964497041436,
          32.03291420118342,
          -206.15939349112375,
          -802.1593934911248,
          -1218.3709319526624,
          -26.26997041420094,
          212.2059911242605,
          -269.7603550295857,
          256.29252958579815,
          3443.975221893491,
          240.04252958579912,
          157.5809911242605,
          208.38387573964616,
          212.0184911242614,
          908.8886834319528,
          -155.88054733727756,
          -131.39016272189332,
          -260.8661242603543,
          -537.2603550295852,
          -375.3132396449704,
          -77.0536242603539,
          102.38868343195338,
          10.893491124260947,
          124.38868343195332,
          174.4175295857986,
          425.83579881656857,
          254.72522189349286,
          193.71079881656817,
          136.83099112426146,
          689.3261834319528,
          204.81176035503006,
          -2859.092085798815,
          2745.335798816568,
          -256.5199704142,
          36.22522189349104,
          9.186760355029548,
          -4253.024778106508,
          394.64349112426044,
          -12.414201183431373,
          40.64349112426055,
          -36.32285502958564,
          -404.72670118343143,
          1940.6194526627219,
          null,
          null,
          null,
          null,
          null,
          null,
          null,
          null,
          null,
          null,
          null,
          null,
          null,
          null,
          null,
          null,
          null,
          null,
          null,
          null,
          null,
          null,
          null,
          null,
          null,
          null
         ]
        },
        {
         "mode": "lines",
         "name": "product_group",
         "type": "scatter",
         "x": [
          "2016-08-07T00:00:00",
          "2016-08-14T00:00:00",
          "2016-08-21T00:00:00",
          "2016-08-28T00:00:00",
          "2016-09-04T00:00:00",
          "2016-09-11T00:00:00",
          "2016-09-18T00:00:00",
          "2016-09-25T00:00:00",
          "2016-10-02T00:00:00",
          "2016-10-09T00:00:00",
          "2016-10-16T00:00:00",
          "2016-10-23T00:00:00",
          "2016-10-30T00:00:00",
          "2016-11-06T00:00:00",
          "2016-11-13T00:00:00",
          "2016-11-20T00:00:00",
          "2016-11-27T00:00:00",
          "2016-12-04T00:00:00",
          "2016-12-11T00:00:00",
          "2016-12-18T00:00:00",
          "2016-12-25T00:00:00",
          "2017-01-01T00:00:00",
          "2017-01-08T00:00:00",
          "2017-01-15T00:00:00",
          "2017-01-22T00:00:00",
          "2017-01-29T00:00:00",
          "2017-02-05T00:00:00",
          "2017-02-12T00:00:00",
          "2017-02-19T00:00:00",
          "2017-02-26T00:00:00",
          "2017-03-05T00:00:00",
          "2017-03-12T00:00:00",
          "2017-03-19T00:00:00",
          "2017-03-26T00:00:00",
          "2017-04-02T00:00:00",
          "2017-04-09T00:00:00",
          "2017-04-16T00:00:00",
          "2017-04-23T00:00:00",
          "2017-04-30T00:00:00",
          "2017-05-07T00:00:00",
          "2017-05-14T00:00:00",
          "2017-05-21T00:00:00",
          "2017-05-28T00:00:00",
          "2017-06-04T00:00:00",
          "2017-06-11T00:00:00",
          "2017-06-18T00:00:00",
          "2017-06-25T00:00:00",
          "2017-07-02T00:00:00",
          "2017-07-09T00:00:00",
          "2017-07-16T00:00:00",
          "2017-07-23T00:00:00",
          "2017-07-30T00:00:00",
          "2017-08-06T00:00:00",
          "2017-08-13T00:00:00",
          "2017-08-20T00:00:00",
          "2017-08-27T00:00:00",
          "2017-09-03T00:00:00",
          "2017-09-10T00:00:00",
          "2017-09-17T00:00:00",
          "2017-09-24T00:00:00",
          "2017-10-01T00:00:00",
          "2017-10-08T00:00:00",
          "2017-10-15T00:00:00",
          "2017-10-22T00:00:00",
          "2017-10-29T00:00:00",
          "2017-11-05T00:00:00",
          "2017-11-12T00:00:00",
          "2017-11-19T00:00:00",
          "2017-11-26T00:00:00",
          "2017-12-03T00:00:00",
          "2017-12-10T00:00:00",
          "2017-12-17T00:00:00",
          "2017-12-24T00:00:00",
          "2017-12-31T00:00:00",
          "2018-01-07T00:00:00",
          "2018-01-14T00:00:00",
          "2018-01-21T00:00:00",
          "2018-01-28T00:00:00",
          "2018-02-04T00:00:00",
          "2018-02-11T00:00:00",
          "2018-02-18T00:00:00",
          "2018-02-25T00:00:00",
          "2018-03-04T00:00:00",
          "2018-03-11T00:00:00",
          "2018-03-18T00:00:00",
          "2018-03-25T00:00:00",
          "2018-04-01T00:00:00",
          "2018-04-08T00:00:00",
          "2018-04-15T00:00:00",
          "2018-04-22T00:00:00",
          "2018-04-29T00:00:00",
          "2018-05-06T00:00:00",
          "2018-05-13T00:00:00",
          "2018-05-20T00:00:00",
          "2018-05-27T00:00:00",
          "2018-06-03T00:00:00",
          "2018-06-10T00:00:00",
          "2018-06-17T00:00:00",
          "2018-06-24T00:00:00",
          "2018-07-01T00:00:00",
          "2018-07-08T00:00:00",
          "2018-07-15T00:00:00",
          "2018-07-22T00:00:00",
          "2018-07-29T00:00:00",
          "2018-08-05T00:00:00",
          "2018-08-12T00:00:00",
          "2018-08-19T00:00:00",
          "2018-08-26T00:00:00",
          "2018-09-02T00:00:00",
          "2018-09-09T00:00:00",
          "2018-09-16T00:00:00",
          "2018-09-23T00:00:00",
          "2018-09-30T00:00:00",
          "2018-10-07T00:00:00",
          "2018-10-14T00:00:00",
          "2018-10-21T00:00:00",
          "2018-10-28T00:00:00",
          "2018-11-04T00:00:00",
          "2018-11-11T00:00:00",
          "2018-11-18T00:00:00",
          "2018-11-25T00:00:00",
          "2018-12-02T00:00:00",
          "2018-12-09T00:00:00",
          "2018-12-16T00:00:00",
          "2018-12-23T00:00:00",
          "2018-12-30T00:00:00",
          "2019-01-06T00:00:00",
          "2019-01-13T00:00:00",
          "2019-01-20T00:00:00",
          "2019-01-27T00:00:00",
          "2019-02-03T00:00:00",
          "2019-02-10T00:00:00",
          "2019-02-17T00:00:00",
          "2019-02-24T00:00:00",
          "2019-03-03T00:00:00",
          "2019-03-10T00:00:00",
          "2019-03-17T00:00:00",
          "2019-03-24T00:00:00",
          "2019-03-31T00:00:00",
          "2019-04-07T00:00:00",
          "2019-04-14T00:00:00",
          "2019-04-21T00:00:00",
          "2019-04-28T00:00:00",
          "2019-05-05T00:00:00",
          "2019-05-12T00:00:00",
          "2019-05-19T00:00:00",
          "2019-05-26T00:00:00",
          "2019-06-02T00:00:00",
          "2019-06-09T00:00:00",
          "2019-06-16T00:00:00",
          "2019-06-23T00:00:00",
          "2019-06-30T00:00:00"
         ],
         "y": [
          "Product_04",
          "Product_04",
          "Product_04",
          "Product_04",
          "Product_04",
          "Product_04",
          "Product_04",
          "Product_04",
          "Product_04",
          "Product_04",
          "Product_04",
          "Product_04",
          "Product_04",
          "Product_04",
          "Product_04",
          "Product_04",
          "Product_04",
          "Product_04",
          "Product_04",
          "Product_04",
          "Product_04",
          "Product_04",
          "Product_04",
          "Product_04",
          "Product_04",
          "Product_04",
          "Product_04",
          "Product_04",
          "Product_04",
          "Product_04",
          "Product_04",
          "Product_04",
          "Product_04",
          "Product_04",
          "Product_04",
          "Product_04",
          "Product_04",
          "Product_04",
          "Product_04",
          "Product_04",
          "Product_04",
          "Product_04",
          "Product_04",
          "Product_04",
          "Product_04",
          "Product_04",
          "Product_04",
          "Product_04",
          "Product_04",
          "Product_04",
          "Product_04",
          "Product_04",
          "Product_04",
          "Product_04",
          "Product_04",
          "Product_04",
          "Product_04",
          "Product_04",
          "Product_04",
          "Product_04",
          "Product_04",
          "Product_04",
          "Product_04",
          "Product_04",
          "Product_04",
          "Product_04",
          "Product_04",
          "Product_04",
          "Product_04",
          "Product_04",
          "Product_04",
          "Product_04",
          "Product_04",
          "Product_04",
          "Product_04",
          "Product_04",
          "Product_04",
          "Product_04",
          "Product_04",
          "Product_04",
          "Product_04",
          "Product_04",
          "Product_04",
          "Product_04",
          "Product_04",
          "Product_04",
          "Product_04",
          "Product_04",
          "Product_04",
          "Product_04",
          "Product_04",
          "Product_04",
          "Product_04",
          "Product_04",
          "Product_04",
          "Product_04",
          "Product_04",
          "Product_04",
          "Product_04",
          "Product_04",
          "Product_04",
          "Product_04",
          "Product_04",
          "Product_04",
          "Product_04",
          "Product_04",
          "Product_04",
          "Product_04",
          "Product_04",
          "Product_04",
          "Product_04",
          "Product_04",
          "Product_04",
          "Product_04",
          "Product_04",
          "Product_04",
          "Product_04",
          "Product_04",
          "Product_04",
          "Product_04",
          "Product_04",
          "Product_04",
          "Product_04",
          "Product_04",
          "Product_04",
          "Product_04",
          "Product_04",
          "Product_04",
          "Product_04",
          "Product_04",
          "Product_04",
          "Product_04",
          "Product_04",
          "Product_04",
          "Product_04",
          "Product_04",
          "Product_04",
          "Product_04",
          "Product_04",
          "Product_04",
          "Product_04",
          "Product_04",
          "Product_04",
          "Product_04",
          "Product_04",
          "Product_04",
          "Product_04",
          "Product_04",
          "Product_04",
          "Product_04",
          "Product_04",
          "Product_04"
         ]
        },
        {
         "mode": "lines",
         "name": "dispatches_SellIn",
         "type": "scatter",
         "x": [
          "2016-08-07T00:00:00",
          "2016-08-14T00:00:00",
          "2016-08-21T00:00:00",
          "2016-08-28T00:00:00",
          "2016-09-04T00:00:00",
          "2016-09-11T00:00:00",
          "2016-09-18T00:00:00",
          "2016-09-25T00:00:00",
          "2016-10-02T00:00:00",
          "2016-10-09T00:00:00",
          "2016-10-16T00:00:00",
          "2016-10-23T00:00:00",
          "2016-10-30T00:00:00",
          "2016-11-06T00:00:00",
          "2016-11-13T00:00:00",
          "2016-11-20T00:00:00",
          "2016-11-27T00:00:00",
          "2016-12-04T00:00:00",
          "2016-12-11T00:00:00",
          "2016-12-18T00:00:00",
          "2016-12-25T00:00:00",
          "2017-01-01T00:00:00",
          "2017-01-08T00:00:00",
          "2017-01-15T00:00:00",
          "2017-01-22T00:00:00",
          "2017-01-29T00:00:00",
          "2017-02-05T00:00:00",
          "2017-02-12T00:00:00",
          "2017-02-19T00:00:00",
          "2017-02-26T00:00:00",
          "2017-03-05T00:00:00",
          "2017-03-12T00:00:00",
          "2017-03-19T00:00:00",
          "2017-03-26T00:00:00",
          "2017-04-02T00:00:00",
          "2017-04-09T00:00:00",
          "2017-04-16T00:00:00",
          "2017-04-23T00:00:00",
          "2017-04-30T00:00:00",
          "2017-05-07T00:00:00",
          "2017-05-14T00:00:00",
          "2017-05-21T00:00:00",
          "2017-05-28T00:00:00",
          "2017-06-04T00:00:00",
          "2017-06-11T00:00:00",
          "2017-06-18T00:00:00",
          "2017-06-25T00:00:00",
          "2017-07-02T00:00:00",
          "2017-07-09T00:00:00",
          "2017-07-16T00:00:00",
          "2017-07-23T00:00:00",
          "2017-07-30T00:00:00",
          "2017-08-06T00:00:00",
          "2017-08-13T00:00:00",
          "2017-08-20T00:00:00",
          "2017-08-27T00:00:00",
          "2017-09-03T00:00:00",
          "2017-09-10T00:00:00",
          "2017-09-17T00:00:00",
          "2017-09-24T00:00:00",
          "2017-10-01T00:00:00",
          "2017-10-08T00:00:00",
          "2017-10-15T00:00:00",
          "2017-10-22T00:00:00",
          "2017-10-29T00:00:00",
          "2017-11-05T00:00:00",
          "2017-11-12T00:00:00",
          "2017-11-19T00:00:00",
          "2017-11-26T00:00:00",
          "2017-12-03T00:00:00",
          "2017-12-10T00:00:00",
          "2017-12-17T00:00:00",
          "2017-12-24T00:00:00",
          "2017-12-31T00:00:00",
          "2018-01-07T00:00:00",
          "2018-01-14T00:00:00",
          "2018-01-21T00:00:00",
          "2018-01-28T00:00:00",
          "2018-02-04T00:00:00",
          "2018-02-11T00:00:00",
          "2018-02-18T00:00:00",
          "2018-02-25T00:00:00",
          "2018-03-04T00:00:00",
          "2018-03-11T00:00:00",
          "2018-03-18T00:00:00",
          "2018-03-25T00:00:00",
          "2018-04-01T00:00:00",
          "2018-04-08T00:00:00",
          "2018-04-15T00:00:00",
          "2018-04-22T00:00:00",
          "2018-04-29T00:00:00",
          "2018-05-06T00:00:00",
          "2018-05-13T00:00:00",
          "2018-05-20T00:00:00",
          "2018-05-27T00:00:00",
          "2018-06-03T00:00:00",
          "2018-06-10T00:00:00",
          "2018-06-17T00:00:00",
          "2018-06-24T00:00:00",
          "2018-07-01T00:00:00",
          "2018-07-08T00:00:00",
          "2018-07-15T00:00:00",
          "2018-07-22T00:00:00",
          "2018-07-29T00:00:00",
          "2018-08-05T00:00:00",
          "2018-08-12T00:00:00",
          "2018-08-19T00:00:00",
          "2018-08-26T00:00:00",
          "2018-09-02T00:00:00",
          "2018-09-09T00:00:00",
          "2018-09-16T00:00:00",
          "2018-09-23T00:00:00",
          "2018-09-30T00:00:00",
          "2018-10-07T00:00:00",
          "2018-10-14T00:00:00",
          "2018-10-21T00:00:00",
          "2018-10-28T00:00:00",
          "2018-11-04T00:00:00",
          "2018-11-11T00:00:00",
          "2018-11-18T00:00:00",
          "2018-11-25T00:00:00",
          "2018-12-02T00:00:00",
          "2018-12-09T00:00:00",
          "2018-12-16T00:00:00",
          "2018-12-23T00:00:00",
          "2018-12-30T00:00:00",
          "2019-01-06T00:00:00",
          "2019-01-13T00:00:00",
          "2019-01-20T00:00:00",
          "2019-01-27T00:00:00",
          "2019-02-03T00:00:00",
          "2019-02-10T00:00:00",
          "2019-02-17T00:00:00",
          "2019-02-24T00:00:00",
          "2019-03-03T00:00:00",
          "2019-03-10T00:00:00",
          "2019-03-17T00:00:00",
          "2019-03-24T00:00:00",
          "2019-03-31T00:00:00",
          "2019-04-07T00:00:00",
          "2019-04-14T00:00:00",
          "2019-04-21T00:00:00",
          "2019-04-28T00:00:00",
          "2019-05-05T00:00:00",
          "2019-05-12T00:00:00",
          "2019-05-19T00:00:00",
          "2019-05-26T00:00:00",
          "2019-06-02T00:00:00",
          "2019-06-09T00:00:00",
          "2019-06-16T00:00:00",
          "2019-06-23T00:00:00",
          "2019-06-30T00:00:00"
         ],
         "y": [
          3976,
          8845,
          3475,
          6740,
          3872,
          1129,
          3322,
          7399,
          9538,
          6247,
          4080,
          3699,
          1745,
          3066,
          5947,
          6069,
          12242,
          7472,
          5790,
          5922,
          3597,
          3636,
          3780,
          4152,
          5479,
          6630,
          6194,
          7711,
          14552,
          4348,
          4677,
          1937,
          2590,
          3646,
          6613,
          4139,
          5900,
          4839,
          2854,
          5886,
          8220,
          7140,
          6684,
          12041,
          6370,
          5706,
          3017,
          2808,
          5090,
          9905,
          9002,
          3445,
          5057,
          4497,
          2753,
          3762,
          7712,
          7057,
          6162,
          5644,
          9894,
          3398,
          3360,
          1915,
          12047,
          6262,
          8128,
          2124,
          1389,
          2606,
          4190,
          7953,
          5852,
          7519,
          10855,
          1710,
          4602,
          3872,
          4816,
          6995,
          7043,
          2116,
          1977,
          5642,
          3646,
          6821,
          4645,
          7832,
          9129,
          7150,
          5696,
          4773,
          8514,
          7830,
          6791,
          10640,
          5892,
          3015,
          3849,
          2192,
          1895,
          9335,
          13777,
          4458,
          6749,
          10039,
          8237,
          7195,
          5692,
          3569,
          9374,
          5023,
          11083,
          7927,
          6851,
          4887,
          3874,
          5026,
          5050,
          7644,
          6528,
          2979,
          6924,
          9114,
          4219,
          4909,
          3749,
          6539,
          6608,
          9990,
          7002,
          8271,
          7575,
          6044,
          4193,
          7988,
          9093,
          7742,
          3842,
          784,
          2180,
          11875,
          5327,
          5653,
          13628,
          12162,
          6833,
          19841,
          6984,
          4554,
          6719,
          7462
         ]
        },
        {
         "mode": "lines",
         "name": "orders_SellIn",
         "type": "scatter",
         "x": [
          "2016-08-07T00:00:00",
          "2016-08-14T00:00:00",
          "2016-08-21T00:00:00",
          "2016-08-28T00:00:00",
          "2016-09-04T00:00:00",
          "2016-09-11T00:00:00",
          "2016-09-18T00:00:00",
          "2016-09-25T00:00:00",
          "2016-10-02T00:00:00",
          "2016-10-09T00:00:00",
          "2016-10-16T00:00:00",
          "2016-10-23T00:00:00",
          "2016-10-30T00:00:00",
          "2016-11-06T00:00:00",
          "2016-11-13T00:00:00",
          "2016-11-20T00:00:00",
          "2016-11-27T00:00:00",
          "2016-12-04T00:00:00",
          "2016-12-11T00:00:00",
          "2016-12-18T00:00:00",
          "2016-12-25T00:00:00",
          "2017-01-01T00:00:00",
          "2017-01-08T00:00:00",
          "2017-01-15T00:00:00",
          "2017-01-22T00:00:00",
          "2017-01-29T00:00:00",
          "2017-02-05T00:00:00",
          "2017-02-12T00:00:00",
          "2017-02-19T00:00:00",
          "2017-02-26T00:00:00",
          "2017-03-05T00:00:00",
          "2017-03-12T00:00:00",
          "2017-03-19T00:00:00",
          "2017-03-26T00:00:00",
          "2017-04-02T00:00:00",
          "2017-04-09T00:00:00",
          "2017-04-16T00:00:00",
          "2017-04-23T00:00:00",
          "2017-04-30T00:00:00",
          "2017-05-07T00:00:00",
          "2017-05-14T00:00:00",
          "2017-05-21T00:00:00",
          "2017-05-28T00:00:00",
          "2017-06-04T00:00:00",
          "2017-06-11T00:00:00",
          "2017-06-18T00:00:00",
          "2017-06-25T00:00:00",
          "2017-07-02T00:00:00",
          "2017-07-09T00:00:00",
          "2017-07-16T00:00:00",
          "2017-07-23T00:00:00",
          "2017-07-30T00:00:00",
          "2017-08-06T00:00:00",
          "2017-08-13T00:00:00",
          "2017-08-20T00:00:00",
          "2017-08-27T00:00:00",
          "2017-09-03T00:00:00",
          "2017-09-10T00:00:00",
          "2017-09-17T00:00:00",
          "2017-09-24T00:00:00",
          "2017-10-01T00:00:00",
          "2017-10-08T00:00:00",
          "2017-10-15T00:00:00",
          "2017-10-22T00:00:00",
          "2017-10-29T00:00:00",
          "2017-11-05T00:00:00",
          "2017-11-12T00:00:00",
          "2017-11-19T00:00:00",
          "2017-11-26T00:00:00",
          "2017-12-03T00:00:00",
          "2017-12-10T00:00:00",
          "2017-12-17T00:00:00",
          "2017-12-24T00:00:00",
          "2017-12-31T00:00:00",
          "2018-01-07T00:00:00",
          "2018-01-14T00:00:00",
          "2018-01-21T00:00:00",
          "2018-01-28T00:00:00",
          "2018-02-04T00:00:00",
          "2018-02-11T00:00:00",
          "2018-02-18T00:00:00",
          "2018-02-25T00:00:00",
          "2018-03-04T00:00:00",
          "2018-03-11T00:00:00",
          "2018-03-18T00:00:00",
          "2018-03-25T00:00:00",
          "2018-04-01T00:00:00",
          "2018-04-08T00:00:00",
          "2018-04-15T00:00:00",
          "2018-04-22T00:00:00",
          "2018-04-29T00:00:00",
          "2018-05-06T00:00:00",
          "2018-05-13T00:00:00",
          "2018-05-20T00:00:00",
          "2018-05-27T00:00:00",
          "2018-06-03T00:00:00",
          "2018-06-10T00:00:00",
          "2018-06-17T00:00:00",
          "2018-06-24T00:00:00",
          "2018-07-01T00:00:00",
          "2018-07-08T00:00:00",
          "2018-07-15T00:00:00",
          "2018-07-22T00:00:00",
          "2018-07-29T00:00:00",
          "2018-08-05T00:00:00",
          "2018-08-12T00:00:00",
          "2018-08-19T00:00:00",
          "2018-08-26T00:00:00",
          "2018-09-02T00:00:00",
          "2018-09-09T00:00:00",
          "2018-09-16T00:00:00",
          "2018-09-23T00:00:00",
          "2018-09-30T00:00:00",
          "2018-10-07T00:00:00",
          "2018-10-14T00:00:00",
          "2018-10-21T00:00:00",
          "2018-10-28T00:00:00",
          "2018-11-04T00:00:00",
          "2018-11-11T00:00:00",
          "2018-11-18T00:00:00",
          "2018-11-25T00:00:00",
          "2018-12-02T00:00:00",
          "2018-12-09T00:00:00",
          "2018-12-16T00:00:00",
          "2018-12-23T00:00:00",
          "2018-12-30T00:00:00",
          "2019-01-06T00:00:00",
          "2019-01-13T00:00:00",
          "2019-01-20T00:00:00",
          "2019-01-27T00:00:00",
          "2019-02-03T00:00:00",
          "2019-02-10T00:00:00",
          "2019-02-17T00:00:00",
          "2019-02-24T00:00:00",
          "2019-03-03T00:00:00",
          "2019-03-10T00:00:00",
          "2019-03-17T00:00:00",
          "2019-03-24T00:00:00",
          "2019-03-31T00:00:00",
          "2019-04-07T00:00:00",
          "2019-04-14T00:00:00",
          "2019-04-21T00:00:00",
          "2019-04-28T00:00:00",
          "2019-05-05T00:00:00",
          "2019-05-12T00:00:00",
          "2019-05-19T00:00:00",
          "2019-05-26T00:00:00",
          "2019-06-02T00:00:00",
          "2019-06-09T00:00:00",
          "2019-06-16T00:00:00",
          "2019-06-23T00:00:00",
          "2019-06-30T00:00:00"
         ],
         "y": [
          3976,
          8845,
          3475,
          6740,
          3872,
          1303,
          3322,
          7745,
          9538,
          6247,
          4184,
          3699,
          1745,
          3066,
          5947,
          6069,
          12414,
          8370,
          5790,
          5922,
          4011,
          4155,
          3781,
          4152,
          5479,
          6630,
          6194,
          7712,
          14552,
          4348,
          4677,
          2075,
          2590,
          3646,
          6613,
          4139,
          5900,
          5333,
          3414,
          6785,
          8953,
          7313,
          7652,
          12457,
          7547,
          6189,
          3433,
          3327,
          5472,
          9889,
          9417,
          4043,
          7580,
          4704,
          3651,
          4116,
          7712,
          7508,
          6266,
          5645,
          9894,
          3398,
          3360,
          1915,
          12047,
          6262,
          8128,
          2124,
          1389,
          2606,
          4190,
          7953,
          5852,
          7519,
          10855,
          1710,
          4844,
          4356,
          5507,
          7755,
          6934,
          2116,
          1977,
          6505,
          4402,
          7201,
          6305,
          9834,
          10995,
          12198,
          16298,
          9603,
          10933,
          8318,
          10536,
          18962,
          12772,
          7099,
          8531,
          8282,
          8714,
          13620,
          16718,
          4458,
          8546,
          11426,
          11175,
          9374,
          10393,
          7130,
          13141,
          7998,
          12780,
          12492,
          9202,
          7194,
          5707,
          6961,
          5430,
          8820,
          7358,
          3083,
          8652,
          12328,
          6194,
          11582,
          5443,
          6989,
          9062,
          9990,
          7868,
          10208,
          7575,
          6646,
          6060,
          8022,
          9093,
          8483,
          4127,
          786,
          3604,
          17924,
          20659,
          11839,
          15525,
          12915,
          6877,
          22499,
          8667,
          6285,
          6719,
          7462
         ]
        },
        {
         "mode": "lines",
         "name": "promo",
         "type": "scatter",
         "x": [
          "2016-08-07T00:00:00",
          "2016-08-14T00:00:00",
          "2016-08-21T00:00:00",
          "2016-08-28T00:00:00",
          "2016-09-04T00:00:00",
          "2016-09-11T00:00:00",
          "2016-09-18T00:00:00",
          "2016-09-25T00:00:00",
          "2016-10-02T00:00:00",
          "2016-10-09T00:00:00",
          "2016-10-16T00:00:00",
          "2016-10-23T00:00:00",
          "2016-10-30T00:00:00",
          "2016-11-06T00:00:00",
          "2016-11-13T00:00:00",
          "2016-11-20T00:00:00",
          "2016-11-27T00:00:00",
          "2016-12-04T00:00:00",
          "2016-12-11T00:00:00",
          "2016-12-18T00:00:00",
          "2016-12-25T00:00:00",
          "2017-01-01T00:00:00",
          "2017-01-08T00:00:00",
          "2017-01-15T00:00:00",
          "2017-01-22T00:00:00",
          "2017-01-29T00:00:00",
          "2017-02-05T00:00:00",
          "2017-02-12T00:00:00",
          "2017-02-19T00:00:00",
          "2017-02-26T00:00:00",
          "2017-03-05T00:00:00",
          "2017-03-12T00:00:00",
          "2017-03-19T00:00:00",
          "2017-03-26T00:00:00",
          "2017-04-02T00:00:00",
          "2017-04-09T00:00:00",
          "2017-04-16T00:00:00",
          "2017-04-23T00:00:00",
          "2017-04-30T00:00:00",
          "2017-05-07T00:00:00",
          "2017-05-14T00:00:00",
          "2017-05-21T00:00:00",
          "2017-05-28T00:00:00",
          "2017-06-04T00:00:00",
          "2017-06-11T00:00:00",
          "2017-06-18T00:00:00",
          "2017-06-25T00:00:00",
          "2017-07-02T00:00:00",
          "2017-07-09T00:00:00",
          "2017-07-16T00:00:00",
          "2017-07-23T00:00:00",
          "2017-07-30T00:00:00",
          "2017-08-06T00:00:00",
          "2017-08-13T00:00:00",
          "2017-08-20T00:00:00",
          "2017-08-27T00:00:00",
          "2017-09-03T00:00:00",
          "2017-09-10T00:00:00",
          "2017-09-17T00:00:00",
          "2017-09-24T00:00:00",
          "2017-10-01T00:00:00",
          "2017-10-08T00:00:00",
          "2017-10-15T00:00:00",
          "2017-10-22T00:00:00",
          "2017-10-29T00:00:00",
          "2017-11-05T00:00:00",
          "2017-11-12T00:00:00",
          "2017-11-19T00:00:00",
          "2017-11-26T00:00:00",
          "2017-12-03T00:00:00",
          "2017-12-10T00:00:00",
          "2017-12-17T00:00:00",
          "2017-12-24T00:00:00",
          "2017-12-31T00:00:00",
          "2018-01-07T00:00:00",
          "2018-01-14T00:00:00",
          "2018-01-21T00:00:00",
          "2018-01-28T00:00:00",
          "2018-02-04T00:00:00",
          "2018-02-11T00:00:00",
          "2018-02-18T00:00:00",
          "2018-02-25T00:00:00",
          "2018-03-04T00:00:00",
          "2018-03-11T00:00:00",
          "2018-03-18T00:00:00",
          "2018-03-25T00:00:00",
          "2018-04-01T00:00:00",
          "2018-04-08T00:00:00",
          "2018-04-15T00:00:00",
          "2018-04-22T00:00:00",
          "2018-04-29T00:00:00",
          "2018-05-06T00:00:00",
          "2018-05-13T00:00:00",
          "2018-05-20T00:00:00",
          "2018-05-27T00:00:00",
          "2018-06-03T00:00:00",
          "2018-06-10T00:00:00",
          "2018-06-17T00:00:00",
          "2018-06-24T00:00:00",
          "2018-07-01T00:00:00",
          "2018-07-08T00:00:00",
          "2018-07-15T00:00:00",
          "2018-07-22T00:00:00",
          "2018-07-29T00:00:00",
          "2018-08-05T00:00:00",
          "2018-08-12T00:00:00",
          "2018-08-19T00:00:00",
          "2018-08-26T00:00:00",
          "2018-09-02T00:00:00",
          "2018-09-09T00:00:00",
          "2018-09-16T00:00:00",
          "2018-09-23T00:00:00",
          "2018-09-30T00:00:00",
          "2018-10-07T00:00:00",
          "2018-10-14T00:00:00",
          "2018-10-21T00:00:00",
          "2018-10-28T00:00:00",
          "2018-11-04T00:00:00",
          "2018-11-11T00:00:00",
          "2018-11-18T00:00:00",
          "2018-11-25T00:00:00",
          "2018-12-02T00:00:00",
          "2018-12-09T00:00:00",
          "2018-12-16T00:00:00",
          "2018-12-23T00:00:00",
          "2018-12-30T00:00:00",
          "2019-01-06T00:00:00",
          "2019-01-13T00:00:00",
          "2019-01-20T00:00:00",
          "2019-01-27T00:00:00",
          "2019-02-03T00:00:00",
          "2019-02-10T00:00:00",
          "2019-02-17T00:00:00",
          "2019-02-24T00:00:00",
          "2019-03-03T00:00:00",
          "2019-03-10T00:00:00",
          "2019-03-17T00:00:00",
          "2019-03-24T00:00:00",
          "2019-03-31T00:00:00",
          "2019-04-07T00:00:00",
          "2019-04-14T00:00:00",
          "2019-04-21T00:00:00",
          "2019-04-28T00:00:00",
          "2019-05-05T00:00:00",
          "2019-05-12T00:00:00",
          "2019-05-19T00:00:00",
          "2019-05-26T00:00:00",
          "2019-06-02T00:00:00",
          "2019-06-09T00:00:00",
          "2019-06-16T00:00:00",
          "2019-06-23T00:00:00",
          "2019-06-30T00:00:00"
         ],
         "y": [
          0,
          71.9,
          71.60000000000002,
          72.10000000000002,
          89.60000000000002,
          69.4,
          68.5,
          66.10000000000001,
          61.1,
          61,
          12.2,
          91.8,
          12,
          10.7,
          8.6,
          8.4,
          7.6,
          1.4,
          0.8,
          4.5,
          87.4,
          5.2,
          0.8,
          0.5,
          1,
          0.7000000000000001,
          0.6000000000000001,
          0.9,
          1.7000000000000002,
          7.4,
          92.4,
          2,
          1.7000000000000002,
          3.2,
          0.9,
          1.1,
          1.4,
          0.8,
          0.5,
          1.2000000000000002,
          1.3,
          6.800000000000002,
          1.2000000000000002,
          1.7000000000000002,
          3.3000000000000003,
          92,
          1.2000000000000002,
          1.8,
          1,
          2.3000000000000003,
          0.9,
          1.7000000000000002,
          0.7000000000000001,
          0.9,
          2.2,
          1.2000000000000002,
          0,
          0.4,
          0.1,
          0.4,
          0.6000000000000001,
          2.5,
          93.5,
          1.4,
          1.7000000000000002,
          1.3,
          3.6,
          94.1,
          1.4,
          1.9,
          1.9,
          1.7000000000000002,
          18.1,
          1.3,
          0.4,
          16.900000000000002,
          1.2000000000000002,
          2.3000000000000003,
          0.9,
          0.4,
          17,
          16.7,
          16.8,
          19.1,
          17.1,
          15.9,
          2.5,
          0.9,
          0.5,
          1.2000000000000002,
          0.6000000000000001,
          3.9,
          78.10000000000002,
          0.9,
          0.8,
          2.4000000000000004,
          1.4,
          90.6,
          0.5,
          0.3,
          0.5,
          9.5,
          0.4,
          0.3,
          0.4,
          0.6000000000000001,
          0.3,
          0.5,
          0.4,
          0.4,
          0.3,
          1.7000000000000002,
          0.6000000000000001,
          3.7,
          5.300000000000002,
          89.5,
          3,
          2.7,
          0.3,
          0.2,
          0.3,
          0.3,
          0.4,
          0.2,
          0.2,
          86.4,
          6.2,
          24.5,
          9.4,
          1.2000000000000002,
          3.3000000000000003,
          2.5,
          3,
          1.5,
          1.6,
          2.4000000000000004,
          80.5,
          2.4000000000000004,
          1.8,
          0.9,
          1.8,
          1,
          0.4,
          4.7,
          92.6,
          0.6000000000000001,
          0.6000000000000001,
          3.8,
          0.6000000000000001,
          92.7,
          0.6000000000000001,
          0.7000000000000001
         ]
        },
        {
         "mode": "lines",
         "name": "hyp_promo",
         "type": "scatter",
         "x": [
          "2016-08-07T00:00:00",
          "2016-08-14T00:00:00",
          "2016-08-21T00:00:00",
          "2016-08-28T00:00:00",
          "2016-09-04T00:00:00",
          "2016-09-11T00:00:00",
          "2016-09-18T00:00:00",
          "2016-09-25T00:00:00",
          "2016-10-02T00:00:00",
          "2016-10-09T00:00:00",
          "2016-10-16T00:00:00",
          "2016-10-23T00:00:00",
          "2016-10-30T00:00:00",
          "2016-11-06T00:00:00",
          "2016-11-13T00:00:00",
          "2016-11-20T00:00:00",
          "2016-11-27T00:00:00",
          "2016-12-04T00:00:00",
          "2016-12-11T00:00:00",
          "2016-12-18T00:00:00",
          "2016-12-25T00:00:00",
          "2017-01-01T00:00:00",
          "2017-01-08T00:00:00",
          "2017-01-15T00:00:00",
          "2017-01-22T00:00:00",
          "2017-01-29T00:00:00",
          "2017-02-05T00:00:00",
          "2017-02-12T00:00:00",
          "2017-02-19T00:00:00",
          "2017-02-26T00:00:00",
          "2017-03-05T00:00:00",
          "2017-03-12T00:00:00",
          "2017-03-19T00:00:00",
          "2017-03-26T00:00:00",
          "2017-04-02T00:00:00",
          "2017-04-09T00:00:00",
          "2017-04-16T00:00:00",
          "2017-04-23T00:00:00",
          "2017-04-30T00:00:00",
          "2017-05-07T00:00:00",
          "2017-05-14T00:00:00",
          "2017-05-21T00:00:00",
          "2017-05-28T00:00:00",
          "2017-06-04T00:00:00",
          "2017-06-11T00:00:00",
          "2017-06-18T00:00:00",
          "2017-06-25T00:00:00",
          "2017-07-02T00:00:00",
          "2017-07-09T00:00:00",
          "2017-07-16T00:00:00",
          "2017-07-23T00:00:00",
          "2017-07-30T00:00:00",
          "2017-08-06T00:00:00",
          "2017-08-13T00:00:00",
          "2017-08-20T00:00:00",
          "2017-08-27T00:00:00",
          "2017-09-03T00:00:00",
          "2017-09-10T00:00:00",
          "2017-09-17T00:00:00",
          "2017-09-24T00:00:00",
          "2017-10-01T00:00:00",
          "2017-10-08T00:00:00",
          "2017-10-15T00:00:00",
          "2017-10-22T00:00:00",
          "2017-10-29T00:00:00",
          "2017-11-05T00:00:00",
          "2017-11-12T00:00:00",
          "2017-11-19T00:00:00",
          "2017-11-26T00:00:00",
          "2017-12-03T00:00:00",
          "2017-12-10T00:00:00",
          "2017-12-17T00:00:00",
          "2017-12-24T00:00:00",
          "2017-12-31T00:00:00",
          "2018-01-07T00:00:00",
          "2018-01-14T00:00:00",
          "2018-01-21T00:00:00",
          "2018-01-28T00:00:00",
          "2018-02-04T00:00:00",
          "2018-02-11T00:00:00",
          "2018-02-18T00:00:00",
          "2018-02-25T00:00:00",
          "2018-03-04T00:00:00",
          "2018-03-11T00:00:00",
          "2018-03-18T00:00:00",
          "2018-03-25T00:00:00",
          "2018-04-01T00:00:00",
          "2018-04-08T00:00:00",
          "2018-04-15T00:00:00",
          "2018-04-22T00:00:00",
          "2018-04-29T00:00:00",
          "2018-05-06T00:00:00",
          "2018-05-13T00:00:00",
          "2018-05-20T00:00:00",
          "2018-05-27T00:00:00",
          "2018-06-03T00:00:00",
          "2018-06-10T00:00:00",
          "2018-06-17T00:00:00",
          "2018-06-24T00:00:00",
          "2018-07-01T00:00:00",
          "2018-07-08T00:00:00",
          "2018-07-15T00:00:00",
          "2018-07-22T00:00:00",
          "2018-07-29T00:00:00",
          "2018-08-05T00:00:00",
          "2018-08-12T00:00:00",
          "2018-08-19T00:00:00",
          "2018-08-26T00:00:00",
          "2018-09-02T00:00:00",
          "2018-09-09T00:00:00",
          "2018-09-16T00:00:00",
          "2018-09-23T00:00:00",
          "2018-09-30T00:00:00",
          "2018-10-07T00:00:00",
          "2018-10-14T00:00:00",
          "2018-10-21T00:00:00",
          "2018-10-28T00:00:00",
          "2018-11-04T00:00:00",
          "2018-11-11T00:00:00",
          "2018-11-18T00:00:00",
          "2018-11-25T00:00:00",
          "2018-12-02T00:00:00",
          "2018-12-09T00:00:00",
          "2018-12-16T00:00:00",
          "2018-12-23T00:00:00",
          "2018-12-30T00:00:00",
          "2019-01-06T00:00:00",
          "2019-01-13T00:00:00",
          "2019-01-20T00:00:00",
          "2019-01-27T00:00:00",
          "2019-02-03T00:00:00",
          "2019-02-10T00:00:00",
          "2019-02-17T00:00:00",
          "2019-02-24T00:00:00",
          "2019-03-03T00:00:00",
          "2019-03-10T00:00:00",
          "2019-03-17T00:00:00",
          "2019-03-24T00:00:00",
          "2019-03-31T00:00:00",
          "2019-04-07T00:00:00",
          "2019-04-14T00:00:00",
          "2019-04-21T00:00:00",
          "2019-04-28T00:00:00",
          "2019-05-05T00:00:00",
          "2019-05-12T00:00:00",
          "2019-05-19T00:00:00",
          "2019-05-26T00:00:00",
          "2019-06-02T00:00:00",
          "2019-06-09T00:00:00",
          "2019-06-16T00:00:00",
          "2019-06-23T00:00:00",
          "2019-06-30T00:00:00"
         ],
         "y": [
          0,
          0,
          0,
          0,
          86.1271676300578,
          0,
          0,
          0,
          0,
          0,
          0,
          94.21965317919076,
          0,
          0,
          0,
          0,
          0,
          0,
          0,
          0,
          92.48554913294798,
          0,
          0,
          0,
          0,
          0,
          0,
          0,
          0,
          0,
          96.53179190751445,
          0,
          0,
          0,
          0,
          0,
          0,
          0,
          0,
          0,
          0,
          0,
          0,
          0,
          0,
          96.53179190751445,
          0,
          0,
          0,
          0,
          0,
          0,
          0,
          0,
          0,
          0,
          0,
          0,
          0,
          0,
          0,
          0,
          95.95375722543352,
          0,
          0,
          0,
          0,
          95.95375722543352,
          0,
          0,
          0,
          0,
          64.73988439306359,
          0,
          0,
          8.092485549132949,
          0,
          0,
          0,
          0,
          0,
          0,
          0,
          0,
          0,
          0,
          0,
          0,
          0,
          0,
          0,
          0,
          90.17341040462428,
          0,
          0,
          0,
          0,
          95.37572254335258,
          0,
          0,
          0,
          0,
          0,
          0,
          0,
          0,
          0,
          0,
          0,
          0,
          0,
          0,
          0,
          0,
          0,
          0,
          0,
          0,
          0,
          0,
          0,
          0,
          0,
          0,
          0,
          0,
          0,
          0,
          0,
          0,
          0,
          0,
          0,
          0,
          0,
          0,
          0,
          0,
          0,
          0,
          0,
          0,
          0,
          0,
          93.06358381502892,
          0,
          0,
          0,
          0,
          87.28323699421966,
          0,
          0
         ]
        },
        {
         "mode": "lines",
         "name": "type_promo_1",
         "type": "scatter",
         "x": [
          "2016-08-07T00:00:00",
          "2016-08-14T00:00:00",
          "2016-08-21T00:00:00",
          "2016-08-28T00:00:00",
          "2016-09-04T00:00:00",
          "2016-09-11T00:00:00",
          "2016-09-18T00:00:00",
          "2016-09-25T00:00:00",
          "2016-10-02T00:00:00",
          "2016-10-09T00:00:00",
          "2016-10-16T00:00:00",
          "2016-10-23T00:00:00",
          "2016-10-30T00:00:00",
          "2016-11-06T00:00:00",
          "2016-11-13T00:00:00",
          "2016-11-20T00:00:00",
          "2016-11-27T00:00:00",
          "2016-12-04T00:00:00",
          "2016-12-11T00:00:00",
          "2016-12-18T00:00:00",
          "2016-12-25T00:00:00",
          "2017-01-01T00:00:00",
          "2017-01-08T00:00:00",
          "2017-01-15T00:00:00",
          "2017-01-22T00:00:00",
          "2017-01-29T00:00:00",
          "2017-02-05T00:00:00",
          "2017-02-12T00:00:00",
          "2017-02-19T00:00:00",
          "2017-02-26T00:00:00",
          "2017-03-05T00:00:00",
          "2017-03-12T00:00:00",
          "2017-03-19T00:00:00",
          "2017-03-26T00:00:00",
          "2017-04-02T00:00:00",
          "2017-04-09T00:00:00",
          "2017-04-16T00:00:00",
          "2017-04-23T00:00:00",
          "2017-04-30T00:00:00",
          "2017-05-07T00:00:00",
          "2017-05-14T00:00:00",
          "2017-05-21T00:00:00",
          "2017-05-28T00:00:00",
          "2017-06-04T00:00:00",
          "2017-06-11T00:00:00",
          "2017-06-18T00:00:00",
          "2017-06-25T00:00:00",
          "2017-07-02T00:00:00",
          "2017-07-09T00:00:00",
          "2017-07-16T00:00:00",
          "2017-07-23T00:00:00",
          "2017-07-30T00:00:00",
          "2017-08-06T00:00:00",
          "2017-08-13T00:00:00",
          "2017-08-20T00:00:00",
          "2017-08-27T00:00:00",
          "2017-09-03T00:00:00",
          "2017-09-10T00:00:00",
          "2017-09-17T00:00:00",
          "2017-09-24T00:00:00",
          "2017-10-01T00:00:00",
          "2017-10-08T00:00:00",
          "2017-10-15T00:00:00",
          "2017-10-22T00:00:00",
          "2017-10-29T00:00:00",
          "2017-11-05T00:00:00",
          "2017-11-12T00:00:00",
          "2017-11-19T00:00:00",
          "2017-11-26T00:00:00",
          "2017-12-03T00:00:00",
          "2017-12-10T00:00:00",
          "2017-12-17T00:00:00",
          "2017-12-24T00:00:00",
          "2017-12-31T00:00:00",
          "2018-01-07T00:00:00",
          "2018-01-14T00:00:00",
          "2018-01-21T00:00:00",
          "2018-01-28T00:00:00",
          "2018-02-04T00:00:00",
          "2018-02-11T00:00:00",
          "2018-02-18T00:00:00",
          "2018-02-25T00:00:00",
          "2018-03-04T00:00:00",
          "2018-03-11T00:00:00",
          "2018-03-18T00:00:00",
          "2018-03-25T00:00:00",
          "2018-04-01T00:00:00",
          "2018-04-08T00:00:00",
          "2018-04-15T00:00:00",
          "2018-04-22T00:00:00",
          "2018-04-29T00:00:00",
          "2018-05-06T00:00:00",
          "2018-05-13T00:00:00",
          "2018-05-20T00:00:00",
          "2018-05-27T00:00:00",
          "2018-06-03T00:00:00",
          "2018-06-10T00:00:00",
          "2018-06-17T00:00:00",
          "2018-06-24T00:00:00",
          "2018-07-01T00:00:00",
          "2018-07-08T00:00:00",
          "2018-07-15T00:00:00",
          "2018-07-22T00:00:00",
          "2018-07-29T00:00:00",
          "2018-08-05T00:00:00",
          "2018-08-12T00:00:00",
          "2018-08-19T00:00:00",
          "2018-08-26T00:00:00",
          "2018-09-02T00:00:00",
          "2018-09-09T00:00:00",
          "2018-09-16T00:00:00",
          "2018-09-23T00:00:00",
          "2018-09-30T00:00:00",
          "2018-10-07T00:00:00",
          "2018-10-14T00:00:00",
          "2018-10-21T00:00:00",
          "2018-10-28T00:00:00",
          "2018-11-04T00:00:00",
          "2018-11-11T00:00:00",
          "2018-11-18T00:00:00",
          "2018-11-25T00:00:00",
          "2018-12-02T00:00:00",
          "2018-12-09T00:00:00",
          "2018-12-16T00:00:00",
          "2018-12-23T00:00:00",
          "2018-12-30T00:00:00",
          "2019-01-06T00:00:00",
          "2019-01-13T00:00:00",
          "2019-01-20T00:00:00",
          "2019-01-27T00:00:00",
          "2019-02-03T00:00:00",
          "2019-02-10T00:00:00",
          "2019-02-17T00:00:00",
          "2019-02-24T00:00:00",
          "2019-03-03T00:00:00",
          "2019-03-10T00:00:00",
          "2019-03-17T00:00:00",
          "2019-03-24T00:00:00",
          "2019-03-31T00:00:00",
          "2019-04-07T00:00:00",
          "2019-04-14T00:00:00",
          "2019-04-21T00:00:00",
          "2019-04-28T00:00:00",
          "2019-05-05T00:00:00",
          "2019-05-12T00:00:00",
          "2019-05-19T00:00:00",
          "2019-05-26T00:00:00",
          "2019-06-02T00:00:00",
          "2019-06-09T00:00:00",
          "2019-06-16T00:00:00",
          "2019-06-23T00:00:00",
          "2019-06-30T00:00:00"
         ],
         "y": [
          0,
          0,
          0,
          0,
          1,
          0,
          0,
          0,
          0,
          0,
          0,
          1,
          0,
          0,
          0,
          0,
          0,
          0,
          0,
          0,
          1,
          0,
          0,
          0,
          0,
          0,
          0,
          0,
          0,
          0,
          0,
          0,
          0,
          0,
          0,
          0,
          0,
          0,
          0,
          0,
          0,
          0,
          0,
          0,
          0,
          0,
          0,
          0,
          0,
          0,
          0,
          0,
          0,
          0,
          0,
          0,
          0,
          0,
          0,
          0,
          0,
          0,
          1,
          0,
          0,
          0,
          0,
          1,
          0,
          0,
          0,
          0,
          0,
          0,
          0,
          0,
          0,
          0,
          0,
          0,
          0,
          0,
          0,
          0,
          0,
          0,
          0,
          0,
          0,
          0,
          0,
          0,
          1,
          0,
          0,
          0,
          0,
          1,
          0,
          0,
          0,
          0,
          0,
          0,
          0,
          0,
          0,
          0,
          0,
          0,
          0,
          0,
          0,
          0,
          0,
          0,
          0,
          0,
          0,
          0,
          0,
          0,
          0,
          0,
          0,
          0,
          0,
          0,
          0,
          0,
          0,
          0,
          0,
          0,
          0,
          0,
          0,
          0,
          0,
          0,
          0,
          0,
          0,
          0,
          0,
          0,
          0,
          0,
          0,
          0,
          0,
          0
         ]
        },
        {
         "mode": "lines",
         "name": "type_promo_2",
         "type": "scatter",
         "x": [
          "2016-08-07T00:00:00",
          "2016-08-14T00:00:00",
          "2016-08-21T00:00:00",
          "2016-08-28T00:00:00",
          "2016-09-04T00:00:00",
          "2016-09-11T00:00:00",
          "2016-09-18T00:00:00",
          "2016-09-25T00:00:00",
          "2016-10-02T00:00:00",
          "2016-10-09T00:00:00",
          "2016-10-16T00:00:00",
          "2016-10-23T00:00:00",
          "2016-10-30T00:00:00",
          "2016-11-06T00:00:00",
          "2016-11-13T00:00:00",
          "2016-11-20T00:00:00",
          "2016-11-27T00:00:00",
          "2016-12-04T00:00:00",
          "2016-12-11T00:00:00",
          "2016-12-18T00:00:00",
          "2016-12-25T00:00:00",
          "2017-01-01T00:00:00",
          "2017-01-08T00:00:00",
          "2017-01-15T00:00:00",
          "2017-01-22T00:00:00",
          "2017-01-29T00:00:00",
          "2017-02-05T00:00:00",
          "2017-02-12T00:00:00",
          "2017-02-19T00:00:00",
          "2017-02-26T00:00:00",
          "2017-03-05T00:00:00",
          "2017-03-12T00:00:00",
          "2017-03-19T00:00:00",
          "2017-03-26T00:00:00",
          "2017-04-02T00:00:00",
          "2017-04-09T00:00:00",
          "2017-04-16T00:00:00",
          "2017-04-23T00:00:00",
          "2017-04-30T00:00:00",
          "2017-05-07T00:00:00",
          "2017-05-14T00:00:00",
          "2017-05-21T00:00:00",
          "2017-05-28T00:00:00",
          "2017-06-04T00:00:00",
          "2017-06-11T00:00:00",
          "2017-06-18T00:00:00",
          "2017-06-25T00:00:00",
          "2017-07-02T00:00:00",
          "2017-07-09T00:00:00",
          "2017-07-16T00:00:00",
          "2017-07-23T00:00:00",
          "2017-07-30T00:00:00",
          "2017-08-06T00:00:00",
          "2017-08-13T00:00:00",
          "2017-08-20T00:00:00",
          "2017-08-27T00:00:00",
          "2017-09-03T00:00:00",
          "2017-09-10T00:00:00",
          "2017-09-17T00:00:00",
          "2017-09-24T00:00:00",
          "2017-10-01T00:00:00",
          "2017-10-08T00:00:00",
          "2017-10-15T00:00:00",
          "2017-10-22T00:00:00",
          "2017-10-29T00:00:00",
          "2017-11-05T00:00:00",
          "2017-11-12T00:00:00",
          "2017-11-19T00:00:00",
          "2017-11-26T00:00:00",
          "2017-12-03T00:00:00",
          "2017-12-10T00:00:00",
          "2017-12-17T00:00:00",
          "2017-12-24T00:00:00",
          "2017-12-31T00:00:00",
          "2018-01-07T00:00:00",
          "2018-01-14T00:00:00",
          "2018-01-21T00:00:00",
          "2018-01-28T00:00:00",
          "2018-02-04T00:00:00",
          "2018-02-11T00:00:00",
          "2018-02-18T00:00:00",
          "2018-02-25T00:00:00",
          "2018-03-04T00:00:00",
          "2018-03-11T00:00:00",
          "2018-03-18T00:00:00",
          "2018-03-25T00:00:00",
          "2018-04-01T00:00:00",
          "2018-04-08T00:00:00",
          "2018-04-15T00:00:00",
          "2018-04-22T00:00:00",
          "2018-04-29T00:00:00",
          "2018-05-06T00:00:00",
          "2018-05-13T00:00:00",
          "2018-05-20T00:00:00",
          "2018-05-27T00:00:00",
          "2018-06-03T00:00:00",
          "2018-06-10T00:00:00",
          "2018-06-17T00:00:00",
          "2018-06-24T00:00:00",
          "2018-07-01T00:00:00",
          "2018-07-08T00:00:00",
          "2018-07-15T00:00:00",
          "2018-07-22T00:00:00",
          "2018-07-29T00:00:00",
          "2018-08-05T00:00:00",
          "2018-08-12T00:00:00",
          "2018-08-19T00:00:00",
          "2018-08-26T00:00:00",
          "2018-09-02T00:00:00",
          "2018-09-09T00:00:00",
          "2018-09-16T00:00:00",
          "2018-09-23T00:00:00",
          "2018-09-30T00:00:00",
          "2018-10-07T00:00:00",
          "2018-10-14T00:00:00",
          "2018-10-21T00:00:00",
          "2018-10-28T00:00:00",
          "2018-11-04T00:00:00",
          "2018-11-11T00:00:00",
          "2018-11-18T00:00:00",
          "2018-11-25T00:00:00",
          "2018-12-02T00:00:00",
          "2018-12-09T00:00:00",
          "2018-12-16T00:00:00",
          "2018-12-23T00:00:00",
          "2018-12-30T00:00:00",
          "2019-01-06T00:00:00",
          "2019-01-13T00:00:00",
          "2019-01-20T00:00:00",
          "2019-01-27T00:00:00",
          "2019-02-03T00:00:00",
          "2019-02-10T00:00:00",
          "2019-02-17T00:00:00",
          "2019-02-24T00:00:00",
          "2019-03-03T00:00:00",
          "2019-03-10T00:00:00",
          "2019-03-17T00:00:00",
          "2019-03-24T00:00:00",
          "2019-03-31T00:00:00",
          "2019-04-07T00:00:00",
          "2019-04-14T00:00:00",
          "2019-04-21T00:00:00",
          "2019-04-28T00:00:00",
          "2019-05-05T00:00:00",
          "2019-05-12T00:00:00",
          "2019-05-19T00:00:00",
          "2019-05-26T00:00:00",
          "2019-06-02T00:00:00",
          "2019-06-09T00:00:00",
          "2019-06-16T00:00:00",
          "2019-06-23T00:00:00",
          "2019-06-30T00:00:00"
         ],
         "y": [
          0,
          0,
          0,
          0,
          1,
          0,
          0,
          0,
          0,
          0,
          0,
          1,
          0,
          0,
          0,
          0,
          0,
          0,
          0,
          0,
          1,
          0,
          0,
          0,
          0,
          0,
          0,
          0,
          0,
          0,
          1,
          0,
          0,
          0,
          0,
          0,
          0,
          0,
          0,
          0,
          0,
          0,
          0,
          0,
          0,
          1,
          0,
          0,
          0,
          0,
          0,
          0,
          0,
          0,
          0,
          0,
          0,
          0,
          0,
          0,
          0,
          0,
          1,
          0,
          0,
          0,
          0,
          1,
          0,
          0,
          0,
          0,
          1,
          0,
          0,
          1,
          0,
          0,
          0,
          0,
          0,
          0,
          0,
          0,
          0,
          0,
          0,
          0,
          0,
          0,
          0,
          0,
          1,
          0,
          0,
          0,
          0,
          1,
          0,
          0,
          0,
          0,
          0,
          0,
          0,
          0,
          0,
          0,
          0,
          0,
          0,
          0,
          0,
          0,
          0,
          0,
          0,
          0,
          0,
          0,
          0,
          0,
          0,
          0,
          0,
          0,
          0,
          0,
          0,
          0,
          0,
          0,
          0,
          0,
          0,
          0,
          0,
          0,
          0,
          0,
          0,
          0,
          0,
          0,
          1,
          0,
          0,
          0,
          0,
          1,
          0,
          0
         ]
        },
        {
         "mode": "lines",
         "name": "delta_t",
         "type": "scatter",
         "x": [
          "2016-08-07T00:00:00",
          "2016-08-14T00:00:00",
          "2016-08-21T00:00:00",
          "2016-08-28T00:00:00",
          "2016-09-04T00:00:00",
          "2016-09-11T00:00:00",
          "2016-09-18T00:00:00",
          "2016-09-25T00:00:00",
          "2016-10-02T00:00:00",
          "2016-10-09T00:00:00",
          "2016-10-16T00:00:00",
          "2016-10-23T00:00:00",
          "2016-10-30T00:00:00",
          "2016-11-06T00:00:00",
          "2016-11-13T00:00:00",
          "2016-11-20T00:00:00",
          "2016-11-27T00:00:00",
          "2016-12-04T00:00:00",
          "2016-12-11T00:00:00",
          "2016-12-18T00:00:00",
          "2016-12-25T00:00:00",
          "2017-01-01T00:00:00",
          "2017-01-08T00:00:00",
          "2017-01-15T00:00:00",
          "2017-01-22T00:00:00",
          "2017-01-29T00:00:00",
          "2017-02-05T00:00:00",
          "2017-02-12T00:00:00",
          "2017-02-19T00:00:00",
          "2017-02-26T00:00:00",
          "2017-03-05T00:00:00",
          "2017-03-12T00:00:00",
          "2017-03-19T00:00:00",
          "2017-03-26T00:00:00",
          "2017-04-02T00:00:00",
          "2017-04-09T00:00:00",
          "2017-04-16T00:00:00",
          "2017-04-23T00:00:00",
          "2017-04-30T00:00:00",
          "2017-05-07T00:00:00",
          "2017-05-14T00:00:00",
          "2017-05-21T00:00:00",
          "2017-05-28T00:00:00",
          "2017-06-04T00:00:00",
          "2017-06-11T00:00:00",
          "2017-06-18T00:00:00",
          "2017-06-25T00:00:00",
          "2017-07-02T00:00:00",
          "2017-07-09T00:00:00",
          "2017-07-16T00:00:00",
          "2017-07-23T00:00:00",
          "2017-07-30T00:00:00",
          "2017-08-06T00:00:00",
          "2017-08-13T00:00:00",
          "2017-08-20T00:00:00",
          "2017-08-27T00:00:00",
          "2017-09-03T00:00:00",
          "2017-09-10T00:00:00",
          "2017-09-17T00:00:00",
          "2017-09-24T00:00:00",
          "2017-10-01T00:00:00",
          "2017-10-08T00:00:00",
          "2017-10-15T00:00:00",
          "2017-10-22T00:00:00",
          "2017-10-29T00:00:00",
          "2017-11-05T00:00:00",
          "2017-11-12T00:00:00",
          "2017-11-19T00:00:00",
          "2017-11-26T00:00:00",
          "2017-12-03T00:00:00",
          "2017-12-10T00:00:00",
          "2017-12-17T00:00:00",
          "2017-12-24T00:00:00",
          "2017-12-31T00:00:00",
          "2018-01-07T00:00:00",
          "2018-01-14T00:00:00",
          "2018-01-21T00:00:00",
          "2018-01-28T00:00:00",
          "2018-02-04T00:00:00",
          "2018-02-11T00:00:00",
          "2018-02-18T00:00:00",
          "2018-02-25T00:00:00",
          "2018-03-04T00:00:00",
          "2018-03-11T00:00:00",
          "2018-03-18T00:00:00",
          "2018-03-25T00:00:00",
          "2018-04-01T00:00:00",
          "2018-04-08T00:00:00",
          "2018-04-15T00:00:00",
          "2018-04-22T00:00:00",
          "2018-04-29T00:00:00",
          "2018-05-06T00:00:00",
          "2018-05-13T00:00:00",
          "2018-05-20T00:00:00",
          "2018-05-27T00:00:00",
          "2018-06-03T00:00:00",
          "2018-06-10T00:00:00",
          "2018-06-17T00:00:00",
          "2018-06-24T00:00:00",
          "2018-07-01T00:00:00",
          "2018-07-08T00:00:00",
          "2018-07-15T00:00:00",
          "2018-07-22T00:00:00",
          "2018-07-29T00:00:00",
          "2018-08-05T00:00:00",
          "2018-08-12T00:00:00",
          "2018-08-19T00:00:00",
          "2018-08-26T00:00:00",
          "2018-09-02T00:00:00",
          "2018-09-09T00:00:00",
          "2018-09-16T00:00:00",
          "2018-09-23T00:00:00",
          "2018-09-30T00:00:00",
          "2018-10-07T00:00:00",
          "2018-10-14T00:00:00",
          "2018-10-21T00:00:00",
          "2018-10-28T00:00:00",
          "2018-11-04T00:00:00",
          "2018-11-11T00:00:00",
          "2018-11-18T00:00:00",
          "2018-11-25T00:00:00",
          "2018-12-02T00:00:00",
          "2018-12-09T00:00:00",
          "2018-12-16T00:00:00",
          "2018-12-23T00:00:00",
          "2018-12-30T00:00:00",
          "2019-01-06T00:00:00",
          "2019-01-13T00:00:00",
          "2019-01-20T00:00:00",
          "2019-01-27T00:00:00",
          "2019-02-03T00:00:00",
          "2019-02-10T00:00:00",
          "2019-02-17T00:00:00",
          "2019-02-24T00:00:00",
          "2019-03-03T00:00:00",
          "2019-03-10T00:00:00",
          "2019-03-17T00:00:00",
          "2019-03-24T00:00:00",
          "2019-03-31T00:00:00",
          "2019-04-07T00:00:00",
          "2019-04-14T00:00:00",
          "2019-04-21T00:00:00",
          "2019-04-28T00:00:00",
          "2019-05-05T00:00:00",
          "2019-05-12T00:00:00",
          "2019-05-19T00:00:00",
          "2019-05-26T00:00:00",
          "2019-06-02T00:00:00",
          "2019-06-09T00:00:00",
          "2019-06-16T00:00:00",
          "2019-06-23T00:00:00",
          "2019-06-30T00:00:00"
         ],
         "y": [
          0,
          7,
          14,
          21,
          28,
          35,
          42,
          49,
          56,
          63,
          70,
          77,
          84,
          91,
          98,
          105,
          112,
          119,
          126,
          133,
          140,
          147,
          154,
          161,
          168,
          175,
          182,
          189,
          196,
          203,
          210,
          217,
          224,
          231,
          238,
          245,
          252,
          259,
          266,
          273,
          280,
          287,
          294,
          301,
          308,
          315,
          322,
          329,
          336,
          343,
          350,
          357,
          364,
          371,
          378,
          385,
          392,
          399,
          406,
          413,
          420,
          427,
          434,
          441,
          448,
          455,
          462,
          469,
          476,
          483,
          490,
          497,
          504,
          511,
          518,
          525,
          532,
          539,
          546,
          553,
          560,
          567,
          574,
          581,
          588,
          595,
          602,
          609,
          616,
          623,
          630,
          637,
          644,
          651,
          658,
          665,
          672,
          679,
          686,
          693,
          700,
          707,
          714,
          721,
          728,
          735,
          742,
          749,
          756,
          763,
          770,
          777,
          784,
          791,
          798,
          805,
          812,
          819,
          826,
          833,
          840,
          847,
          854,
          861,
          868,
          875,
          882,
          889,
          896,
          903,
          910,
          917,
          924,
          931,
          938,
          945,
          952,
          959,
          966,
          973,
          980,
          987,
          994,
          1001,
          1008,
          1015,
          1022,
          1029,
          1036,
          1043,
          1050,
          1057
         ]
        }
       ],
       "layout": {
        "template": {
         "data": {
          "bar": [
           {
            "error_x": {
             "color": "#2a3f5f"
            },
            "error_y": {
             "color": "#2a3f5f"
            },
            "marker": {
             "line": {
              "color": "#E5ECF6",
              "width": 0.5
             },
             "pattern": {
              "fillmode": "overlay",
              "size": 10,
              "solidity": 0.2
             }
            },
            "type": "bar"
           }
          ],
          "barpolar": [
           {
            "marker": {
             "line": {
              "color": "#E5ECF6",
              "width": 0.5
             },
             "pattern": {
              "fillmode": "overlay",
              "size": 10,
              "solidity": 0.2
             }
            },
            "type": "barpolar"
           }
          ],
          "carpet": [
           {
            "aaxis": {
             "endlinecolor": "#2a3f5f",
             "gridcolor": "white",
             "linecolor": "white",
             "minorgridcolor": "white",
             "startlinecolor": "#2a3f5f"
            },
            "baxis": {
             "endlinecolor": "#2a3f5f",
             "gridcolor": "white",
             "linecolor": "white",
             "minorgridcolor": "white",
             "startlinecolor": "#2a3f5f"
            },
            "type": "carpet"
           }
          ],
          "choropleth": [
           {
            "colorbar": {
             "outlinewidth": 0,
             "ticks": ""
            },
            "type": "choropleth"
           }
          ],
          "contour": [
           {
            "colorbar": {
             "outlinewidth": 0,
             "ticks": ""
            },
            "colorscale": [
             [
              0,
              "#0d0887"
             ],
             [
              0.1111111111111111,
              "#46039f"
             ],
             [
              0.2222222222222222,
              "#7201a8"
             ],
             [
              0.3333333333333333,
              "#9c179e"
             ],
             [
              0.4444444444444444,
              "#bd3786"
             ],
             [
              0.5555555555555556,
              "#d8576b"
             ],
             [
              0.6666666666666666,
              "#ed7953"
             ],
             [
              0.7777777777777778,
              "#fb9f3a"
             ],
             [
              0.8888888888888888,
              "#fdca26"
             ],
             [
              1,
              "#f0f921"
             ]
            ],
            "type": "contour"
           }
          ],
          "contourcarpet": [
           {
            "colorbar": {
             "outlinewidth": 0,
             "ticks": ""
            },
            "type": "contourcarpet"
           }
          ],
          "heatmap": [
           {
            "colorbar": {
             "outlinewidth": 0,
             "ticks": ""
            },
            "colorscale": [
             [
              0,
              "#0d0887"
             ],
             [
              0.1111111111111111,
              "#46039f"
             ],
             [
              0.2222222222222222,
              "#7201a8"
             ],
             [
              0.3333333333333333,
              "#9c179e"
             ],
             [
              0.4444444444444444,
              "#bd3786"
             ],
             [
              0.5555555555555556,
              "#d8576b"
             ],
             [
              0.6666666666666666,
              "#ed7953"
             ],
             [
              0.7777777777777778,
              "#fb9f3a"
             ],
             [
              0.8888888888888888,
              "#fdca26"
             ],
             [
              1,
              "#f0f921"
             ]
            ],
            "type": "heatmap"
           }
          ],
          "heatmapgl": [
           {
            "colorbar": {
             "outlinewidth": 0,
             "ticks": ""
            },
            "colorscale": [
             [
              0,
              "#0d0887"
             ],
             [
              0.1111111111111111,
              "#46039f"
             ],
             [
              0.2222222222222222,
              "#7201a8"
             ],
             [
              0.3333333333333333,
              "#9c179e"
             ],
             [
              0.4444444444444444,
              "#bd3786"
             ],
             [
              0.5555555555555556,
              "#d8576b"
             ],
             [
              0.6666666666666666,
              "#ed7953"
             ],
             [
              0.7777777777777778,
              "#fb9f3a"
             ],
             [
              0.8888888888888888,
              "#fdca26"
             ],
             [
              1,
              "#f0f921"
             ]
            ],
            "type": "heatmapgl"
           }
          ],
          "histogram": [
           {
            "marker": {
             "pattern": {
              "fillmode": "overlay",
              "size": 10,
              "solidity": 0.2
             }
            },
            "type": "histogram"
           }
          ],
          "histogram2d": [
           {
            "colorbar": {
             "outlinewidth": 0,
             "ticks": ""
            },
            "colorscale": [
             [
              0,
              "#0d0887"
             ],
             [
              0.1111111111111111,
              "#46039f"
             ],
             [
              0.2222222222222222,
              "#7201a8"
             ],
             [
              0.3333333333333333,
              "#9c179e"
             ],
             [
              0.4444444444444444,
              "#bd3786"
             ],
             [
              0.5555555555555556,
              "#d8576b"
             ],
             [
              0.6666666666666666,
              "#ed7953"
             ],
             [
              0.7777777777777778,
              "#fb9f3a"
             ],
             [
              0.8888888888888888,
              "#fdca26"
             ],
             [
              1,
              "#f0f921"
             ]
            ],
            "type": "histogram2d"
           }
          ],
          "histogram2dcontour": [
           {
            "colorbar": {
             "outlinewidth": 0,
             "ticks": ""
            },
            "colorscale": [
             [
              0,
              "#0d0887"
             ],
             [
              0.1111111111111111,
              "#46039f"
             ],
             [
              0.2222222222222222,
              "#7201a8"
             ],
             [
              0.3333333333333333,
              "#9c179e"
             ],
             [
              0.4444444444444444,
              "#bd3786"
             ],
             [
              0.5555555555555556,
              "#d8576b"
             ],
             [
              0.6666666666666666,
              "#ed7953"
             ],
             [
              0.7777777777777778,
              "#fb9f3a"
             ],
             [
              0.8888888888888888,
              "#fdca26"
             ],
             [
              1,
              "#f0f921"
             ]
            ],
            "type": "histogram2dcontour"
           }
          ],
          "mesh3d": [
           {
            "colorbar": {
             "outlinewidth": 0,
             "ticks": ""
            },
            "type": "mesh3d"
           }
          ],
          "parcoords": [
           {
            "line": {
             "colorbar": {
              "outlinewidth": 0,
              "ticks": ""
             }
            },
            "type": "parcoords"
           }
          ],
          "pie": [
           {
            "automargin": true,
            "type": "pie"
           }
          ],
          "scatter": [
           {
            "marker": {
             "colorbar": {
              "outlinewidth": 0,
              "ticks": ""
             }
            },
            "type": "scatter"
           }
          ],
          "scatter3d": [
           {
            "line": {
             "colorbar": {
              "outlinewidth": 0,
              "ticks": ""
             }
            },
            "marker": {
             "colorbar": {
              "outlinewidth": 0,
              "ticks": ""
             }
            },
            "type": "scatter3d"
           }
          ],
          "scattercarpet": [
           {
            "marker": {
             "colorbar": {
              "outlinewidth": 0,
              "ticks": ""
             }
            },
            "type": "scattercarpet"
           }
          ],
          "scattergeo": [
           {
            "marker": {
             "colorbar": {
              "outlinewidth": 0,
              "ticks": ""
             }
            },
            "type": "scattergeo"
           }
          ],
          "scattergl": [
           {
            "marker": {
             "colorbar": {
              "outlinewidth": 0,
              "ticks": ""
             }
            },
            "type": "scattergl"
           }
          ],
          "scattermapbox": [
           {
            "marker": {
             "colorbar": {
              "outlinewidth": 0,
              "ticks": ""
             }
            },
            "type": "scattermapbox"
           }
          ],
          "scatterpolar": [
           {
            "marker": {
             "colorbar": {
              "outlinewidth": 0,
              "ticks": ""
             }
            },
            "type": "scatterpolar"
           }
          ],
          "scatterpolargl": [
           {
            "marker": {
             "colorbar": {
              "outlinewidth": 0,
              "ticks": ""
             }
            },
            "type": "scatterpolargl"
           }
          ],
          "scatterternary": [
           {
            "marker": {
             "colorbar": {
              "outlinewidth": 0,
              "ticks": ""
             }
            },
            "type": "scatterternary"
           }
          ],
          "surface": [
           {
            "colorbar": {
             "outlinewidth": 0,
             "ticks": ""
            },
            "colorscale": [
             [
              0,
              "#0d0887"
             ],
             [
              0.1111111111111111,
              "#46039f"
             ],
             [
              0.2222222222222222,
              "#7201a8"
             ],
             [
              0.3333333333333333,
              "#9c179e"
             ],
             [
              0.4444444444444444,
              "#bd3786"
             ],
             [
              0.5555555555555556,
              "#d8576b"
             ],
             [
              0.6666666666666666,
              "#ed7953"
             ],
             [
              0.7777777777777778,
              "#fb9f3a"
             ],
             [
              0.8888888888888888,
              "#fdca26"
             ],
             [
              1,
              "#f0f921"
             ]
            ],
            "type": "surface"
           }
          ],
          "table": [
           {
            "cells": {
             "fill": {
              "color": "#EBF0F8"
             },
             "line": {
              "color": "white"
             }
            },
            "header": {
             "fill": {
              "color": "#C8D4E3"
             },
             "line": {
              "color": "white"
             }
            },
            "type": "table"
           }
          ]
         },
         "layout": {
          "annotationdefaults": {
           "arrowcolor": "#2a3f5f",
           "arrowhead": 0,
           "arrowwidth": 1
          },
          "autotypenumbers": "strict",
          "coloraxis": {
           "colorbar": {
            "outlinewidth": 0,
            "ticks": ""
           }
          },
          "colorscale": {
           "diverging": [
            [
             0,
             "#8e0152"
            ],
            [
             0.1,
             "#c51b7d"
            ],
            [
             0.2,
             "#de77ae"
            ],
            [
             0.3,
             "#f1b6da"
            ],
            [
             0.4,
             "#fde0ef"
            ],
            [
             0.5,
             "#f7f7f7"
            ],
            [
             0.6,
             "#e6f5d0"
            ],
            [
             0.7,
             "#b8e186"
            ],
            [
             0.8,
             "#7fbc41"
            ],
            [
             0.9,
             "#4d9221"
            ],
            [
             1,
             "#276419"
            ]
           ],
           "sequential": [
            [
             0,
             "#0d0887"
            ],
            [
             0.1111111111111111,
             "#46039f"
            ],
            [
             0.2222222222222222,
             "#7201a8"
            ],
            [
             0.3333333333333333,
             "#9c179e"
            ],
            [
             0.4444444444444444,
             "#bd3786"
            ],
            [
             0.5555555555555556,
             "#d8576b"
            ],
            [
             0.6666666666666666,
             "#ed7953"
            ],
            [
             0.7777777777777778,
             "#fb9f3a"
            ],
            [
             0.8888888888888888,
             "#fdca26"
            ],
            [
             1,
             "#f0f921"
            ]
           ],
           "sequentialminus": [
            [
             0,
             "#0d0887"
            ],
            [
             0.1111111111111111,
             "#46039f"
            ],
            [
             0.2222222222222222,
             "#7201a8"
            ],
            [
             0.3333333333333333,
             "#9c179e"
            ],
            [
             0.4444444444444444,
             "#bd3786"
            ],
            [
             0.5555555555555556,
             "#d8576b"
            ],
            [
             0.6666666666666666,
             "#ed7953"
            ],
            [
             0.7777777777777778,
             "#fb9f3a"
            ],
            [
             0.8888888888888888,
             "#fdca26"
            ],
            [
             1,
             "#f0f921"
            ]
           ]
          },
          "colorway": [
           "#636efa",
           "#EF553B",
           "#00cc96",
           "#ab63fa",
           "#FFA15A",
           "#19d3f3",
           "#FF6692",
           "#B6E880",
           "#FF97FF",
           "#FECB52"
          ],
          "font": {
           "color": "#2a3f5f"
          },
          "geo": {
           "bgcolor": "white",
           "lakecolor": "white",
           "landcolor": "#E5ECF6",
           "showlakes": true,
           "showland": true,
           "subunitcolor": "white"
          },
          "hoverlabel": {
           "align": "left"
          },
          "hovermode": "closest",
          "mapbox": {
           "style": "light"
          },
          "paper_bgcolor": "white",
          "plot_bgcolor": "#E5ECF6",
          "polar": {
           "angularaxis": {
            "gridcolor": "white",
            "linecolor": "white",
            "ticks": ""
           },
           "bgcolor": "#E5ECF6",
           "radialaxis": {
            "gridcolor": "white",
            "linecolor": "white",
            "ticks": ""
           }
          },
          "scene": {
           "xaxis": {
            "backgroundcolor": "#E5ECF6",
            "gridcolor": "white",
            "gridwidth": 2,
            "linecolor": "white",
            "showbackground": true,
            "ticks": "",
            "zerolinecolor": "white"
           },
           "yaxis": {
            "backgroundcolor": "#E5ECF6",
            "gridcolor": "white",
            "gridwidth": 2,
            "linecolor": "white",
            "showbackground": true,
            "ticks": "",
            "zerolinecolor": "white"
           },
           "zaxis": {
            "backgroundcolor": "#E5ECF6",
            "gridcolor": "white",
            "gridwidth": 2,
            "linecolor": "white",
            "showbackground": true,
            "ticks": "",
            "zerolinecolor": "white"
           }
          },
          "shapedefaults": {
           "line": {
            "color": "#2a3f5f"
           }
          },
          "ternary": {
           "aaxis": {
            "gridcolor": "white",
            "linecolor": "white",
            "ticks": ""
           },
           "baxis": {
            "gridcolor": "white",
            "linecolor": "white",
            "ticks": ""
           },
           "bgcolor": "#E5ECF6",
           "caxis": {
            "gridcolor": "white",
            "linecolor": "white",
            "ticks": ""
           }
          },
          "title": {
           "x": 0.05
          },
          "xaxis": {
           "automargin": true,
           "gridcolor": "white",
           "linecolor": "white",
           "ticks": "",
           "title": {
            "standoff": 15
           },
           "zerolinecolor": "white",
           "zerolinewidth": 2
          },
          "yaxis": {
           "automargin": true,
           "gridcolor": "white",
           "linecolor": "white",
           "ticks": "",
           "title": {
            "standoff": 15
           },
           "zerolinecolor": "white",
           "zerolinewidth": 2
          }
         }
        },
        "title": {
         "text": "Decomposition"
        }
       }
      },
      "text/html": [
       "<div>                            <div id=\"44f29d10-2a63-48d8-9dd3-5b0d905b02b2\" class=\"plotly-graph-div\" style=\"height:525px; width:100%;\"></div>            <script type=\"text/javascript\">                require([\"plotly\"], function(Plotly) {                    window.PLOTLYENV=window.PLOTLYENV || {};                                    if (document.getElementById(\"44f29d10-2a63-48d8-9dd3-5b0d905b02b2\")) {                    Plotly.newPlot(                        \"44f29d10-2a63-48d8-9dd3-5b0d905b02b2\",                        [{\"mode\":\"lines\",\"name\":\"observed\",\"x\":[\"2016-08-07T00:00:00\",\"2016-08-14T00:00:00\",\"2016-08-21T00:00:00\",\"2016-08-28T00:00:00\",\"2016-09-04T00:00:00\",\"2016-09-11T00:00:00\",\"2016-09-18T00:00:00\",\"2016-09-25T00:00:00\",\"2016-10-02T00:00:00\",\"2016-10-09T00:00:00\",\"2016-10-16T00:00:00\",\"2016-10-23T00:00:00\",\"2016-10-30T00:00:00\",\"2016-11-06T00:00:00\",\"2016-11-13T00:00:00\",\"2016-11-20T00:00:00\",\"2016-11-27T00:00:00\",\"2016-12-04T00:00:00\",\"2016-12-11T00:00:00\",\"2016-12-18T00:00:00\",\"2016-12-25T00:00:00\",\"2017-01-01T00:00:00\",\"2017-01-08T00:00:00\",\"2017-01-15T00:00:00\",\"2017-01-22T00:00:00\",\"2017-01-29T00:00:00\",\"2017-02-05T00:00:00\",\"2017-02-12T00:00:00\",\"2017-02-19T00:00:00\",\"2017-02-26T00:00:00\",\"2017-03-05T00:00:00\",\"2017-03-12T00:00:00\",\"2017-03-19T00:00:00\",\"2017-03-26T00:00:00\",\"2017-04-02T00:00:00\",\"2017-04-09T00:00:00\",\"2017-04-16T00:00:00\",\"2017-04-23T00:00:00\",\"2017-04-30T00:00:00\",\"2017-05-07T00:00:00\",\"2017-05-14T00:00:00\",\"2017-05-21T00:00:00\",\"2017-05-28T00:00:00\",\"2017-06-04T00:00:00\",\"2017-06-11T00:00:00\",\"2017-06-18T00:00:00\",\"2017-06-25T00:00:00\",\"2017-07-02T00:00:00\",\"2017-07-09T00:00:00\",\"2017-07-16T00:00:00\",\"2017-07-23T00:00:00\",\"2017-07-30T00:00:00\",\"2017-08-06T00:00:00\",\"2017-08-13T00:00:00\",\"2017-08-20T00:00:00\",\"2017-08-27T00:00:00\",\"2017-09-03T00:00:00\",\"2017-09-10T00:00:00\",\"2017-09-17T00:00:00\",\"2017-09-24T00:00:00\",\"2017-10-01T00:00:00\",\"2017-10-08T00:00:00\",\"2017-10-15T00:00:00\",\"2017-10-22T00:00:00\",\"2017-10-29T00:00:00\",\"2017-11-05T00:00:00\",\"2017-11-12T00:00:00\",\"2017-11-19T00:00:00\",\"2017-11-26T00:00:00\",\"2017-12-03T00:00:00\",\"2017-12-10T00:00:00\",\"2017-12-17T00:00:00\",\"2017-12-24T00:00:00\",\"2017-12-31T00:00:00\",\"2018-01-07T00:00:00\",\"2018-01-14T00:00:00\",\"2018-01-21T00:00:00\",\"2018-01-28T00:00:00\",\"2018-02-04T00:00:00\",\"2018-02-11T00:00:00\",\"2018-02-18T00:00:00\",\"2018-02-25T00:00:00\",\"2018-03-04T00:00:00\",\"2018-03-11T00:00:00\",\"2018-03-18T00:00:00\",\"2018-03-25T00:00:00\",\"2018-04-01T00:00:00\",\"2018-04-08T00:00:00\",\"2018-04-15T00:00:00\",\"2018-04-22T00:00:00\",\"2018-04-29T00:00:00\",\"2018-05-06T00:00:00\",\"2018-05-13T00:00:00\",\"2018-05-20T00:00:00\",\"2018-05-27T00:00:00\",\"2018-06-03T00:00:00\",\"2018-06-10T00:00:00\",\"2018-06-17T00:00:00\",\"2018-06-24T00:00:00\",\"2018-07-01T00:00:00\",\"2018-07-08T00:00:00\",\"2018-07-15T00:00:00\",\"2018-07-22T00:00:00\",\"2018-07-29T00:00:00\",\"2018-08-05T00:00:00\",\"2018-08-12T00:00:00\",\"2018-08-19T00:00:00\",\"2018-08-26T00:00:00\",\"2018-09-02T00:00:00\",\"2018-09-09T00:00:00\",\"2018-09-16T00:00:00\",\"2018-09-23T00:00:00\",\"2018-09-30T00:00:00\",\"2018-10-07T00:00:00\",\"2018-10-14T00:00:00\",\"2018-10-21T00:00:00\",\"2018-10-28T00:00:00\",\"2018-11-04T00:00:00\",\"2018-11-11T00:00:00\",\"2018-11-18T00:00:00\",\"2018-11-25T00:00:00\",\"2018-12-02T00:00:00\",\"2018-12-09T00:00:00\",\"2018-12-16T00:00:00\",\"2018-12-23T00:00:00\",\"2018-12-30T00:00:00\",\"2019-01-06T00:00:00\",\"2019-01-13T00:00:00\",\"2019-01-20T00:00:00\",\"2019-01-27T00:00:00\",\"2019-02-03T00:00:00\",\"2019-02-10T00:00:00\",\"2019-02-17T00:00:00\",\"2019-02-24T00:00:00\",\"2019-03-03T00:00:00\",\"2019-03-10T00:00:00\",\"2019-03-17T00:00:00\",\"2019-03-24T00:00:00\",\"2019-03-31T00:00:00\",\"2019-04-07T00:00:00\",\"2019-04-14T00:00:00\",\"2019-04-21T00:00:00\",\"2019-04-28T00:00:00\",\"2019-05-05T00:00:00\",\"2019-05-12T00:00:00\",\"2019-05-19T00:00:00\",\"2019-05-26T00:00:00\",\"2019-06-02T00:00:00\",\"2019-06-09T00:00:00\",\"2019-06-16T00:00:00\",\"2019-06-23T00:00:00\",\"2019-06-30T00:00:00\"],\"y\":[0,3752,3578,3826,9571,3654,3414,3603,3692,3927,4286,8726,4323,3840,4429,4427,4589,4670,4809,5546,8697,4464,4306,4776,4834,4713,4417,4519,4546,4605,10638,4102,4320,4294,4486,4480,4683,4693,5520,4553,4422,4306,4737,5166,4673,10905,4671,5094,5061,5105,6106,3836,4252,4792,5148,5126,4340,4197,4134,4152,4267,4290,12021,3602,4381,4216,4659,12394,3644,4421,4563,4740,5504,4737,5083,5512,4604,4994,4820,4670,4655,4689,4995,5021,4814,4318,3336,2520,4994,5470,5446,5539,11794,5124,5262,5825,5358,13007,4686,5228,4967,4442,5773,4111,4892,5263,5862,5958,5746,5323,5146,5073,6342,5485,7151,9944,4718,5134,5453,4599,5141,5099,5338,5332,5337,9266,4823,5599,5658,5185,5949,5550,5700,5703,5823,5940,6143,5874,5751,6254,6143,5736,5749,5681,12738,5654,5728,6035,5544,12585,4917,5698],\"type\":\"scatter\"},{\"mode\":\"lines\",\"name\":\"trend\",\"x\":[\"2016-08-07T00:00:00\",\"2016-08-14T00:00:00\",\"2016-08-21T00:00:00\",\"2016-08-28T00:00:00\",\"2016-09-04T00:00:00\",\"2016-09-11T00:00:00\",\"2016-09-18T00:00:00\",\"2016-09-25T00:00:00\",\"2016-10-02T00:00:00\",\"2016-10-09T00:00:00\",\"2016-10-16T00:00:00\",\"2016-10-23T00:00:00\",\"2016-10-30T00:00:00\",\"2016-11-06T00:00:00\",\"2016-11-13T00:00:00\",\"2016-11-20T00:00:00\",\"2016-11-27T00:00:00\",\"2016-12-04T00:00:00\",\"2016-12-11T00:00:00\",\"2016-12-18T00:00:00\",\"2016-12-25T00:00:00\",\"2017-01-01T00:00:00\",\"2017-01-08T00:00:00\",\"2017-01-15T00:00:00\",\"2017-01-22T00:00:00\",\"2017-01-29T00:00:00\",\"2017-02-05T00:00:00\",\"2017-02-12T00:00:00\",\"2017-02-19T00:00:00\",\"2017-02-26T00:00:00\",\"2017-03-05T00:00:00\",\"2017-03-12T00:00:00\",\"2017-03-19T00:00:00\",\"2017-03-26T00:00:00\",\"2017-04-02T00:00:00\",\"2017-04-09T00:00:00\",\"2017-04-16T00:00:00\",\"2017-04-23T00:00:00\",\"2017-04-30T00:00:00\",\"2017-05-07T00:00:00\",\"2017-05-14T00:00:00\",\"2017-05-21T00:00:00\",\"2017-05-28T00:00:00\",\"2017-06-04T00:00:00\",\"2017-06-11T00:00:00\",\"2017-06-18T00:00:00\",\"2017-06-25T00:00:00\",\"2017-07-02T00:00:00\",\"2017-07-09T00:00:00\",\"2017-07-16T00:00:00\",\"2017-07-23T00:00:00\",\"2017-07-30T00:00:00\",\"2017-08-06T00:00:00\",\"2017-08-13T00:00:00\",\"2017-08-20T00:00:00\",\"2017-08-27T00:00:00\",\"2017-09-03T00:00:00\",\"2017-09-10T00:00:00\",\"2017-09-17T00:00:00\",\"2017-09-24T00:00:00\",\"2017-10-01T00:00:00\",\"2017-10-08T00:00:00\",\"2017-10-15T00:00:00\",\"2017-10-22T00:00:00\",\"2017-10-29T00:00:00\",\"2017-11-05T00:00:00\",\"2017-11-12T00:00:00\",\"2017-11-19T00:00:00\",\"2017-11-26T00:00:00\",\"2017-12-03T00:00:00\",\"2017-12-10T00:00:00\",\"2017-12-17T00:00:00\",\"2017-12-24T00:00:00\",\"2017-12-31T00:00:00\",\"2018-01-07T00:00:00\",\"2018-01-14T00:00:00\",\"2018-01-21T00:00:00\",\"2018-01-28T00:00:00\",\"2018-02-04T00:00:00\",\"2018-02-11T00:00:00\",\"2018-02-18T00:00:00\",\"2018-02-25T00:00:00\",\"2018-03-04T00:00:00\",\"2018-03-11T00:00:00\",\"2018-03-18T00:00:00\",\"2018-03-25T00:00:00\",\"2018-04-01T00:00:00\",\"2018-04-08T00:00:00\",\"2018-04-15T00:00:00\",\"2018-04-22T00:00:00\",\"2018-04-29T00:00:00\",\"2018-05-06T00:00:00\",\"2018-05-13T00:00:00\",\"2018-05-20T00:00:00\",\"2018-05-27T00:00:00\",\"2018-06-03T00:00:00\",\"2018-06-10T00:00:00\",\"2018-06-17T00:00:00\",\"2018-06-24T00:00:00\",\"2018-07-01T00:00:00\",\"2018-07-08T00:00:00\",\"2018-07-15T00:00:00\",\"2018-07-22T00:00:00\",\"2018-07-29T00:00:00\",\"2018-08-05T00:00:00\",\"2018-08-12T00:00:00\",\"2018-08-19T00:00:00\",\"2018-08-26T00:00:00\",\"2018-09-02T00:00:00\",\"2018-09-09T00:00:00\",\"2018-09-16T00:00:00\",\"2018-09-23T00:00:00\",\"2018-09-30T00:00:00\",\"2018-10-07T00:00:00\",\"2018-10-14T00:00:00\",\"2018-10-21T00:00:00\",\"2018-10-28T00:00:00\",\"2018-11-04T00:00:00\",\"2018-11-11T00:00:00\",\"2018-11-18T00:00:00\",\"2018-11-25T00:00:00\",\"2018-12-02T00:00:00\",\"2018-12-09T00:00:00\",\"2018-12-16T00:00:00\",\"2018-12-23T00:00:00\",\"2018-12-30T00:00:00\",\"2019-01-06T00:00:00\",\"2019-01-13T00:00:00\",\"2019-01-20T00:00:00\",\"2019-01-27T00:00:00\",\"2019-02-03T00:00:00\",\"2019-02-10T00:00:00\",\"2019-02-17T00:00:00\",\"2019-02-24T00:00:00\",\"2019-03-03T00:00:00\",\"2019-03-10T00:00:00\",\"2019-03-17T00:00:00\",\"2019-03-24T00:00:00\",\"2019-03-31T00:00:00\",\"2019-04-07T00:00:00\",\"2019-04-14T00:00:00\",\"2019-04-21T00:00:00\",\"2019-04-28T00:00:00\",\"2019-05-05T00:00:00\",\"2019-05-12T00:00:00\",\"2019-05-19T00:00:00\",\"2019-05-26T00:00:00\",\"2019-06-02T00:00:00\",\"2019-06-09T00:00:00\",\"2019-06-16T00:00:00\",\"2019-06-23T00:00:00\",\"2019-06-30T00:00:00\"],\"y\":[null,null,null,null,null,null,null,null,null,null,null,null,null,null,null,null,null,null,null,null,null,null,null,null,null,null,4933.0,4983.884615384615,5008.9807692307695,5036.576923076922,4998.778846153847,4953.701923076923,4965.846153846153,4978.048076923076,4988.855769230769,4997.875,5075.740384615385,5100.846153846152,5052.134615384615,5056.3076923076915,5062.134615384615,5140.951923076923,5208.471153846153,5196.990384615387,5192.2307692307695,5182.115384615384,5143.663461538462,5115.586538461539,5125.682692307693,5140.2307692307695,5145.096153846153,5145.586538461539,5152.163461538462,5157.490384615385,5159.990384615385,5161.846153846153,5108.394230769231,5062.971153846155,5076.5576923076915,5081.538461538462,5070.711538461539,5040.8076923076915,5024.951923076925,5035.413461538462,5042.173076923077,5050.942307692307,5131.3076923076915,5210.057692307693,5222.971153846153,5234.3557692307695,5247.278846153846,5274.076923076923,5294.432692307693,5295.865384615384,5296.25,5288.971153846154,5279.394230769231,5278.836538461538,5287.634615384614,5298.317307692308,5309.711538461539,5324.576923076923,5346.096153846153,5370.442307692308,5391.0,5409.586538461537,5438.394230769231,5469.836538461538,5434.5,5448.653846153845,5512.875,5524.9423076923085,5541.403846153847,5474.086538461538,5413.528846153846,5434.442307692308,5448.41346153846,5461.5576923076915,5465.6442307692305,5507.586538461539,5548.634615384615,5546.971153846153,5557.942307692308,5569.91346153846,5582.605769230769,5601.923076923076,5620.4326923076915,5640.2307692307695,5657.942307692308,5674.740384615383,5696.355769230769,5724.096153846152,5762.278846153847,5821.403846153845,5868.355769230769,5881.961538461539,5887.432692307691,5891.711538461538,5902.153846153846,5916.326923076923,5925.903846153846,5932.403846153846,5936.211538461538,5933.942307692308,5932.1057692307695,5938.846153846153,null,null,null,null,null,null,null,null,null,null,null,null,null,null,null,null,null,null,null,null,null,null,null,null,null,null],\"type\":\"scatter\"},{\"mode\":\"lines\",\"name\":\"seasonal\",\"x\":[\"2016-08-07T00:00:00\",\"2016-08-14T00:00:00\",\"2016-08-21T00:00:00\",\"2016-08-28T00:00:00\",\"2016-09-04T00:00:00\",\"2016-09-11T00:00:00\",\"2016-09-18T00:00:00\",\"2016-09-25T00:00:00\",\"2016-10-02T00:00:00\",\"2016-10-09T00:00:00\",\"2016-10-16T00:00:00\",\"2016-10-23T00:00:00\",\"2016-10-30T00:00:00\",\"2016-11-06T00:00:00\",\"2016-11-13T00:00:00\",\"2016-11-20T00:00:00\",\"2016-11-27T00:00:00\",\"2016-12-04T00:00:00\",\"2016-12-11T00:00:00\",\"2016-12-18T00:00:00\",\"2016-12-25T00:00:00\",\"2017-01-01T00:00:00\",\"2017-01-08T00:00:00\",\"2017-01-15T00:00:00\",\"2017-01-22T00:00:00\",\"2017-01-29T00:00:00\",\"2017-02-05T00:00:00\",\"2017-02-12T00:00:00\",\"2017-02-19T00:00:00\",\"2017-02-26T00:00:00\",\"2017-03-05T00:00:00\",\"2017-03-12T00:00:00\",\"2017-03-19T00:00:00\",\"2017-03-26T00:00:00\",\"2017-04-02T00:00:00\",\"2017-04-09T00:00:00\",\"2017-04-16T00:00:00\",\"2017-04-23T00:00:00\",\"2017-04-30T00:00:00\",\"2017-05-07T00:00:00\",\"2017-05-14T00:00:00\",\"2017-05-21T00:00:00\",\"2017-05-28T00:00:00\",\"2017-06-04T00:00:00\",\"2017-06-11T00:00:00\",\"2017-06-18T00:00:00\",\"2017-06-25T00:00:00\",\"2017-07-02T00:00:00\",\"2017-07-09T00:00:00\",\"2017-07-16T00:00:00\",\"2017-07-23T00:00:00\",\"2017-07-30T00:00:00\",\"2017-08-06T00:00:00\",\"2017-08-13T00:00:00\",\"2017-08-20T00:00:00\",\"2017-08-27T00:00:00\",\"2017-09-03T00:00:00\",\"2017-09-10T00:00:00\",\"2017-09-17T00:00:00\",\"2017-09-24T00:00:00\",\"2017-10-01T00:00:00\",\"2017-10-08T00:00:00\",\"2017-10-15T00:00:00\",\"2017-10-22T00:00:00\",\"2017-10-29T00:00:00\",\"2017-11-05T00:00:00\",\"2017-11-12T00:00:00\",\"2017-11-19T00:00:00\",\"2017-11-26T00:00:00\",\"2017-12-03T00:00:00\",\"2017-12-10T00:00:00\",\"2017-12-17T00:00:00\",\"2017-12-24T00:00:00\",\"2017-12-31T00:00:00\",\"2018-01-07T00:00:00\",\"2018-01-14T00:00:00\",\"2018-01-21T00:00:00\",\"2018-01-28T00:00:00\",\"2018-02-04T00:00:00\",\"2018-02-11T00:00:00\",\"2018-02-18T00:00:00\",\"2018-02-25T00:00:00\",\"2018-03-04T00:00:00\",\"2018-03-11T00:00:00\",\"2018-03-18T00:00:00\",\"2018-03-25T00:00:00\",\"2018-04-01T00:00:00\",\"2018-04-08T00:00:00\",\"2018-04-15T00:00:00\",\"2018-04-22T00:00:00\",\"2018-04-29T00:00:00\",\"2018-05-06T00:00:00\",\"2018-05-13T00:00:00\",\"2018-05-20T00:00:00\",\"2018-05-27T00:00:00\",\"2018-06-03T00:00:00\",\"2018-06-10T00:00:00\",\"2018-06-17T00:00:00\",\"2018-06-24T00:00:00\",\"2018-07-01T00:00:00\",\"2018-07-08T00:00:00\",\"2018-07-15T00:00:00\",\"2018-07-22T00:00:00\",\"2018-07-29T00:00:00\",\"2018-08-05T00:00:00\",\"2018-08-12T00:00:00\",\"2018-08-19T00:00:00\",\"2018-08-26T00:00:00\",\"2018-09-02T00:00:00\",\"2018-09-09T00:00:00\",\"2018-09-16T00:00:00\",\"2018-09-23T00:00:00\",\"2018-09-30T00:00:00\",\"2018-10-07T00:00:00\",\"2018-10-14T00:00:00\",\"2018-10-21T00:00:00\",\"2018-10-28T00:00:00\",\"2018-11-04T00:00:00\",\"2018-11-11T00:00:00\",\"2018-11-18T00:00:00\",\"2018-11-25T00:00:00\",\"2018-12-02T00:00:00\",\"2018-12-09T00:00:00\",\"2018-12-16T00:00:00\",\"2018-12-23T00:00:00\",\"2018-12-30T00:00:00\",\"2019-01-06T00:00:00\",\"2019-01-13T00:00:00\",\"2019-01-20T00:00:00\",\"2019-01-27T00:00:00\",\"2019-02-03T00:00:00\",\"2019-02-10T00:00:00\",\"2019-02-17T00:00:00\",\"2019-02-24T00:00:00\",\"2019-03-03T00:00:00\",\"2019-03-10T00:00:00\",\"2019-03-17T00:00:00\",\"2019-03-24T00:00:00\",\"2019-03-31T00:00:00\",\"2019-04-07T00:00:00\",\"2019-04-14T00:00:00\",\"2019-04-21T00:00:00\",\"2019-04-28T00:00:00\",\"2019-05-05T00:00:00\",\"2019-05-12T00:00:00\",\"2019-05-19T00:00:00\",\"2019-05-26T00:00:00\",\"2019-06-02T00:00:00\",\"2019-06-09T00:00:00\",\"2019-06-16T00:00:00\",\"2019-06-23T00:00:00\",\"2019-06-30T00:00:00\"],\"y\":[-792.994452662722,-349.81656804733717,117.1786242603552,143.35170118343189,-337.7781065088762,-606.4656065088758,-744.0665680473368,-787.9271449704139,-109.60502958579951,-541.2156065088749,4141.736316568046,1316.702662721893,-912.9127218934906,-793.9367603550292,-458.3406065088753,2935.6978550295853,-1179.5473372781062,-820.9896449704144,-638.8550295857987,-565.619452662722,-190.37906804733808,1386.5343934911248,-210.85983727810668,225.41900887573905,-673.0040680473381,-282.4463757396448,-489.42714497041385,-544.2107988165682,-556.455991124261,-531.1867603550292,2646.4526627218934,-598.181952662722,-609.0329142011834,-885.4271449704135,-1300.2348372781066,-1731.4656065088757,-414.23002958579906,-190.85983727810532,202.8853550295857,-242.23483727810668,2808.6209319526624,-590.1290680473372,-309.1098372781062,182.17381656804622,-302.43195266272147,6636.553624260356,-623.7636834319529,-148.1963757396457,-320.76849112426095,-567.7107988165682,590.3709319526628,-1381.8598372781062,-792.994452662722,-349.81656804733717,117.1786242603552,143.35170118343189,-337.7781065088762,-606.4656065088758,-744.0665680473368,-787.9271449704139,-109.60502958579951,-541.2156065088749,4141.736316568046,1316.702662721893,-912.9127218934906,-793.9367603550292,-458.3406065088753,2935.6978550295853,-1179.5473372781062,-820.9896449704144,-638.8550295857987,-565.619452662722,-190.37906804733808,1386.5343934911248,-210.85983727810668,225.41900887573905,-673.0040680473381,-282.4463757396448,-489.42714497041385,-544.2107988165682,-556.455991124261,-531.1867603550292,2646.4526627218934,-598.181952662722,-609.0329142011834,-885.4271449704135,-1300.2348372781066,-1731.4656065088757,-414.23002958579906,-190.85983727810532,202.8853550295857,-242.23483727810668,2808.6209319526624,-590.1290680473372,-309.1098372781062,182.17381656804622,-302.43195266272147,6636.553624260356,-623.7636834319529,-148.1963757396457,-320.76849112426095,-567.7107988165682,590.3709319526628,-1381.8598372781062,-792.994452662722,-349.81656804733717,117.1786242603552,143.35170118343189,-337.7781065088762,-606.4656065088758,-744.0665680473368,-787.9271449704139,-109.60502958579951,-541.2156065088749,4141.736316568046,1316.702662721893,-912.9127218934906,-793.9367603550292,-458.3406065088753,2935.6978550295853,-1179.5473372781062,-820.9896449704144,-638.8550295857987,-565.619452662722,-190.37906804733808,1386.5343934911248,-210.85983727810668,225.41900887573905,-673.0040680473381,-282.4463757396448,-489.42714497041385,-544.2107988165682,-556.455991124261,-531.1867603550292,2646.4526627218934,-598.181952662722,-609.0329142011834,-885.4271449704135,-1300.2348372781066,-1731.4656065088757,-414.23002958579906,-190.85983727810532,202.8853550295857,-242.23483727810668,2808.6209319526624,-590.1290680473372,-309.1098372781062,182.17381656804622,-302.43195266272147,6636.553624260356,-623.7636834319529,-148.1963757396457],\"type\":\"scatter\"},{\"mode\":\"lines\",\"name\":\"residual\",\"x\":[\"2016-08-07T00:00:00\",\"2016-08-14T00:00:00\",\"2016-08-21T00:00:00\",\"2016-08-28T00:00:00\",\"2016-09-04T00:00:00\",\"2016-09-11T00:00:00\",\"2016-09-18T00:00:00\",\"2016-09-25T00:00:00\",\"2016-10-02T00:00:00\",\"2016-10-09T00:00:00\",\"2016-10-16T00:00:00\",\"2016-10-23T00:00:00\",\"2016-10-30T00:00:00\",\"2016-11-06T00:00:00\",\"2016-11-13T00:00:00\",\"2016-11-20T00:00:00\",\"2016-11-27T00:00:00\",\"2016-12-04T00:00:00\",\"2016-12-11T00:00:00\",\"2016-12-18T00:00:00\",\"2016-12-25T00:00:00\",\"2017-01-01T00:00:00\",\"2017-01-08T00:00:00\",\"2017-01-15T00:00:00\",\"2017-01-22T00:00:00\",\"2017-01-29T00:00:00\",\"2017-02-05T00:00:00\",\"2017-02-12T00:00:00\",\"2017-02-19T00:00:00\",\"2017-02-26T00:00:00\",\"2017-03-05T00:00:00\",\"2017-03-12T00:00:00\",\"2017-03-19T00:00:00\",\"2017-03-26T00:00:00\",\"2017-04-02T00:00:00\",\"2017-04-09T00:00:00\",\"2017-04-16T00:00:00\",\"2017-04-23T00:00:00\",\"2017-04-30T00:00:00\",\"2017-05-07T00:00:00\",\"2017-05-14T00:00:00\",\"2017-05-21T00:00:00\",\"2017-05-28T00:00:00\",\"2017-06-04T00:00:00\",\"2017-06-11T00:00:00\",\"2017-06-18T00:00:00\",\"2017-06-25T00:00:00\",\"2017-07-02T00:00:00\",\"2017-07-09T00:00:00\",\"2017-07-16T00:00:00\",\"2017-07-23T00:00:00\",\"2017-07-30T00:00:00\",\"2017-08-06T00:00:00\",\"2017-08-13T00:00:00\",\"2017-08-20T00:00:00\",\"2017-08-27T00:00:00\",\"2017-09-03T00:00:00\",\"2017-09-10T00:00:00\",\"2017-09-17T00:00:00\",\"2017-09-24T00:00:00\",\"2017-10-01T00:00:00\",\"2017-10-08T00:00:00\",\"2017-10-15T00:00:00\",\"2017-10-22T00:00:00\",\"2017-10-29T00:00:00\",\"2017-11-05T00:00:00\",\"2017-11-12T00:00:00\",\"2017-11-19T00:00:00\",\"2017-11-26T00:00:00\",\"2017-12-03T00:00:00\",\"2017-12-10T00:00:00\",\"2017-12-17T00:00:00\",\"2017-12-24T00:00:00\",\"2017-12-31T00:00:00\",\"2018-01-07T00:00:00\",\"2018-01-14T00:00:00\",\"2018-01-21T00:00:00\",\"2018-01-28T00:00:00\",\"2018-02-04T00:00:00\",\"2018-02-11T00:00:00\",\"2018-02-18T00:00:00\",\"2018-02-25T00:00:00\",\"2018-03-04T00:00:00\",\"2018-03-11T00:00:00\",\"2018-03-18T00:00:00\",\"2018-03-25T00:00:00\",\"2018-04-01T00:00:00\",\"2018-04-08T00:00:00\",\"2018-04-15T00:00:00\",\"2018-04-22T00:00:00\",\"2018-04-29T00:00:00\",\"2018-05-06T00:00:00\",\"2018-05-13T00:00:00\",\"2018-05-20T00:00:00\",\"2018-05-27T00:00:00\",\"2018-06-03T00:00:00\",\"2018-06-10T00:00:00\",\"2018-06-17T00:00:00\",\"2018-06-24T00:00:00\",\"2018-07-01T00:00:00\",\"2018-07-08T00:00:00\",\"2018-07-15T00:00:00\",\"2018-07-22T00:00:00\",\"2018-07-29T00:00:00\",\"2018-08-05T00:00:00\",\"2018-08-12T00:00:00\",\"2018-08-19T00:00:00\",\"2018-08-26T00:00:00\",\"2018-09-02T00:00:00\",\"2018-09-09T00:00:00\",\"2018-09-16T00:00:00\",\"2018-09-23T00:00:00\",\"2018-09-30T00:00:00\",\"2018-10-07T00:00:00\",\"2018-10-14T00:00:00\",\"2018-10-21T00:00:00\",\"2018-10-28T00:00:00\",\"2018-11-04T00:00:00\",\"2018-11-11T00:00:00\",\"2018-11-18T00:00:00\",\"2018-11-25T00:00:00\",\"2018-12-02T00:00:00\",\"2018-12-09T00:00:00\",\"2018-12-16T00:00:00\",\"2018-12-23T00:00:00\",\"2018-12-30T00:00:00\",\"2019-01-06T00:00:00\",\"2019-01-13T00:00:00\",\"2019-01-20T00:00:00\",\"2019-01-27T00:00:00\",\"2019-02-03T00:00:00\",\"2019-02-10T00:00:00\",\"2019-02-17T00:00:00\",\"2019-02-24T00:00:00\",\"2019-03-03T00:00:00\",\"2019-03-10T00:00:00\",\"2019-03-17T00:00:00\",\"2019-03-24T00:00:00\",\"2019-03-31T00:00:00\",\"2019-04-07T00:00:00\",\"2019-04-14T00:00:00\",\"2019-04-21T00:00:00\",\"2019-04-28T00:00:00\",\"2019-05-05T00:00:00\",\"2019-05-12T00:00:00\",\"2019-05-19T00:00:00\",\"2019-05-26T00:00:00\",\"2019-06-02T00:00:00\",\"2019-06-09T00:00:00\",\"2019-06-16T00:00:00\",\"2019-06-23T00:00:00\",\"2019-06-30T00:00:00\"],\"y\":[null,null,null,null,null,null,null,null,null,null,null,null,null,null,null,null,null,null,null,null,null,null,null,null,null,null,-26.57285502958615,79.32618343195293,93.4752218934915,99.6098372781072,2992.76849112426,-253.51997041420088,-36.81323964496994,201.37906804733723,797.379068047338,1213.5906065088757,21.489644970414304,-216.98631656804713,264.98002958579906,-261.0728550295848,-3448.7555473372777,-244.82285502958564,-162.36131656804713,-213.1642011834328,-216.79881656804804,-913.6690088757396,151.10022189349104,126.60983727810668,256.08579881656766,532.4800295857987,370.53291420118387,72.27329881656715,-107.1690088757399,-15.673816568047584,-129.16900887573996,-179.19785502958524,-430.6161242603552,-259.5055473372794,-198.4911242603547,-141.61131656804798,-694.1065088757396,-209.59208579881658,2854.311760355029,-2750.116124260355,251.73964497041345,-41.00554733727756,-13.967085798816186,4248.244452662721,-399.4238165680472,7.63387573964485,-45.42381656804707,31.542529585799116,399.9463757396448,-1945.3997781065086,-2.3901627218933186,-2.3901627218933186,-2.3901627218932617,-2.3901627218933186,21.792529585799514,-84.10650887573945,-98.25554733727802,-104.39016272189372,-2997.5488165680467,248.73964497041436,32.03291420118342,-206.15939349112375,-802.1593934911248,-1218.3709319526624,-26.26997041420094,212.2059911242605,-269.7603550295857,256.29252958579815,3443.975221893491,240.04252958579912,157.5809911242605,208.38387573964616,212.0184911242614,908.8886834319528,-155.88054733727756,-131.39016272189332,-260.8661242603543,-537.2603550295852,-375.3132396449704,-77.0536242603539,102.38868343195338,10.893491124260947,124.38868343195332,174.4175295857986,425.83579881656857,254.72522189349286,193.71079881656817,136.83099112426146,689.3261834319528,204.81176035503006,-2859.092085798815,2745.335798816568,-256.5199704142,36.22522189349104,9.186760355029548,-4253.024778106508,394.64349112426044,-12.414201183431373,40.64349112426055,-36.32285502958564,-404.72670118343143,1940.6194526627219,null,null,null,null,null,null,null,null,null,null,null,null,null,null,null,null,null,null,null,null,null,null,null,null,null,null],\"type\":\"scatter\"},{\"mode\":\"lines\",\"name\":\"product_group\",\"x\":[\"2016-08-07T00:00:00\",\"2016-08-14T00:00:00\",\"2016-08-21T00:00:00\",\"2016-08-28T00:00:00\",\"2016-09-04T00:00:00\",\"2016-09-11T00:00:00\",\"2016-09-18T00:00:00\",\"2016-09-25T00:00:00\",\"2016-10-02T00:00:00\",\"2016-10-09T00:00:00\",\"2016-10-16T00:00:00\",\"2016-10-23T00:00:00\",\"2016-10-30T00:00:00\",\"2016-11-06T00:00:00\",\"2016-11-13T00:00:00\",\"2016-11-20T00:00:00\",\"2016-11-27T00:00:00\",\"2016-12-04T00:00:00\",\"2016-12-11T00:00:00\",\"2016-12-18T00:00:00\",\"2016-12-25T00:00:00\",\"2017-01-01T00:00:00\",\"2017-01-08T00:00:00\",\"2017-01-15T00:00:00\",\"2017-01-22T00:00:00\",\"2017-01-29T00:00:00\",\"2017-02-05T00:00:00\",\"2017-02-12T00:00:00\",\"2017-02-19T00:00:00\",\"2017-02-26T00:00:00\",\"2017-03-05T00:00:00\",\"2017-03-12T00:00:00\",\"2017-03-19T00:00:00\",\"2017-03-26T00:00:00\",\"2017-04-02T00:00:00\",\"2017-04-09T00:00:00\",\"2017-04-16T00:00:00\",\"2017-04-23T00:00:00\",\"2017-04-30T00:00:00\",\"2017-05-07T00:00:00\",\"2017-05-14T00:00:00\",\"2017-05-21T00:00:00\",\"2017-05-28T00:00:00\",\"2017-06-04T00:00:00\",\"2017-06-11T00:00:00\",\"2017-06-18T00:00:00\",\"2017-06-25T00:00:00\",\"2017-07-02T00:00:00\",\"2017-07-09T00:00:00\",\"2017-07-16T00:00:00\",\"2017-07-23T00:00:00\",\"2017-07-30T00:00:00\",\"2017-08-06T00:00:00\",\"2017-08-13T00:00:00\",\"2017-08-20T00:00:00\",\"2017-08-27T00:00:00\",\"2017-09-03T00:00:00\",\"2017-09-10T00:00:00\",\"2017-09-17T00:00:00\",\"2017-09-24T00:00:00\",\"2017-10-01T00:00:00\",\"2017-10-08T00:00:00\",\"2017-10-15T00:00:00\",\"2017-10-22T00:00:00\",\"2017-10-29T00:00:00\",\"2017-11-05T00:00:00\",\"2017-11-12T00:00:00\",\"2017-11-19T00:00:00\",\"2017-11-26T00:00:00\",\"2017-12-03T00:00:00\",\"2017-12-10T00:00:00\",\"2017-12-17T00:00:00\",\"2017-12-24T00:00:00\",\"2017-12-31T00:00:00\",\"2018-01-07T00:00:00\",\"2018-01-14T00:00:00\",\"2018-01-21T00:00:00\",\"2018-01-28T00:00:00\",\"2018-02-04T00:00:00\",\"2018-02-11T00:00:00\",\"2018-02-18T00:00:00\",\"2018-02-25T00:00:00\",\"2018-03-04T00:00:00\",\"2018-03-11T00:00:00\",\"2018-03-18T00:00:00\",\"2018-03-25T00:00:00\",\"2018-04-01T00:00:00\",\"2018-04-08T00:00:00\",\"2018-04-15T00:00:00\",\"2018-04-22T00:00:00\",\"2018-04-29T00:00:00\",\"2018-05-06T00:00:00\",\"2018-05-13T00:00:00\",\"2018-05-20T00:00:00\",\"2018-05-27T00:00:00\",\"2018-06-03T00:00:00\",\"2018-06-10T00:00:00\",\"2018-06-17T00:00:00\",\"2018-06-24T00:00:00\",\"2018-07-01T00:00:00\",\"2018-07-08T00:00:00\",\"2018-07-15T00:00:00\",\"2018-07-22T00:00:00\",\"2018-07-29T00:00:00\",\"2018-08-05T00:00:00\",\"2018-08-12T00:00:00\",\"2018-08-19T00:00:00\",\"2018-08-26T00:00:00\",\"2018-09-02T00:00:00\",\"2018-09-09T00:00:00\",\"2018-09-16T00:00:00\",\"2018-09-23T00:00:00\",\"2018-09-30T00:00:00\",\"2018-10-07T00:00:00\",\"2018-10-14T00:00:00\",\"2018-10-21T00:00:00\",\"2018-10-28T00:00:00\",\"2018-11-04T00:00:00\",\"2018-11-11T00:00:00\",\"2018-11-18T00:00:00\",\"2018-11-25T00:00:00\",\"2018-12-02T00:00:00\",\"2018-12-09T00:00:00\",\"2018-12-16T00:00:00\",\"2018-12-23T00:00:00\",\"2018-12-30T00:00:00\",\"2019-01-06T00:00:00\",\"2019-01-13T00:00:00\",\"2019-01-20T00:00:00\",\"2019-01-27T00:00:00\",\"2019-02-03T00:00:00\",\"2019-02-10T00:00:00\",\"2019-02-17T00:00:00\",\"2019-02-24T00:00:00\",\"2019-03-03T00:00:00\",\"2019-03-10T00:00:00\",\"2019-03-17T00:00:00\",\"2019-03-24T00:00:00\",\"2019-03-31T00:00:00\",\"2019-04-07T00:00:00\",\"2019-04-14T00:00:00\",\"2019-04-21T00:00:00\",\"2019-04-28T00:00:00\",\"2019-05-05T00:00:00\",\"2019-05-12T00:00:00\",\"2019-05-19T00:00:00\",\"2019-05-26T00:00:00\",\"2019-06-02T00:00:00\",\"2019-06-09T00:00:00\",\"2019-06-16T00:00:00\",\"2019-06-23T00:00:00\",\"2019-06-30T00:00:00\"],\"y\":[\"Product_04\",\"Product_04\",\"Product_04\",\"Product_04\",\"Product_04\",\"Product_04\",\"Product_04\",\"Product_04\",\"Product_04\",\"Product_04\",\"Product_04\",\"Product_04\",\"Product_04\",\"Product_04\",\"Product_04\",\"Product_04\",\"Product_04\",\"Product_04\",\"Product_04\",\"Product_04\",\"Product_04\",\"Product_04\",\"Product_04\",\"Product_04\",\"Product_04\",\"Product_04\",\"Product_04\",\"Product_04\",\"Product_04\",\"Product_04\",\"Product_04\",\"Product_04\",\"Product_04\",\"Product_04\",\"Product_04\",\"Product_04\",\"Product_04\",\"Product_04\",\"Product_04\",\"Product_04\",\"Product_04\",\"Product_04\",\"Product_04\",\"Product_04\",\"Product_04\",\"Product_04\",\"Product_04\",\"Product_04\",\"Product_04\",\"Product_04\",\"Product_04\",\"Product_04\",\"Product_04\",\"Product_04\",\"Product_04\",\"Product_04\",\"Product_04\",\"Product_04\",\"Product_04\",\"Product_04\",\"Product_04\",\"Product_04\",\"Product_04\",\"Product_04\",\"Product_04\",\"Product_04\",\"Product_04\",\"Product_04\",\"Product_04\",\"Product_04\",\"Product_04\",\"Product_04\",\"Product_04\",\"Product_04\",\"Product_04\",\"Product_04\",\"Product_04\",\"Product_04\",\"Product_04\",\"Product_04\",\"Product_04\",\"Product_04\",\"Product_04\",\"Product_04\",\"Product_04\",\"Product_04\",\"Product_04\",\"Product_04\",\"Product_04\",\"Product_04\",\"Product_04\",\"Product_04\",\"Product_04\",\"Product_04\",\"Product_04\",\"Product_04\",\"Product_04\",\"Product_04\",\"Product_04\",\"Product_04\",\"Product_04\",\"Product_04\",\"Product_04\",\"Product_04\",\"Product_04\",\"Product_04\",\"Product_04\",\"Product_04\",\"Product_04\",\"Product_04\",\"Product_04\",\"Product_04\",\"Product_04\",\"Product_04\",\"Product_04\",\"Product_04\",\"Product_04\",\"Product_04\",\"Product_04\",\"Product_04\",\"Product_04\",\"Product_04\",\"Product_04\",\"Product_04\",\"Product_04\",\"Product_04\",\"Product_04\",\"Product_04\",\"Product_04\",\"Product_04\",\"Product_04\",\"Product_04\",\"Product_04\",\"Product_04\",\"Product_04\",\"Product_04\",\"Product_04\",\"Product_04\",\"Product_04\",\"Product_04\",\"Product_04\",\"Product_04\",\"Product_04\",\"Product_04\",\"Product_04\",\"Product_04\",\"Product_04\",\"Product_04\",\"Product_04\",\"Product_04\",\"Product_04\",\"Product_04\"],\"type\":\"scatter\"},{\"mode\":\"lines\",\"name\":\"dispatches_SellIn\",\"x\":[\"2016-08-07T00:00:00\",\"2016-08-14T00:00:00\",\"2016-08-21T00:00:00\",\"2016-08-28T00:00:00\",\"2016-09-04T00:00:00\",\"2016-09-11T00:00:00\",\"2016-09-18T00:00:00\",\"2016-09-25T00:00:00\",\"2016-10-02T00:00:00\",\"2016-10-09T00:00:00\",\"2016-10-16T00:00:00\",\"2016-10-23T00:00:00\",\"2016-10-30T00:00:00\",\"2016-11-06T00:00:00\",\"2016-11-13T00:00:00\",\"2016-11-20T00:00:00\",\"2016-11-27T00:00:00\",\"2016-12-04T00:00:00\",\"2016-12-11T00:00:00\",\"2016-12-18T00:00:00\",\"2016-12-25T00:00:00\",\"2017-01-01T00:00:00\",\"2017-01-08T00:00:00\",\"2017-01-15T00:00:00\",\"2017-01-22T00:00:00\",\"2017-01-29T00:00:00\",\"2017-02-05T00:00:00\",\"2017-02-12T00:00:00\",\"2017-02-19T00:00:00\",\"2017-02-26T00:00:00\",\"2017-03-05T00:00:00\",\"2017-03-12T00:00:00\",\"2017-03-19T00:00:00\",\"2017-03-26T00:00:00\",\"2017-04-02T00:00:00\",\"2017-04-09T00:00:00\",\"2017-04-16T00:00:00\",\"2017-04-23T00:00:00\",\"2017-04-30T00:00:00\",\"2017-05-07T00:00:00\",\"2017-05-14T00:00:00\",\"2017-05-21T00:00:00\",\"2017-05-28T00:00:00\",\"2017-06-04T00:00:00\",\"2017-06-11T00:00:00\",\"2017-06-18T00:00:00\",\"2017-06-25T00:00:00\",\"2017-07-02T00:00:00\",\"2017-07-09T00:00:00\",\"2017-07-16T00:00:00\",\"2017-07-23T00:00:00\",\"2017-07-30T00:00:00\",\"2017-08-06T00:00:00\",\"2017-08-13T00:00:00\",\"2017-08-20T00:00:00\",\"2017-08-27T00:00:00\",\"2017-09-03T00:00:00\",\"2017-09-10T00:00:00\",\"2017-09-17T00:00:00\",\"2017-09-24T00:00:00\",\"2017-10-01T00:00:00\",\"2017-10-08T00:00:00\",\"2017-10-15T00:00:00\",\"2017-10-22T00:00:00\",\"2017-10-29T00:00:00\",\"2017-11-05T00:00:00\",\"2017-11-12T00:00:00\",\"2017-11-19T00:00:00\",\"2017-11-26T00:00:00\",\"2017-12-03T00:00:00\",\"2017-12-10T00:00:00\",\"2017-12-17T00:00:00\",\"2017-12-24T00:00:00\",\"2017-12-31T00:00:00\",\"2018-01-07T00:00:00\",\"2018-01-14T00:00:00\",\"2018-01-21T00:00:00\",\"2018-01-28T00:00:00\",\"2018-02-04T00:00:00\",\"2018-02-11T00:00:00\",\"2018-02-18T00:00:00\",\"2018-02-25T00:00:00\",\"2018-03-04T00:00:00\",\"2018-03-11T00:00:00\",\"2018-03-18T00:00:00\",\"2018-03-25T00:00:00\",\"2018-04-01T00:00:00\",\"2018-04-08T00:00:00\",\"2018-04-15T00:00:00\",\"2018-04-22T00:00:00\",\"2018-04-29T00:00:00\",\"2018-05-06T00:00:00\",\"2018-05-13T00:00:00\",\"2018-05-20T00:00:00\",\"2018-05-27T00:00:00\",\"2018-06-03T00:00:00\",\"2018-06-10T00:00:00\",\"2018-06-17T00:00:00\",\"2018-06-24T00:00:00\",\"2018-07-01T00:00:00\",\"2018-07-08T00:00:00\",\"2018-07-15T00:00:00\",\"2018-07-22T00:00:00\",\"2018-07-29T00:00:00\",\"2018-08-05T00:00:00\",\"2018-08-12T00:00:00\",\"2018-08-19T00:00:00\",\"2018-08-26T00:00:00\",\"2018-09-02T00:00:00\",\"2018-09-09T00:00:00\",\"2018-09-16T00:00:00\",\"2018-09-23T00:00:00\",\"2018-09-30T00:00:00\",\"2018-10-07T00:00:00\",\"2018-10-14T00:00:00\",\"2018-10-21T00:00:00\",\"2018-10-28T00:00:00\",\"2018-11-04T00:00:00\",\"2018-11-11T00:00:00\",\"2018-11-18T00:00:00\",\"2018-11-25T00:00:00\",\"2018-12-02T00:00:00\",\"2018-12-09T00:00:00\",\"2018-12-16T00:00:00\",\"2018-12-23T00:00:00\",\"2018-12-30T00:00:00\",\"2019-01-06T00:00:00\",\"2019-01-13T00:00:00\",\"2019-01-20T00:00:00\",\"2019-01-27T00:00:00\",\"2019-02-03T00:00:00\",\"2019-02-10T00:00:00\",\"2019-02-17T00:00:00\",\"2019-02-24T00:00:00\",\"2019-03-03T00:00:00\",\"2019-03-10T00:00:00\",\"2019-03-17T00:00:00\",\"2019-03-24T00:00:00\",\"2019-03-31T00:00:00\",\"2019-04-07T00:00:00\",\"2019-04-14T00:00:00\",\"2019-04-21T00:00:00\",\"2019-04-28T00:00:00\",\"2019-05-05T00:00:00\",\"2019-05-12T00:00:00\",\"2019-05-19T00:00:00\",\"2019-05-26T00:00:00\",\"2019-06-02T00:00:00\",\"2019-06-09T00:00:00\",\"2019-06-16T00:00:00\",\"2019-06-23T00:00:00\",\"2019-06-30T00:00:00\"],\"y\":[3976,8845,3475,6740,3872,1129,3322,7399,9538,6247,4080,3699,1745,3066,5947,6069,12242,7472,5790,5922,3597,3636,3780,4152,5479,6630,6194,7711,14552,4348,4677,1937,2590,3646,6613,4139,5900,4839,2854,5886,8220,7140,6684,12041,6370,5706,3017,2808,5090,9905,9002,3445,5057,4497,2753,3762,7712,7057,6162,5644,9894,3398,3360,1915,12047,6262,8128,2124,1389,2606,4190,7953,5852,7519,10855,1710,4602,3872,4816,6995,7043,2116,1977,5642,3646,6821,4645,7832,9129,7150,5696,4773,8514,7830,6791,10640,5892,3015,3849,2192,1895,9335,13777,4458,6749,10039,8237,7195,5692,3569,9374,5023,11083,7927,6851,4887,3874,5026,5050,7644,6528,2979,6924,9114,4219,4909,3749,6539,6608,9990,7002,8271,7575,6044,4193,7988,9093,7742,3842,784,2180,11875,5327,5653,13628,12162,6833,19841,6984,4554,6719,7462],\"type\":\"scatter\"},{\"mode\":\"lines\",\"name\":\"orders_SellIn\",\"x\":[\"2016-08-07T00:00:00\",\"2016-08-14T00:00:00\",\"2016-08-21T00:00:00\",\"2016-08-28T00:00:00\",\"2016-09-04T00:00:00\",\"2016-09-11T00:00:00\",\"2016-09-18T00:00:00\",\"2016-09-25T00:00:00\",\"2016-10-02T00:00:00\",\"2016-10-09T00:00:00\",\"2016-10-16T00:00:00\",\"2016-10-23T00:00:00\",\"2016-10-30T00:00:00\",\"2016-11-06T00:00:00\",\"2016-11-13T00:00:00\",\"2016-11-20T00:00:00\",\"2016-11-27T00:00:00\",\"2016-12-04T00:00:00\",\"2016-12-11T00:00:00\",\"2016-12-18T00:00:00\",\"2016-12-25T00:00:00\",\"2017-01-01T00:00:00\",\"2017-01-08T00:00:00\",\"2017-01-15T00:00:00\",\"2017-01-22T00:00:00\",\"2017-01-29T00:00:00\",\"2017-02-05T00:00:00\",\"2017-02-12T00:00:00\",\"2017-02-19T00:00:00\",\"2017-02-26T00:00:00\",\"2017-03-05T00:00:00\",\"2017-03-12T00:00:00\",\"2017-03-19T00:00:00\",\"2017-03-26T00:00:00\",\"2017-04-02T00:00:00\",\"2017-04-09T00:00:00\",\"2017-04-16T00:00:00\",\"2017-04-23T00:00:00\",\"2017-04-30T00:00:00\",\"2017-05-07T00:00:00\",\"2017-05-14T00:00:00\",\"2017-05-21T00:00:00\",\"2017-05-28T00:00:00\",\"2017-06-04T00:00:00\",\"2017-06-11T00:00:00\",\"2017-06-18T00:00:00\",\"2017-06-25T00:00:00\",\"2017-07-02T00:00:00\",\"2017-07-09T00:00:00\",\"2017-07-16T00:00:00\",\"2017-07-23T00:00:00\",\"2017-07-30T00:00:00\",\"2017-08-06T00:00:00\",\"2017-08-13T00:00:00\",\"2017-08-20T00:00:00\",\"2017-08-27T00:00:00\",\"2017-09-03T00:00:00\",\"2017-09-10T00:00:00\",\"2017-09-17T00:00:00\",\"2017-09-24T00:00:00\",\"2017-10-01T00:00:00\",\"2017-10-08T00:00:00\",\"2017-10-15T00:00:00\",\"2017-10-22T00:00:00\",\"2017-10-29T00:00:00\",\"2017-11-05T00:00:00\",\"2017-11-12T00:00:00\",\"2017-11-19T00:00:00\",\"2017-11-26T00:00:00\",\"2017-12-03T00:00:00\",\"2017-12-10T00:00:00\",\"2017-12-17T00:00:00\",\"2017-12-24T00:00:00\",\"2017-12-31T00:00:00\",\"2018-01-07T00:00:00\",\"2018-01-14T00:00:00\",\"2018-01-21T00:00:00\",\"2018-01-28T00:00:00\",\"2018-02-04T00:00:00\",\"2018-02-11T00:00:00\",\"2018-02-18T00:00:00\",\"2018-02-25T00:00:00\",\"2018-03-04T00:00:00\",\"2018-03-11T00:00:00\",\"2018-03-18T00:00:00\",\"2018-03-25T00:00:00\",\"2018-04-01T00:00:00\",\"2018-04-08T00:00:00\",\"2018-04-15T00:00:00\",\"2018-04-22T00:00:00\",\"2018-04-29T00:00:00\",\"2018-05-06T00:00:00\",\"2018-05-13T00:00:00\",\"2018-05-20T00:00:00\",\"2018-05-27T00:00:00\",\"2018-06-03T00:00:00\",\"2018-06-10T00:00:00\",\"2018-06-17T00:00:00\",\"2018-06-24T00:00:00\",\"2018-07-01T00:00:00\",\"2018-07-08T00:00:00\",\"2018-07-15T00:00:00\",\"2018-07-22T00:00:00\",\"2018-07-29T00:00:00\",\"2018-08-05T00:00:00\",\"2018-08-12T00:00:00\",\"2018-08-19T00:00:00\",\"2018-08-26T00:00:00\",\"2018-09-02T00:00:00\",\"2018-09-09T00:00:00\",\"2018-09-16T00:00:00\",\"2018-09-23T00:00:00\",\"2018-09-30T00:00:00\",\"2018-10-07T00:00:00\",\"2018-10-14T00:00:00\",\"2018-10-21T00:00:00\",\"2018-10-28T00:00:00\",\"2018-11-04T00:00:00\",\"2018-11-11T00:00:00\",\"2018-11-18T00:00:00\",\"2018-11-25T00:00:00\",\"2018-12-02T00:00:00\",\"2018-12-09T00:00:00\",\"2018-12-16T00:00:00\",\"2018-12-23T00:00:00\",\"2018-12-30T00:00:00\",\"2019-01-06T00:00:00\",\"2019-01-13T00:00:00\",\"2019-01-20T00:00:00\",\"2019-01-27T00:00:00\",\"2019-02-03T00:00:00\",\"2019-02-10T00:00:00\",\"2019-02-17T00:00:00\",\"2019-02-24T00:00:00\",\"2019-03-03T00:00:00\",\"2019-03-10T00:00:00\",\"2019-03-17T00:00:00\",\"2019-03-24T00:00:00\",\"2019-03-31T00:00:00\",\"2019-04-07T00:00:00\",\"2019-04-14T00:00:00\",\"2019-04-21T00:00:00\",\"2019-04-28T00:00:00\",\"2019-05-05T00:00:00\",\"2019-05-12T00:00:00\",\"2019-05-19T00:00:00\",\"2019-05-26T00:00:00\",\"2019-06-02T00:00:00\",\"2019-06-09T00:00:00\",\"2019-06-16T00:00:00\",\"2019-06-23T00:00:00\",\"2019-06-30T00:00:00\"],\"y\":[3976,8845,3475,6740,3872,1303,3322,7745,9538,6247,4184,3699,1745,3066,5947,6069,12414,8370,5790,5922,4011,4155,3781,4152,5479,6630,6194,7712,14552,4348,4677,2075,2590,3646,6613,4139,5900,5333,3414,6785,8953,7313,7652,12457,7547,6189,3433,3327,5472,9889,9417,4043,7580,4704,3651,4116,7712,7508,6266,5645,9894,3398,3360,1915,12047,6262,8128,2124,1389,2606,4190,7953,5852,7519,10855,1710,4844,4356,5507,7755,6934,2116,1977,6505,4402,7201,6305,9834,10995,12198,16298,9603,10933,8318,10536,18962,12772,7099,8531,8282,8714,13620,16718,4458,8546,11426,11175,9374,10393,7130,13141,7998,12780,12492,9202,7194,5707,6961,5430,8820,7358,3083,8652,12328,6194,11582,5443,6989,9062,9990,7868,10208,7575,6646,6060,8022,9093,8483,4127,786,3604,17924,20659,11839,15525,12915,6877,22499,8667,6285,6719,7462],\"type\":\"scatter\"},{\"mode\":\"lines\",\"name\":\"promo\",\"x\":[\"2016-08-07T00:00:00\",\"2016-08-14T00:00:00\",\"2016-08-21T00:00:00\",\"2016-08-28T00:00:00\",\"2016-09-04T00:00:00\",\"2016-09-11T00:00:00\",\"2016-09-18T00:00:00\",\"2016-09-25T00:00:00\",\"2016-10-02T00:00:00\",\"2016-10-09T00:00:00\",\"2016-10-16T00:00:00\",\"2016-10-23T00:00:00\",\"2016-10-30T00:00:00\",\"2016-11-06T00:00:00\",\"2016-11-13T00:00:00\",\"2016-11-20T00:00:00\",\"2016-11-27T00:00:00\",\"2016-12-04T00:00:00\",\"2016-12-11T00:00:00\",\"2016-12-18T00:00:00\",\"2016-12-25T00:00:00\",\"2017-01-01T00:00:00\",\"2017-01-08T00:00:00\",\"2017-01-15T00:00:00\",\"2017-01-22T00:00:00\",\"2017-01-29T00:00:00\",\"2017-02-05T00:00:00\",\"2017-02-12T00:00:00\",\"2017-02-19T00:00:00\",\"2017-02-26T00:00:00\",\"2017-03-05T00:00:00\",\"2017-03-12T00:00:00\",\"2017-03-19T00:00:00\",\"2017-03-26T00:00:00\",\"2017-04-02T00:00:00\",\"2017-04-09T00:00:00\",\"2017-04-16T00:00:00\",\"2017-04-23T00:00:00\",\"2017-04-30T00:00:00\",\"2017-05-07T00:00:00\",\"2017-05-14T00:00:00\",\"2017-05-21T00:00:00\",\"2017-05-28T00:00:00\",\"2017-06-04T00:00:00\",\"2017-06-11T00:00:00\",\"2017-06-18T00:00:00\",\"2017-06-25T00:00:00\",\"2017-07-02T00:00:00\",\"2017-07-09T00:00:00\",\"2017-07-16T00:00:00\",\"2017-07-23T00:00:00\",\"2017-07-30T00:00:00\",\"2017-08-06T00:00:00\",\"2017-08-13T00:00:00\",\"2017-08-20T00:00:00\",\"2017-08-27T00:00:00\",\"2017-09-03T00:00:00\",\"2017-09-10T00:00:00\",\"2017-09-17T00:00:00\",\"2017-09-24T00:00:00\",\"2017-10-01T00:00:00\",\"2017-10-08T00:00:00\",\"2017-10-15T00:00:00\",\"2017-10-22T00:00:00\",\"2017-10-29T00:00:00\",\"2017-11-05T00:00:00\",\"2017-11-12T00:00:00\",\"2017-11-19T00:00:00\",\"2017-11-26T00:00:00\",\"2017-12-03T00:00:00\",\"2017-12-10T00:00:00\",\"2017-12-17T00:00:00\",\"2017-12-24T00:00:00\",\"2017-12-31T00:00:00\",\"2018-01-07T00:00:00\",\"2018-01-14T00:00:00\",\"2018-01-21T00:00:00\",\"2018-01-28T00:00:00\",\"2018-02-04T00:00:00\",\"2018-02-11T00:00:00\",\"2018-02-18T00:00:00\",\"2018-02-25T00:00:00\",\"2018-03-04T00:00:00\",\"2018-03-11T00:00:00\",\"2018-03-18T00:00:00\",\"2018-03-25T00:00:00\",\"2018-04-01T00:00:00\",\"2018-04-08T00:00:00\",\"2018-04-15T00:00:00\",\"2018-04-22T00:00:00\",\"2018-04-29T00:00:00\",\"2018-05-06T00:00:00\",\"2018-05-13T00:00:00\",\"2018-05-20T00:00:00\",\"2018-05-27T00:00:00\",\"2018-06-03T00:00:00\",\"2018-06-10T00:00:00\",\"2018-06-17T00:00:00\",\"2018-06-24T00:00:00\",\"2018-07-01T00:00:00\",\"2018-07-08T00:00:00\",\"2018-07-15T00:00:00\",\"2018-07-22T00:00:00\",\"2018-07-29T00:00:00\",\"2018-08-05T00:00:00\",\"2018-08-12T00:00:00\",\"2018-08-19T00:00:00\",\"2018-08-26T00:00:00\",\"2018-09-02T00:00:00\",\"2018-09-09T00:00:00\",\"2018-09-16T00:00:00\",\"2018-09-23T00:00:00\",\"2018-09-30T00:00:00\",\"2018-10-07T00:00:00\",\"2018-10-14T00:00:00\",\"2018-10-21T00:00:00\",\"2018-10-28T00:00:00\",\"2018-11-04T00:00:00\",\"2018-11-11T00:00:00\",\"2018-11-18T00:00:00\",\"2018-11-25T00:00:00\",\"2018-12-02T00:00:00\",\"2018-12-09T00:00:00\",\"2018-12-16T00:00:00\",\"2018-12-23T00:00:00\",\"2018-12-30T00:00:00\",\"2019-01-06T00:00:00\",\"2019-01-13T00:00:00\",\"2019-01-20T00:00:00\",\"2019-01-27T00:00:00\",\"2019-02-03T00:00:00\",\"2019-02-10T00:00:00\",\"2019-02-17T00:00:00\",\"2019-02-24T00:00:00\",\"2019-03-03T00:00:00\",\"2019-03-10T00:00:00\",\"2019-03-17T00:00:00\",\"2019-03-24T00:00:00\",\"2019-03-31T00:00:00\",\"2019-04-07T00:00:00\",\"2019-04-14T00:00:00\",\"2019-04-21T00:00:00\",\"2019-04-28T00:00:00\",\"2019-05-05T00:00:00\",\"2019-05-12T00:00:00\",\"2019-05-19T00:00:00\",\"2019-05-26T00:00:00\",\"2019-06-02T00:00:00\",\"2019-06-09T00:00:00\",\"2019-06-16T00:00:00\",\"2019-06-23T00:00:00\",\"2019-06-30T00:00:00\"],\"y\":[0.0,71.9,71.60000000000002,72.10000000000002,89.60000000000002,69.4,68.5,66.10000000000001,61.1,61.0,12.2,91.8,12.0,10.7,8.6,8.4,7.6,1.4,0.8,4.5,87.4,5.2,0.8,0.5,1.0,0.7000000000000001,0.6000000000000001,0.9,1.7000000000000002,7.4,92.4,2.0,1.7000000000000002,3.2,0.9,1.1,1.4,0.8,0.5,1.2000000000000002,1.3,6.800000000000002,1.2000000000000002,1.7000000000000002,3.3000000000000003,92.0,1.2000000000000002,1.8,1.0,2.3000000000000003,0.9,1.7000000000000002,0.7000000000000001,0.9,2.2,1.2000000000000002,0.0,0.4,0.1,0.4,0.6000000000000001,2.5,93.5,1.4,1.7000000000000002,1.3,3.6,94.1,1.4,1.9,1.9,1.7000000000000002,18.1,1.3,0.4,16.900000000000002,1.2000000000000002,2.3000000000000003,0.9,0.4,17.0,16.7,16.8,19.1,17.1,15.9,2.5,0.9,0.5,1.2000000000000002,0.6000000000000001,3.9,78.10000000000002,0.9,0.8,2.4000000000000004,1.4,90.6,0.5,0.3,0.5,9.5,0.4,0.3,0.4,0.6000000000000001,0.3,0.5,0.4,0.4,0.3,1.7000000000000002,0.6000000000000001,3.7,5.300000000000002,89.5,3.0,2.7,0.3,0.2,0.3,0.3,0.4,0.2,0.2,86.4,6.2,24.5,9.4,1.2000000000000002,3.3000000000000003,2.5,3.0,1.5,1.6,2.4000000000000004,80.5,2.4000000000000004,1.8,0.9,1.8,1.0,0.4,4.7,92.6,0.6000000000000001,0.6000000000000001,3.8,0.6000000000000001,92.7,0.6000000000000001,0.7000000000000001],\"type\":\"scatter\"},{\"mode\":\"lines\",\"name\":\"hyp_promo\",\"x\":[\"2016-08-07T00:00:00\",\"2016-08-14T00:00:00\",\"2016-08-21T00:00:00\",\"2016-08-28T00:00:00\",\"2016-09-04T00:00:00\",\"2016-09-11T00:00:00\",\"2016-09-18T00:00:00\",\"2016-09-25T00:00:00\",\"2016-10-02T00:00:00\",\"2016-10-09T00:00:00\",\"2016-10-16T00:00:00\",\"2016-10-23T00:00:00\",\"2016-10-30T00:00:00\",\"2016-11-06T00:00:00\",\"2016-11-13T00:00:00\",\"2016-11-20T00:00:00\",\"2016-11-27T00:00:00\",\"2016-12-04T00:00:00\",\"2016-12-11T00:00:00\",\"2016-12-18T00:00:00\",\"2016-12-25T00:00:00\",\"2017-01-01T00:00:00\",\"2017-01-08T00:00:00\",\"2017-01-15T00:00:00\",\"2017-01-22T00:00:00\",\"2017-01-29T00:00:00\",\"2017-02-05T00:00:00\",\"2017-02-12T00:00:00\",\"2017-02-19T00:00:00\",\"2017-02-26T00:00:00\",\"2017-03-05T00:00:00\",\"2017-03-12T00:00:00\",\"2017-03-19T00:00:00\",\"2017-03-26T00:00:00\",\"2017-04-02T00:00:00\",\"2017-04-09T00:00:00\",\"2017-04-16T00:00:00\",\"2017-04-23T00:00:00\",\"2017-04-30T00:00:00\",\"2017-05-07T00:00:00\",\"2017-05-14T00:00:00\",\"2017-05-21T00:00:00\",\"2017-05-28T00:00:00\",\"2017-06-04T00:00:00\",\"2017-06-11T00:00:00\",\"2017-06-18T00:00:00\",\"2017-06-25T00:00:00\",\"2017-07-02T00:00:00\",\"2017-07-09T00:00:00\",\"2017-07-16T00:00:00\",\"2017-07-23T00:00:00\",\"2017-07-30T00:00:00\",\"2017-08-06T00:00:00\",\"2017-08-13T00:00:00\",\"2017-08-20T00:00:00\",\"2017-08-27T00:00:00\",\"2017-09-03T00:00:00\",\"2017-09-10T00:00:00\",\"2017-09-17T00:00:00\",\"2017-09-24T00:00:00\",\"2017-10-01T00:00:00\",\"2017-10-08T00:00:00\",\"2017-10-15T00:00:00\",\"2017-10-22T00:00:00\",\"2017-10-29T00:00:00\",\"2017-11-05T00:00:00\",\"2017-11-12T00:00:00\",\"2017-11-19T00:00:00\",\"2017-11-26T00:00:00\",\"2017-12-03T00:00:00\",\"2017-12-10T00:00:00\",\"2017-12-17T00:00:00\",\"2017-12-24T00:00:00\",\"2017-12-31T00:00:00\",\"2018-01-07T00:00:00\",\"2018-01-14T00:00:00\",\"2018-01-21T00:00:00\",\"2018-01-28T00:00:00\",\"2018-02-04T00:00:00\",\"2018-02-11T00:00:00\",\"2018-02-18T00:00:00\",\"2018-02-25T00:00:00\",\"2018-03-04T00:00:00\",\"2018-03-11T00:00:00\",\"2018-03-18T00:00:00\",\"2018-03-25T00:00:00\",\"2018-04-01T00:00:00\",\"2018-04-08T00:00:00\",\"2018-04-15T00:00:00\",\"2018-04-22T00:00:00\",\"2018-04-29T00:00:00\",\"2018-05-06T00:00:00\",\"2018-05-13T00:00:00\",\"2018-05-20T00:00:00\",\"2018-05-27T00:00:00\",\"2018-06-03T00:00:00\",\"2018-06-10T00:00:00\",\"2018-06-17T00:00:00\",\"2018-06-24T00:00:00\",\"2018-07-01T00:00:00\",\"2018-07-08T00:00:00\",\"2018-07-15T00:00:00\",\"2018-07-22T00:00:00\",\"2018-07-29T00:00:00\",\"2018-08-05T00:00:00\",\"2018-08-12T00:00:00\",\"2018-08-19T00:00:00\",\"2018-08-26T00:00:00\",\"2018-09-02T00:00:00\",\"2018-09-09T00:00:00\",\"2018-09-16T00:00:00\",\"2018-09-23T00:00:00\",\"2018-09-30T00:00:00\",\"2018-10-07T00:00:00\",\"2018-10-14T00:00:00\",\"2018-10-21T00:00:00\",\"2018-10-28T00:00:00\",\"2018-11-04T00:00:00\",\"2018-11-11T00:00:00\",\"2018-11-18T00:00:00\",\"2018-11-25T00:00:00\",\"2018-12-02T00:00:00\",\"2018-12-09T00:00:00\",\"2018-12-16T00:00:00\",\"2018-12-23T00:00:00\",\"2018-12-30T00:00:00\",\"2019-01-06T00:00:00\",\"2019-01-13T00:00:00\",\"2019-01-20T00:00:00\",\"2019-01-27T00:00:00\",\"2019-02-03T00:00:00\",\"2019-02-10T00:00:00\",\"2019-02-17T00:00:00\",\"2019-02-24T00:00:00\",\"2019-03-03T00:00:00\",\"2019-03-10T00:00:00\",\"2019-03-17T00:00:00\",\"2019-03-24T00:00:00\",\"2019-03-31T00:00:00\",\"2019-04-07T00:00:00\",\"2019-04-14T00:00:00\",\"2019-04-21T00:00:00\",\"2019-04-28T00:00:00\",\"2019-05-05T00:00:00\",\"2019-05-12T00:00:00\",\"2019-05-19T00:00:00\",\"2019-05-26T00:00:00\",\"2019-06-02T00:00:00\",\"2019-06-09T00:00:00\",\"2019-06-16T00:00:00\",\"2019-06-23T00:00:00\",\"2019-06-30T00:00:00\"],\"y\":[0.0,0.0,0.0,0.0,86.1271676300578,0.0,0.0,0.0,0.0,0.0,0.0,94.21965317919076,0.0,0.0,0.0,0.0,0.0,0.0,0.0,0.0,92.48554913294798,0.0,0.0,0.0,0.0,0.0,0.0,0.0,0.0,0.0,96.53179190751445,0.0,0.0,0.0,0.0,0.0,0.0,0.0,0.0,0.0,0.0,0.0,0.0,0.0,0.0,96.53179190751445,0.0,0.0,0.0,0.0,0.0,0.0,0.0,0.0,0.0,0.0,0.0,0.0,0.0,0.0,0.0,0.0,95.95375722543352,0.0,0.0,0.0,0.0,95.95375722543352,0.0,0.0,0.0,0.0,64.73988439306359,0.0,0.0,8.092485549132949,0.0,0.0,0.0,0.0,0.0,0.0,0.0,0.0,0.0,0.0,0.0,0.0,0.0,0.0,0.0,0.0,90.17341040462428,0.0,0.0,0.0,0.0,95.37572254335258,0.0,0.0,0.0,0.0,0.0,0.0,0.0,0.0,0.0,0.0,0.0,0.0,0.0,0.0,0.0,0.0,0.0,0.0,0.0,0.0,0.0,0.0,0.0,0.0,0.0,0.0,0.0,0.0,0.0,0.0,0.0,0.0,0.0,0.0,0.0,0.0,0.0,0.0,0.0,0.0,0.0,0.0,0.0,0.0,0.0,0.0,93.06358381502892,0.0,0.0,0.0,0.0,87.28323699421966,0.0,0.0],\"type\":\"scatter\"},{\"mode\":\"lines\",\"name\":\"type_promo_1\",\"x\":[\"2016-08-07T00:00:00\",\"2016-08-14T00:00:00\",\"2016-08-21T00:00:00\",\"2016-08-28T00:00:00\",\"2016-09-04T00:00:00\",\"2016-09-11T00:00:00\",\"2016-09-18T00:00:00\",\"2016-09-25T00:00:00\",\"2016-10-02T00:00:00\",\"2016-10-09T00:00:00\",\"2016-10-16T00:00:00\",\"2016-10-23T00:00:00\",\"2016-10-30T00:00:00\",\"2016-11-06T00:00:00\",\"2016-11-13T00:00:00\",\"2016-11-20T00:00:00\",\"2016-11-27T00:00:00\",\"2016-12-04T00:00:00\",\"2016-12-11T00:00:00\",\"2016-12-18T00:00:00\",\"2016-12-25T00:00:00\",\"2017-01-01T00:00:00\",\"2017-01-08T00:00:00\",\"2017-01-15T00:00:00\",\"2017-01-22T00:00:00\",\"2017-01-29T00:00:00\",\"2017-02-05T00:00:00\",\"2017-02-12T00:00:00\",\"2017-02-19T00:00:00\",\"2017-02-26T00:00:00\",\"2017-03-05T00:00:00\",\"2017-03-12T00:00:00\",\"2017-03-19T00:00:00\",\"2017-03-26T00:00:00\",\"2017-04-02T00:00:00\",\"2017-04-09T00:00:00\",\"2017-04-16T00:00:00\",\"2017-04-23T00:00:00\",\"2017-04-30T00:00:00\",\"2017-05-07T00:00:00\",\"2017-05-14T00:00:00\",\"2017-05-21T00:00:00\",\"2017-05-28T00:00:00\",\"2017-06-04T00:00:00\",\"2017-06-11T00:00:00\",\"2017-06-18T00:00:00\",\"2017-06-25T00:00:00\",\"2017-07-02T00:00:00\",\"2017-07-09T00:00:00\",\"2017-07-16T00:00:00\",\"2017-07-23T00:00:00\",\"2017-07-30T00:00:00\",\"2017-08-06T00:00:00\",\"2017-08-13T00:00:00\",\"2017-08-20T00:00:00\",\"2017-08-27T00:00:00\",\"2017-09-03T00:00:00\",\"2017-09-10T00:00:00\",\"2017-09-17T00:00:00\",\"2017-09-24T00:00:00\",\"2017-10-01T00:00:00\",\"2017-10-08T00:00:00\",\"2017-10-15T00:00:00\",\"2017-10-22T00:00:00\",\"2017-10-29T00:00:00\",\"2017-11-05T00:00:00\",\"2017-11-12T00:00:00\",\"2017-11-19T00:00:00\",\"2017-11-26T00:00:00\",\"2017-12-03T00:00:00\",\"2017-12-10T00:00:00\",\"2017-12-17T00:00:00\",\"2017-12-24T00:00:00\",\"2017-12-31T00:00:00\",\"2018-01-07T00:00:00\",\"2018-01-14T00:00:00\",\"2018-01-21T00:00:00\",\"2018-01-28T00:00:00\",\"2018-02-04T00:00:00\",\"2018-02-11T00:00:00\",\"2018-02-18T00:00:00\",\"2018-02-25T00:00:00\",\"2018-03-04T00:00:00\",\"2018-03-11T00:00:00\",\"2018-03-18T00:00:00\",\"2018-03-25T00:00:00\",\"2018-04-01T00:00:00\",\"2018-04-08T00:00:00\",\"2018-04-15T00:00:00\",\"2018-04-22T00:00:00\",\"2018-04-29T00:00:00\",\"2018-05-06T00:00:00\",\"2018-05-13T00:00:00\",\"2018-05-20T00:00:00\",\"2018-05-27T00:00:00\",\"2018-06-03T00:00:00\",\"2018-06-10T00:00:00\",\"2018-06-17T00:00:00\",\"2018-06-24T00:00:00\",\"2018-07-01T00:00:00\",\"2018-07-08T00:00:00\",\"2018-07-15T00:00:00\",\"2018-07-22T00:00:00\",\"2018-07-29T00:00:00\",\"2018-08-05T00:00:00\",\"2018-08-12T00:00:00\",\"2018-08-19T00:00:00\",\"2018-08-26T00:00:00\",\"2018-09-02T00:00:00\",\"2018-09-09T00:00:00\",\"2018-09-16T00:00:00\",\"2018-09-23T00:00:00\",\"2018-09-30T00:00:00\",\"2018-10-07T00:00:00\",\"2018-10-14T00:00:00\",\"2018-10-21T00:00:00\",\"2018-10-28T00:00:00\",\"2018-11-04T00:00:00\",\"2018-11-11T00:00:00\",\"2018-11-18T00:00:00\",\"2018-11-25T00:00:00\",\"2018-12-02T00:00:00\",\"2018-12-09T00:00:00\",\"2018-12-16T00:00:00\",\"2018-12-23T00:00:00\",\"2018-12-30T00:00:00\",\"2019-01-06T00:00:00\",\"2019-01-13T00:00:00\",\"2019-01-20T00:00:00\",\"2019-01-27T00:00:00\",\"2019-02-03T00:00:00\",\"2019-02-10T00:00:00\",\"2019-02-17T00:00:00\",\"2019-02-24T00:00:00\",\"2019-03-03T00:00:00\",\"2019-03-10T00:00:00\",\"2019-03-17T00:00:00\",\"2019-03-24T00:00:00\",\"2019-03-31T00:00:00\",\"2019-04-07T00:00:00\",\"2019-04-14T00:00:00\",\"2019-04-21T00:00:00\",\"2019-04-28T00:00:00\",\"2019-05-05T00:00:00\",\"2019-05-12T00:00:00\",\"2019-05-19T00:00:00\",\"2019-05-26T00:00:00\",\"2019-06-02T00:00:00\",\"2019-06-09T00:00:00\",\"2019-06-16T00:00:00\",\"2019-06-23T00:00:00\",\"2019-06-30T00:00:00\"],\"y\":[0.0,0.0,0.0,0.0,1.0,0.0,0.0,0.0,0.0,0.0,0.0,1.0,0.0,0.0,0.0,0.0,0.0,0.0,0.0,0.0,1.0,0.0,0.0,0.0,0.0,0.0,0.0,0.0,0.0,0.0,0.0,0.0,0.0,0.0,0.0,0.0,0.0,0.0,0.0,0.0,0.0,0.0,0.0,0.0,0.0,0.0,0.0,0.0,0.0,0.0,0.0,0.0,0.0,0.0,0.0,0.0,0.0,0.0,0.0,0.0,0.0,0.0,1.0,0.0,0.0,0.0,0.0,1.0,0.0,0.0,0.0,0.0,0.0,0.0,0.0,0.0,0.0,0.0,0.0,0.0,0.0,0.0,0.0,0.0,0.0,0.0,0.0,0.0,0.0,0.0,0.0,0.0,1.0,0.0,0.0,0.0,0.0,1.0,0.0,0.0,0.0,0.0,0.0,0.0,0.0,0.0,0.0,0.0,0.0,0.0,0.0,0.0,0.0,0.0,0.0,0.0,0.0,0.0,0.0,0.0,0.0,0.0,0.0,0.0,0.0,0.0,0.0,0.0,0.0,0.0,0.0,0.0,0.0,0.0,0.0,0.0,0.0,0.0,0.0,0.0,0.0,0.0,0.0,0.0,0.0,0.0,0.0,0.0,0.0,0.0,0.0,0.0],\"type\":\"scatter\"},{\"mode\":\"lines\",\"name\":\"type_promo_2\",\"x\":[\"2016-08-07T00:00:00\",\"2016-08-14T00:00:00\",\"2016-08-21T00:00:00\",\"2016-08-28T00:00:00\",\"2016-09-04T00:00:00\",\"2016-09-11T00:00:00\",\"2016-09-18T00:00:00\",\"2016-09-25T00:00:00\",\"2016-10-02T00:00:00\",\"2016-10-09T00:00:00\",\"2016-10-16T00:00:00\",\"2016-10-23T00:00:00\",\"2016-10-30T00:00:00\",\"2016-11-06T00:00:00\",\"2016-11-13T00:00:00\",\"2016-11-20T00:00:00\",\"2016-11-27T00:00:00\",\"2016-12-04T00:00:00\",\"2016-12-11T00:00:00\",\"2016-12-18T00:00:00\",\"2016-12-25T00:00:00\",\"2017-01-01T00:00:00\",\"2017-01-08T00:00:00\",\"2017-01-15T00:00:00\",\"2017-01-22T00:00:00\",\"2017-01-29T00:00:00\",\"2017-02-05T00:00:00\",\"2017-02-12T00:00:00\",\"2017-02-19T00:00:00\",\"2017-02-26T00:00:00\",\"2017-03-05T00:00:00\",\"2017-03-12T00:00:00\",\"2017-03-19T00:00:00\",\"2017-03-26T00:00:00\",\"2017-04-02T00:00:00\",\"2017-04-09T00:00:00\",\"2017-04-16T00:00:00\",\"2017-04-23T00:00:00\",\"2017-04-30T00:00:00\",\"2017-05-07T00:00:00\",\"2017-05-14T00:00:00\",\"2017-05-21T00:00:00\",\"2017-05-28T00:00:00\",\"2017-06-04T00:00:00\",\"2017-06-11T00:00:00\",\"2017-06-18T00:00:00\",\"2017-06-25T00:00:00\",\"2017-07-02T00:00:00\",\"2017-07-09T00:00:00\",\"2017-07-16T00:00:00\",\"2017-07-23T00:00:00\",\"2017-07-30T00:00:00\",\"2017-08-06T00:00:00\",\"2017-08-13T00:00:00\",\"2017-08-20T00:00:00\",\"2017-08-27T00:00:00\",\"2017-09-03T00:00:00\",\"2017-09-10T00:00:00\",\"2017-09-17T00:00:00\",\"2017-09-24T00:00:00\",\"2017-10-01T00:00:00\",\"2017-10-08T00:00:00\",\"2017-10-15T00:00:00\",\"2017-10-22T00:00:00\",\"2017-10-29T00:00:00\",\"2017-11-05T00:00:00\",\"2017-11-12T00:00:00\",\"2017-11-19T00:00:00\",\"2017-11-26T00:00:00\",\"2017-12-03T00:00:00\",\"2017-12-10T00:00:00\",\"2017-12-17T00:00:00\",\"2017-12-24T00:00:00\",\"2017-12-31T00:00:00\",\"2018-01-07T00:00:00\",\"2018-01-14T00:00:00\",\"2018-01-21T00:00:00\",\"2018-01-28T00:00:00\",\"2018-02-04T00:00:00\",\"2018-02-11T00:00:00\",\"2018-02-18T00:00:00\",\"2018-02-25T00:00:00\",\"2018-03-04T00:00:00\",\"2018-03-11T00:00:00\",\"2018-03-18T00:00:00\",\"2018-03-25T00:00:00\",\"2018-04-01T00:00:00\",\"2018-04-08T00:00:00\",\"2018-04-15T00:00:00\",\"2018-04-22T00:00:00\",\"2018-04-29T00:00:00\",\"2018-05-06T00:00:00\",\"2018-05-13T00:00:00\",\"2018-05-20T00:00:00\",\"2018-05-27T00:00:00\",\"2018-06-03T00:00:00\",\"2018-06-10T00:00:00\",\"2018-06-17T00:00:00\",\"2018-06-24T00:00:00\",\"2018-07-01T00:00:00\",\"2018-07-08T00:00:00\",\"2018-07-15T00:00:00\",\"2018-07-22T00:00:00\",\"2018-07-29T00:00:00\",\"2018-08-05T00:00:00\",\"2018-08-12T00:00:00\",\"2018-08-19T00:00:00\",\"2018-08-26T00:00:00\",\"2018-09-02T00:00:00\",\"2018-09-09T00:00:00\",\"2018-09-16T00:00:00\",\"2018-09-23T00:00:00\",\"2018-09-30T00:00:00\",\"2018-10-07T00:00:00\",\"2018-10-14T00:00:00\",\"2018-10-21T00:00:00\",\"2018-10-28T00:00:00\",\"2018-11-04T00:00:00\",\"2018-11-11T00:00:00\",\"2018-11-18T00:00:00\",\"2018-11-25T00:00:00\",\"2018-12-02T00:00:00\",\"2018-12-09T00:00:00\",\"2018-12-16T00:00:00\",\"2018-12-23T00:00:00\",\"2018-12-30T00:00:00\",\"2019-01-06T00:00:00\",\"2019-01-13T00:00:00\",\"2019-01-20T00:00:00\",\"2019-01-27T00:00:00\",\"2019-02-03T00:00:00\",\"2019-02-10T00:00:00\",\"2019-02-17T00:00:00\",\"2019-02-24T00:00:00\",\"2019-03-03T00:00:00\",\"2019-03-10T00:00:00\",\"2019-03-17T00:00:00\",\"2019-03-24T00:00:00\",\"2019-03-31T00:00:00\",\"2019-04-07T00:00:00\",\"2019-04-14T00:00:00\",\"2019-04-21T00:00:00\",\"2019-04-28T00:00:00\",\"2019-05-05T00:00:00\",\"2019-05-12T00:00:00\",\"2019-05-19T00:00:00\",\"2019-05-26T00:00:00\",\"2019-06-02T00:00:00\",\"2019-06-09T00:00:00\",\"2019-06-16T00:00:00\",\"2019-06-23T00:00:00\",\"2019-06-30T00:00:00\"],\"y\":[0.0,0.0,0.0,0.0,1.0,0.0,0.0,0.0,0.0,0.0,0.0,1.0,0.0,0.0,0.0,0.0,0.0,0.0,0.0,0.0,1.0,0.0,0.0,0.0,0.0,0.0,0.0,0.0,0.0,0.0,1.0,0.0,0.0,0.0,0.0,0.0,0.0,0.0,0.0,0.0,0.0,0.0,0.0,0.0,0.0,1.0,0.0,0.0,0.0,0.0,0.0,0.0,0.0,0.0,0.0,0.0,0.0,0.0,0.0,0.0,0.0,0.0,1.0,0.0,0.0,0.0,0.0,1.0,0.0,0.0,0.0,0.0,1.0,0.0,0.0,1.0,0.0,0.0,0.0,0.0,0.0,0.0,0.0,0.0,0.0,0.0,0.0,0.0,0.0,0.0,0.0,0.0,1.0,0.0,0.0,0.0,0.0,1.0,0.0,0.0,0.0,0.0,0.0,0.0,0.0,0.0,0.0,0.0,0.0,0.0,0.0,0.0,0.0,0.0,0.0,0.0,0.0,0.0,0.0,0.0,0.0,0.0,0.0,0.0,0.0,0.0,0.0,0.0,0.0,0.0,0.0,0.0,0.0,0.0,0.0,0.0,0.0,0.0,0.0,0.0,0.0,0.0,0.0,0.0,1.0,0.0,0.0,0.0,0.0,1.0,0.0,0.0],\"type\":\"scatter\"},{\"mode\":\"lines\",\"name\":\"delta_t\",\"x\":[\"2016-08-07T00:00:00\",\"2016-08-14T00:00:00\",\"2016-08-21T00:00:00\",\"2016-08-28T00:00:00\",\"2016-09-04T00:00:00\",\"2016-09-11T00:00:00\",\"2016-09-18T00:00:00\",\"2016-09-25T00:00:00\",\"2016-10-02T00:00:00\",\"2016-10-09T00:00:00\",\"2016-10-16T00:00:00\",\"2016-10-23T00:00:00\",\"2016-10-30T00:00:00\",\"2016-11-06T00:00:00\",\"2016-11-13T00:00:00\",\"2016-11-20T00:00:00\",\"2016-11-27T00:00:00\",\"2016-12-04T00:00:00\",\"2016-12-11T00:00:00\",\"2016-12-18T00:00:00\",\"2016-12-25T00:00:00\",\"2017-01-01T00:00:00\",\"2017-01-08T00:00:00\",\"2017-01-15T00:00:00\",\"2017-01-22T00:00:00\",\"2017-01-29T00:00:00\",\"2017-02-05T00:00:00\",\"2017-02-12T00:00:00\",\"2017-02-19T00:00:00\",\"2017-02-26T00:00:00\",\"2017-03-05T00:00:00\",\"2017-03-12T00:00:00\",\"2017-03-19T00:00:00\",\"2017-03-26T00:00:00\",\"2017-04-02T00:00:00\",\"2017-04-09T00:00:00\",\"2017-04-16T00:00:00\",\"2017-04-23T00:00:00\",\"2017-04-30T00:00:00\",\"2017-05-07T00:00:00\",\"2017-05-14T00:00:00\",\"2017-05-21T00:00:00\",\"2017-05-28T00:00:00\",\"2017-06-04T00:00:00\",\"2017-06-11T00:00:00\",\"2017-06-18T00:00:00\",\"2017-06-25T00:00:00\",\"2017-07-02T00:00:00\",\"2017-07-09T00:00:00\",\"2017-07-16T00:00:00\",\"2017-07-23T00:00:00\",\"2017-07-30T00:00:00\",\"2017-08-06T00:00:00\",\"2017-08-13T00:00:00\",\"2017-08-20T00:00:00\",\"2017-08-27T00:00:00\",\"2017-09-03T00:00:00\",\"2017-09-10T00:00:00\",\"2017-09-17T00:00:00\",\"2017-09-24T00:00:00\",\"2017-10-01T00:00:00\",\"2017-10-08T00:00:00\",\"2017-10-15T00:00:00\",\"2017-10-22T00:00:00\",\"2017-10-29T00:00:00\",\"2017-11-05T00:00:00\",\"2017-11-12T00:00:00\",\"2017-11-19T00:00:00\",\"2017-11-26T00:00:00\",\"2017-12-03T00:00:00\",\"2017-12-10T00:00:00\",\"2017-12-17T00:00:00\",\"2017-12-24T00:00:00\",\"2017-12-31T00:00:00\",\"2018-01-07T00:00:00\",\"2018-01-14T00:00:00\",\"2018-01-21T00:00:00\",\"2018-01-28T00:00:00\",\"2018-02-04T00:00:00\",\"2018-02-11T00:00:00\",\"2018-02-18T00:00:00\",\"2018-02-25T00:00:00\",\"2018-03-04T00:00:00\",\"2018-03-11T00:00:00\",\"2018-03-18T00:00:00\",\"2018-03-25T00:00:00\",\"2018-04-01T00:00:00\",\"2018-04-08T00:00:00\",\"2018-04-15T00:00:00\",\"2018-04-22T00:00:00\",\"2018-04-29T00:00:00\",\"2018-05-06T00:00:00\",\"2018-05-13T00:00:00\",\"2018-05-20T00:00:00\",\"2018-05-27T00:00:00\",\"2018-06-03T00:00:00\",\"2018-06-10T00:00:00\",\"2018-06-17T00:00:00\",\"2018-06-24T00:00:00\",\"2018-07-01T00:00:00\",\"2018-07-08T00:00:00\",\"2018-07-15T00:00:00\",\"2018-07-22T00:00:00\",\"2018-07-29T00:00:00\",\"2018-08-05T00:00:00\",\"2018-08-12T00:00:00\",\"2018-08-19T00:00:00\",\"2018-08-26T00:00:00\",\"2018-09-02T00:00:00\",\"2018-09-09T00:00:00\",\"2018-09-16T00:00:00\",\"2018-09-23T00:00:00\",\"2018-09-30T00:00:00\",\"2018-10-07T00:00:00\",\"2018-10-14T00:00:00\",\"2018-10-21T00:00:00\",\"2018-10-28T00:00:00\",\"2018-11-04T00:00:00\",\"2018-11-11T00:00:00\",\"2018-11-18T00:00:00\",\"2018-11-25T00:00:00\",\"2018-12-02T00:00:00\",\"2018-12-09T00:00:00\",\"2018-12-16T00:00:00\",\"2018-12-23T00:00:00\",\"2018-12-30T00:00:00\",\"2019-01-06T00:00:00\",\"2019-01-13T00:00:00\",\"2019-01-20T00:00:00\",\"2019-01-27T00:00:00\",\"2019-02-03T00:00:00\",\"2019-02-10T00:00:00\",\"2019-02-17T00:00:00\",\"2019-02-24T00:00:00\",\"2019-03-03T00:00:00\",\"2019-03-10T00:00:00\",\"2019-03-17T00:00:00\",\"2019-03-24T00:00:00\",\"2019-03-31T00:00:00\",\"2019-04-07T00:00:00\",\"2019-04-14T00:00:00\",\"2019-04-21T00:00:00\",\"2019-04-28T00:00:00\",\"2019-05-05T00:00:00\",\"2019-05-12T00:00:00\",\"2019-05-19T00:00:00\",\"2019-05-26T00:00:00\",\"2019-06-02T00:00:00\",\"2019-06-09T00:00:00\",\"2019-06-16T00:00:00\",\"2019-06-23T00:00:00\",\"2019-06-30T00:00:00\"],\"y\":[0.0,7.0,14.0,21.0,28.0,35.0,42.0,49.0,56.0,63.0,70.0,77.0,84.0,91.0,98.0,105.0,112.0,119.0,126.0,133.0,140.0,147.0,154.0,161.0,168.0,175.0,182.0,189.0,196.0,203.0,210.0,217.0,224.0,231.0,238.0,245.0,252.0,259.0,266.0,273.0,280.0,287.0,294.0,301.0,308.0,315.0,322.0,329.0,336.0,343.0,350.0,357.0,364.0,371.0,378.0,385.0,392.0,399.0,406.0,413.0,420.0,427.0,434.0,441.0,448.0,455.0,462.0,469.0,476.0,483.0,490.0,497.0,504.0,511.0,518.0,525.0,532.0,539.0,546.0,553.0,560.0,567.0,574.0,581.0,588.0,595.0,602.0,609.0,616.0,623.0,630.0,637.0,644.0,651.0,658.0,665.0,672.0,679.0,686.0,693.0,700.0,707.0,714.0,721.0,728.0,735.0,742.0,749.0,756.0,763.0,770.0,777.0,784.0,791.0,798.0,805.0,812.0,819.0,826.0,833.0,840.0,847.0,854.0,861.0,868.0,875.0,882.0,889.0,896.0,903.0,910.0,917.0,924.0,931.0,938.0,945.0,952.0,959.0,966.0,973.0,980.0,987.0,994.0,1001.0,1008.0,1015.0,1022.0,1029.0,1036.0,1043.0,1050.0,1057.0],\"type\":\"scatter\"}],                        {\"template\":{\"data\":{\"bar\":[{\"error_x\":{\"color\":\"#2a3f5f\"},\"error_y\":{\"color\":\"#2a3f5f\"},\"marker\":{\"line\":{\"color\":\"#E5ECF6\",\"width\":0.5},\"pattern\":{\"fillmode\":\"overlay\",\"size\":10,\"solidity\":0.2}},\"type\":\"bar\"}],\"barpolar\":[{\"marker\":{\"line\":{\"color\":\"#E5ECF6\",\"width\":0.5},\"pattern\":{\"fillmode\":\"overlay\",\"size\":10,\"solidity\":0.2}},\"type\":\"barpolar\"}],\"carpet\":[{\"aaxis\":{\"endlinecolor\":\"#2a3f5f\",\"gridcolor\":\"white\",\"linecolor\":\"white\",\"minorgridcolor\":\"white\",\"startlinecolor\":\"#2a3f5f\"},\"baxis\":{\"endlinecolor\":\"#2a3f5f\",\"gridcolor\":\"white\",\"linecolor\":\"white\",\"minorgridcolor\":\"white\",\"startlinecolor\":\"#2a3f5f\"},\"type\":\"carpet\"}],\"choropleth\":[{\"colorbar\":{\"outlinewidth\":0,\"ticks\":\"\"},\"type\":\"choropleth\"}],\"contour\":[{\"colorbar\":{\"outlinewidth\":0,\"ticks\":\"\"},\"colorscale\":[[0.0,\"#0d0887\"],[0.1111111111111111,\"#46039f\"],[0.2222222222222222,\"#7201a8\"],[0.3333333333333333,\"#9c179e\"],[0.4444444444444444,\"#bd3786\"],[0.5555555555555556,\"#d8576b\"],[0.6666666666666666,\"#ed7953\"],[0.7777777777777778,\"#fb9f3a\"],[0.8888888888888888,\"#fdca26\"],[1.0,\"#f0f921\"]],\"type\":\"contour\"}],\"contourcarpet\":[{\"colorbar\":{\"outlinewidth\":0,\"ticks\":\"\"},\"type\":\"contourcarpet\"}],\"heatmap\":[{\"colorbar\":{\"outlinewidth\":0,\"ticks\":\"\"},\"colorscale\":[[0.0,\"#0d0887\"],[0.1111111111111111,\"#46039f\"],[0.2222222222222222,\"#7201a8\"],[0.3333333333333333,\"#9c179e\"],[0.4444444444444444,\"#bd3786\"],[0.5555555555555556,\"#d8576b\"],[0.6666666666666666,\"#ed7953\"],[0.7777777777777778,\"#fb9f3a\"],[0.8888888888888888,\"#fdca26\"],[1.0,\"#f0f921\"]],\"type\":\"heatmap\"}],\"heatmapgl\":[{\"colorbar\":{\"outlinewidth\":0,\"ticks\":\"\"},\"colorscale\":[[0.0,\"#0d0887\"],[0.1111111111111111,\"#46039f\"],[0.2222222222222222,\"#7201a8\"],[0.3333333333333333,\"#9c179e\"],[0.4444444444444444,\"#bd3786\"],[0.5555555555555556,\"#d8576b\"],[0.6666666666666666,\"#ed7953\"],[0.7777777777777778,\"#fb9f3a\"],[0.8888888888888888,\"#fdca26\"],[1.0,\"#f0f921\"]],\"type\":\"heatmapgl\"}],\"histogram\":[{\"marker\":{\"pattern\":{\"fillmode\":\"overlay\",\"size\":10,\"solidity\":0.2}},\"type\":\"histogram\"}],\"histogram2d\":[{\"colorbar\":{\"outlinewidth\":0,\"ticks\":\"\"},\"colorscale\":[[0.0,\"#0d0887\"],[0.1111111111111111,\"#46039f\"],[0.2222222222222222,\"#7201a8\"],[0.3333333333333333,\"#9c179e\"],[0.4444444444444444,\"#bd3786\"],[0.5555555555555556,\"#d8576b\"],[0.6666666666666666,\"#ed7953\"],[0.7777777777777778,\"#fb9f3a\"],[0.8888888888888888,\"#fdca26\"],[1.0,\"#f0f921\"]],\"type\":\"histogram2d\"}],\"histogram2dcontour\":[{\"colorbar\":{\"outlinewidth\":0,\"ticks\":\"\"},\"colorscale\":[[0.0,\"#0d0887\"],[0.1111111111111111,\"#46039f\"],[0.2222222222222222,\"#7201a8\"],[0.3333333333333333,\"#9c179e\"],[0.4444444444444444,\"#bd3786\"],[0.5555555555555556,\"#d8576b\"],[0.6666666666666666,\"#ed7953\"],[0.7777777777777778,\"#fb9f3a\"],[0.8888888888888888,\"#fdca26\"],[1.0,\"#f0f921\"]],\"type\":\"histogram2dcontour\"}],\"mesh3d\":[{\"colorbar\":{\"outlinewidth\":0,\"ticks\":\"\"},\"type\":\"mesh3d\"}],\"parcoords\":[{\"line\":{\"colorbar\":{\"outlinewidth\":0,\"ticks\":\"\"}},\"type\":\"parcoords\"}],\"pie\":[{\"automargin\":true,\"type\":\"pie\"}],\"scatter\":[{\"marker\":{\"colorbar\":{\"outlinewidth\":0,\"ticks\":\"\"}},\"type\":\"scatter\"}],\"scatter3d\":[{\"line\":{\"colorbar\":{\"outlinewidth\":0,\"ticks\":\"\"}},\"marker\":{\"colorbar\":{\"outlinewidth\":0,\"ticks\":\"\"}},\"type\":\"scatter3d\"}],\"scattercarpet\":[{\"marker\":{\"colorbar\":{\"outlinewidth\":0,\"ticks\":\"\"}},\"type\":\"scattercarpet\"}],\"scattergeo\":[{\"marker\":{\"colorbar\":{\"outlinewidth\":0,\"ticks\":\"\"}},\"type\":\"scattergeo\"}],\"scattergl\":[{\"marker\":{\"colorbar\":{\"outlinewidth\":0,\"ticks\":\"\"}},\"type\":\"scattergl\"}],\"scattermapbox\":[{\"marker\":{\"colorbar\":{\"outlinewidth\":0,\"ticks\":\"\"}},\"type\":\"scattermapbox\"}],\"scatterpolar\":[{\"marker\":{\"colorbar\":{\"outlinewidth\":0,\"ticks\":\"\"}},\"type\":\"scatterpolar\"}],\"scatterpolargl\":[{\"marker\":{\"colorbar\":{\"outlinewidth\":0,\"ticks\":\"\"}},\"type\":\"scatterpolargl\"}],\"scatterternary\":[{\"marker\":{\"colorbar\":{\"outlinewidth\":0,\"ticks\":\"\"}},\"type\":\"scatterternary\"}],\"surface\":[{\"colorbar\":{\"outlinewidth\":0,\"ticks\":\"\"},\"colorscale\":[[0.0,\"#0d0887\"],[0.1111111111111111,\"#46039f\"],[0.2222222222222222,\"#7201a8\"],[0.3333333333333333,\"#9c179e\"],[0.4444444444444444,\"#bd3786\"],[0.5555555555555556,\"#d8576b\"],[0.6666666666666666,\"#ed7953\"],[0.7777777777777778,\"#fb9f3a\"],[0.8888888888888888,\"#fdca26\"],[1.0,\"#f0f921\"]],\"type\":\"surface\"}],\"table\":[{\"cells\":{\"fill\":{\"color\":\"#EBF0F8\"},\"line\":{\"color\":\"white\"}},\"header\":{\"fill\":{\"color\":\"#C8D4E3\"},\"line\":{\"color\":\"white\"}},\"type\":\"table\"}]},\"layout\":{\"annotationdefaults\":{\"arrowcolor\":\"#2a3f5f\",\"arrowhead\":0,\"arrowwidth\":1},\"autotypenumbers\":\"strict\",\"coloraxis\":{\"colorbar\":{\"outlinewidth\":0,\"ticks\":\"\"}},\"colorscale\":{\"diverging\":[[0,\"#8e0152\"],[0.1,\"#c51b7d\"],[0.2,\"#de77ae\"],[0.3,\"#f1b6da\"],[0.4,\"#fde0ef\"],[0.5,\"#f7f7f7\"],[0.6,\"#e6f5d0\"],[0.7,\"#b8e186\"],[0.8,\"#7fbc41\"],[0.9,\"#4d9221\"],[1,\"#276419\"]],\"sequential\":[[0.0,\"#0d0887\"],[0.1111111111111111,\"#46039f\"],[0.2222222222222222,\"#7201a8\"],[0.3333333333333333,\"#9c179e\"],[0.4444444444444444,\"#bd3786\"],[0.5555555555555556,\"#d8576b\"],[0.6666666666666666,\"#ed7953\"],[0.7777777777777778,\"#fb9f3a\"],[0.8888888888888888,\"#fdca26\"],[1.0,\"#f0f921\"]],\"sequentialminus\":[[0.0,\"#0d0887\"],[0.1111111111111111,\"#46039f\"],[0.2222222222222222,\"#7201a8\"],[0.3333333333333333,\"#9c179e\"],[0.4444444444444444,\"#bd3786\"],[0.5555555555555556,\"#d8576b\"],[0.6666666666666666,\"#ed7953\"],[0.7777777777777778,\"#fb9f3a\"],[0.8888888888888888,\"#fdca26\"],[1.0,\"#f0f921\"]]},\"colorway\":[\"#636efa\",\"#EF553B\",\"#00cc96\",\"#ab63fa\",\"#FFA15A\",\"#19d3f3\",\"#FF6692\",\"#B6E880\",\"#FF97FF\",\"#FECB52\"],\"font\":{\"color\":\"#2a3f5f\"},\"geo\":{\"bgcolor\":\"white\",\"lakecolor\":\"white\",\"landcolor\":\"#E5ECF6\",\"showlakes\":true,\"showland\":true,\"subunitcolor\":\"white\"},\"hoverlabel\":{\"align\":\"left\"},\"hovermode\":\"closest\",\"mapbox\":{\"style\":\"light\"},\"paper_bgcolor\":\"white\",\"plot_bgcolor\":\"#E5ECF6\",\"polar\":{\"angularaxis\":{\"gridcolor\":\"white\",\"linecolor\":\"white\",\"ticks\":\"\"},\"bgcolor\":\"#E5ECF6\",\"radialaxis\":{\"gridcolor\":\"white\",\"linecolor\":\"white\",\"ticks\":\"\"}},\"scene\":{\"xaxis\":{\"backgroundcolor\":\"#E5ECF6\",\"gridcolor\":\"white\",\"gridwidth\":2,\"linecolor\":\"white\",\"showbackground\":true,\"ticks\":\"\",\"zerolinecolor\":\"white\"},\"yaxis\":{\"backgroundcolor\":\"#E5ECF6\",\"gridcolor\":\"white\",\"gridwidth\":2,\"linecolor\":\"white\",\"showbackground\":true,\"ticks\":\"\",\"zerolinecolor\":\"white\"},\"zaxis\":{\"backgroundcolor\":\"#E5ECF6\",\"gridcolor\":\"white\",\"gridwidth\":2,\"linecolor\":\"white\",\"showbackground\":true,\"ticks\":\"\",\"zerolinecolor\":\"white\"}},\"shapedefaults\":{\"line\":{\"color\":\"#2a3f5f\"}},\"ternary\":{\"aaxis\":{\"gridcolor\":\"white\",\"linecolor\":\"white\",\"ticks\":\"\"},\"baxis\":{\"gridcolor\":\"white\",\"linecolor\":\"white\",\"ticks\":\"\"},\"bgcolor\":\"#E5ECF6\",\"caxis\":{\"gridcolor\":\"white\",\"linecolor\":\"white\",\"ticks\":\"\"}},\"title\":{\"x\":0.05},\"xaxis\":{\"automargin\":true,\"gridcolor\":\"white\",\"linecolor\":\"white\",\"ticks\":\"\",\"title\":{\"standoff\":15},\"zerolinecolor\":\"white\",\"zerolinewidth\":2},\"yaxis\":{\"automargin\":true,\"gridcolor\":\"white\",\"linecolor\":\"white\",\"ticks\":\"\",\"title\":{\"standoff\":15},\"zerolinecolor\":\"white\",\"zerolinewidth\":2}}},\"title\":{\"text\":\"Decomposition\"}},                        {\"responsive\": true}                    ).then(function(){\n",
       "                            \n",
       "var gd = document.getElementById('44f29d10-2a63-48d8-9dd3-5b0d905b02b2');\n",
       "var x = new MutationObserver(function (mutations, observer) {{\n",
       "        var display = window.getComputedStyle(gd).display;\n",
       "        if (!display || display === 'none') {{\n",
       "            console.log([gd, 'removed!']);\n",
       "            Plotly.purge(gd);\n",
       "            observer.disconnect();\n",
       "        }}\n",
       "}});\n",
       "\n",
       "// Listen for the removal of the full notebook cells\n",
       "var notebookContainer = gd.closest('#notebook-container');\n",
       "if (notebookContainer) {{\n",
       "    x.observe(notebookContainer, {childList: true});\n",
       "}}\n",
       "\n",
       "// Listen for the clearing of the current output cell\n",
       "var outputEl = gd.closest('.output');\n",
       "if (outputEl) {{\n",
       "    x.observe(outputEl, {childList: true});\n",
       "}}\n",
       "\n",
       "                        })                };                });            </script>        </div>"
      ]
     },
     "metadata": {},
     "output_type": "display_data"
    },
    {
     "name": "stdout",
     "output_type": "stream",
     "text": [
      "5354.75125 86176.00810771994 293.55750391996446\n",
      "11.052422337278086 2104765.6168138 1450.7810368259572\n",
      "-2.390162721893307 1273144.0113489272 1128.3368341718385\n"
     ]
    }
   ],
   "source": [
    "sub = train.loc[train['product_group'] == 'Product_04']\n",
    "fig, trend, seasonal, residual = plot_ts_decomposition(sub, time_col, output_col[0], features=True)\n",
    "fig.show()\n",
    "print(np.mean(trend), np.var(trend), np.std(trend))\n",
    "print(np.mean(seasonal), np.var(seasonal), np.std(seasonal))\n",
    "print(np.mean(residual), np.var(residual), np.std(residual))"
   ]
  },
  {
   "cell_type": "code",
   "execution_count": 23,
   "metadata": {},
   "outputs": [
    {
     "name": "stdout",
     "output_type": "stream",
     "text": [
      "    |   Population Average    |             Best Individual              |\n",
      "---- ------------------------- ------------------------------------------ ----------\n",
      " Gen   Length          Fitness   Length          Fitness      OOB Fitness  Time Left\n",
      "   0    17.61          2.03679       13        0.0341085              N/A      7.58m\n",
      "   1     6.98         0.321451       11        0.0285143              N/A      8.07m\n",
      "   2     3.00         0.343931        6         0.027986              N/A      9.59m\n",
      "   3     4.45         0.568086        4        0.0294371              N/A      8.71m\n",
      "   4     4.21         0.444017        4        0.0294371              N/A      8.85m\n",
      "   5     4.14         0.443726        4        0.0294371              N/A      8.90m\n",
      "   6     4.36         0.417887        6        0.0293228              N/A      9.67m\n",
      "   7     4.29         0.407933        7        0.0285143              N/A      8.93m\n",
      "   8     4.37         0.443223        4        0.0294371              N/A      9.23m\n",
      "   9     4.33         0.411477        4        0.0294371              N/A      9.79m\n",
      "  10     4.21         0.487936        4        0.0294371              N/A      9.05m\n",
      "  11     4.23         0.467528        4        0.0294371              N/A      9.30m\n",
      "  12     4.28         0.450004        4        0.0294371              N/A      8.82m\n",
      "  13     4.30         0.417707        4        0.0294371              N/A      9.98m\n",
      "  14     4.33         0.403446        6        0.0291537              N/A      9.14m\n",
      "  15     4.33         0.402941        4        0.0294371              N/A      9.66m\n",
      "  16     4.35         0.483627        5        0.0285143              N/A      8.75m\n",
      "  17     4.37         0.436079        7        0.0285143              N/A      8.95m\n",
      "  18     4.37         0.425871        4        0.0294371              N/A      9.67m\n",
      "  19     4.42          1.70376        4        0.0294371              N/A      8.73m\n",
      "  20     4.22          0.42761        4        0.0294371              N/A      8.98m\n",
      "  21     4.22         0.386591        4        0.0294371              N/A      8.75m\n",
      "  22     4.35         0.382549        4        0.0294371              N/A      9.56m\n",
      "  23     4.28         0.480153        4        0.0294371              N/A      8.97m\n",
      "  24     4.23         0.417564        4        0.0294371              N/A      8.76m\n",
      "  25     4.27         0.430746        4        0.0294371              N/A      9.38m\n",
      "  26     4.33         0.447961        4        0.0294371              N/A      9.11m\n",
      "  27     4.26         0.531783        4        0.0294371              N/A      8.73m\n",
      "  28     4.27         0.394318       13        0.0288452              N/A      9.55m\n",
      "  29     4.30         0.418961        4        0.0294371              N/A      9.01m\n",
      "  30     4.36          0.42044        4        0.0294371              N/A      9.30m\n",
      "  31     4.39          0.46689        4        0.0294371              N/A      8.49m\n",
      "  32     4.29         0.430243       29        0.0294305              N/A      8.64m\n",
      "  33     4.29         0.413307        4        0.0284455              N/A      9.23m\n",
      "  34     4.28         0.381514        4        0.0284455              N/A      8.46m\n",
      "  35     4.18         0.167949        9        0.0277262              N/A      8.59m\n",
      "  36     4.21         0.153306        4        0.0284455              N/A      8.45m\n",
      "  37     4.30         0.242735        6        0.0279555              N/A      9.39m\n",
      "  38     4.17         0.190984        6        0.0278501              N/A     13.25m\n",
      "  39     4.25         0.570393        4        0.0284455              N/A     19.48m\n",
      "  40     4.24         0.185527        4        0.0284455              N/A     25.41m\n",
      "  41     4.16          0.20869        5        0.0282234              N/A     26.87m\n",
      "  42     4.27         0.139185        4        0.0284455              N/A     26.83m\n",
      "  43     4.32         0.523335        4        0.0284455              N/A     27.53m\n",
      "  44     4.14         0.147851        7        0.0279286              N/A     26.88m\n",
      "  45     4.32         0.157256        4        0.0284455              N/A     27.01m\n",
      "  46     4.22         0.171838        5        0.0282234              N/A     26.93m\n",
      "  47     4.13         0.147315        4        0.0284455              N/A     26.82m\n",
      "  48     4.27         0.164232        4        0.0284455              N/A     27.54m\n",
      "  49     4.15         0.190669        4        0.0284455              N/A     25.96m\n",
      "  50     4.15         0.257886        9        0.0279555              N/A     27.33m\n",
      "  51     4.24         0.154136        6        0.0279555              N/A     26.50m\n",
      "  52     4.18         0.136179        4        0.0284455              N/A     27.40m\n",
      "  53     4.23          0.16509        4        0.0284455              N/A     26.22m\n",
      "  54     4.20         0.148298        4        0.0284455              N/A     26.54m\n",
      "  55     4.24         0.281807        4        0.0284455              N/A     26.58m\n",
      "  56     4.19         0.140412        4        0.0284455              N/A     26.06m\n",
      "  57     4.18          0.13021        4        0.0284455              N/A     25.96m\n",
      "  58     4.29         0.181385        4        0.0284455              N/A     26.88m\n",
      "  59     4.21         0.175065        5        0.0282234              N/A     25.96m\n",
      "  60     4.24         0.136821       10        0.0274775              N/A     26.23m\n",
      "  61     4.24         0.190668        4        0.0284455              N/A     25.72m\n",
      "  62     4.28         0.183031        4        0.0284455              N/A     25.52m\n",
      "  63     4.16         0.113824        5        0.0282234              N/A     26.55m\n",
      "  64     4.21         0.144967        5        0.0282234              N/A     25.59m\n",
      "  65     4.22         0.146107        4        0.0284455              N/A     25.86m\n",
      "  66     4.18         0.140472        6        0.0282234              N/A     25.66m\n",
      "  67     4.22         0.396635        8        0.0278501              N/A     25.30m\n",
      "  68     4.21         0.150916        4        0.0284455              N/A     26.57m\n",
      "  69     4.23         0.169251        4        0.0284455              N/A     25.53m\n",
      "  70     4.28         0.149516        4        0.0284455              N/A     26.50m\n",
      "  71     4.14         0.179453        4        0.0284455              N/A     25.27m\n",
      "  72     4.23         0.176068       23        0.0279985              N/A     25.07m\n",
      "  73     4.23         0.142418        4        0.0284455              N/A     25.93m\n",
      "  74     4.36         0.173836        4        0.0284455              N/A     24.88m\n",
      "  75     4.29         0.204598        5        0.0282234              N/A     25.10m\n",
      "  76     4.26         0.205191        4        0.0284455              N/A     25.67m\n",
      "  77     4.23         0.158733        4        0.0284455              N/A     24.89m\n",
      "  78     4.26         0.510775        6        0.0279555              N/A     25.66m\n",
      "  79     4.20         0.142645        4        0.0284455              N/A     25.30m\n",
      "  80     4.21         0.189506        4        0.0284455              N/A     24.64m\n",
      "  81     4.20         0.161602        4        0.0284455              N/A     25.64m\n",
      "  82     4.20         0.160283        4        0.0284455              N/A     24.32m\n",
      "  83     4.21         0.174258        4        0.0284455              N/A     24.56m\n",
      "  84     4.39          0.13584        4        0.0284455              N/A     25.20m\n",
      "  85     4.22         0.135835        5        0.0282234              N/A     24.02m\n",
      "  86     4.25         0.149447        4        0.0284455              N/A     25.25m\n",
      "  87     4.17         0.190282        4        0.0284455              N/A     24.97m\n",
      "  88     4.22         0.171389        8        0.0281852              N/A     24.48m\n",
      "  89     4.28         0.187006        4        0.0284455              N/A     24.85m\n",
      "  90     4.22         0.196753        4        0.0284455              N/A     23.87m\n",
      "  91     4.31         0.323524        4        0.0284455              N/A     24.33m\n",
      "  92     4.25         0.184556        4        0.0284455              N/A     23.95m\n",
      "  93     4.29         0.163211        7        0.0252935              N/A     24.84m\n"
     ]
    },
    {
     "name": "stdout",
     "output_type": "stream",
     "text": [
      "  94     4.88         0.145019        7        0.0252935              N/A     24.25m\n",
      "  95     7.16         0.137769        7        0.0252935              N/A     19.72m\n",
      "  96     7.02         0.105673        7        0.0252935              N/A      8.47m\n",
      "  97     6.94         0.112412        7        0.0252935              N/A     10.49m\n",
      "  98     7.05         0.118507        7        0.0252935              N/A     15.64m\n",
      "  99     7.01         0.120239       11        0.0252062              N/A     26.24m\n",
      " 100     6.95         0.156367        9        0.0251791              N/A     33.35m\n",
      " 101     7.02         0.110995        7        0.0252935              N/A     35.36m\n",
      " 102     6.91         0.115507        7        0.0252935              N/A     36.81m\n",
      " 103     7.11         0.111413        7        0.0252935              N/A     37.31m\n",
      " 104     7.10         0.107093        7        0.0252935              N/A     36.89m\n",
      " 105     7.09         0.154959        7        0.0252935              N/A     36.38m\n",
      " 106     7.16         0.125587        7        0.0252935              N/A     35.91m\n",
      " 107     7.20        0.0955177        7        0.0252935              N/A     36.52m\n",
      " 108     7.05         0.112239        7        0.0252935              N/A     35.69m\n",
      " 109     6.95         0.124962        7        0.0252935              N/A     36.46m\n",
      " 110     6.97         0.134223        7        0.0252935              N/A     35.91m\n",
      " 111     6.95         0.108413        7        0.0252935              N/A     36.12m\n",
      " 112     7.09         0.117696        7        0.0252935              N/A     34.50m\n",
      " 113     7.17          0.12277        7        0.0252935              N/A     35.72m\n",
      " 114     7.07         0.100661        7        0.0252935              N/A     35.08m\n",
      " 115     7.10         0.100129        7        0.0252935              N/A     36.09m\n",
      " 116     6.96         0.111066       25        0.0251222              N/A     35.51m\n",
      " 117     7.07        0.0932171        8        0.0252854              N/A     35.20m\n",
      " 118     6.87          0.12185        7        0.0252935              N/A     35.45m\n",
      " 119     7.11         0.104501        7        0.0252935              N/A     35.72m\n",
      " 120     7.03         0.155177        7        0.0252935              N/A     34.90m\n",
      " 121     6.95         0.132957        7        0.0252935              N/A     35.48m\n",
      " 122     7.07          0.12144        7        0.0252935              N/A     34.09m\n",
      " 123     6.92         0.120374        8        0.0250263              N/A     35.27m\n",
      " 124     7.12         0.102867        7        0.0252935              N/A     34.65m\n",
      " 125     6.99         0.102612        7        0.0252935              N/A     34.76m\n",
      " 126     6.91         0.141873        7        0.0252935              N/A     35.15m\n",
      " 127     7.05         0.104313        7        0.0252935              N/A     34.59m\n",
      " 128     6.92         0.116583        7        0.0252935              N/A     34.63m\n",
      " 129     7.10         0.124562        7        0.0252935              N/A     34.60m\n",
      " 130     6.95         0.102832        7        0.0252935              N/A     35.02m\n",
      " 131     7.07         0.129358        7        0.0252935              N/A     34.48m\n",
      " 132     7.10         0.109217        9        0.0247011              N/A     33.58m\n",
      " 133     6.95         0.139635        7        0.0252935              N/A     33.27m\n",
      " 134     6.88          0.11391        7        0.0252935              N/A     33.49m\n",
      " 135     7.07         0.110992        7        0.0252935              N/A     33.28m\n",
      " 136     6.92         0.151901        7        0.0252935              N/A     33.95m\n",
      " 137     7.01         0.139913        7        0.0252935              N/A     33.25m\n",
      " 138     6.98         0.103921        7        0.0252935              N/A     32.40m\n",
      " 139     7.04           0.1042        7        0.0252935              N/A     32.89m\n",
      " 140     6.92         0.121797        7        0.0252935              N/A     31.89m\n",
      " 141     7.14         0.111915        7        0.0252935              N/A     32.33m\n",
      " 142     7.00         0.159063        7        0.0252935              N/A     32.88m\n",
      " 143     7.05         0.102273        7        0.0252935              N/A     32.49m\n",
      " 144     6.91         0.118463        7        0.0252935              N/A     33.52m\n",
      " 145     7.02         0.130642        7        0.0252935              N/A     33.14m\n",
      " 146     7.06         0.112032        9        0.0252479              N/A     32.71m\n",
      " 147     7.01         0.150343        7        0.0252935              N/A     31.38m\n",
      " 148     6.95        0.0984334        8        0.0250263              N/A     33.08m\n",
      " 149     7.20         0.111607        7        0.0252935              N/A     32.22m\n",
      " 150     7.11         0.115337        7        0.0252935              N/A     32.68m\n",
      " 151     7.10         0.105168        7        0.0252935              N/A     32.43m\n",
      " 152     6.97         0.113039        7        0.0252935              N/A     31.55m\n",
      " 153     7.02         0.103135        7        0.0252935              N/A     32.25m\n",
      " 154     7.07         0.113334        7        0.0252935              N/A     31.29m\n",
      " 155     7.10         0.124307        7        0.0252935              N/A     31.96m\n",
      " 156     6.95         0.107833        7        0.0252935              N/A     32.19m\n",
      " 157     7.11         0.111341        8        0.0250263              N/A     31.73m\n",
      " 158     7.01         0.117346        7        0.0252935              N/A     31.19m\n",
      " 159     7.05         0.113612        7        0.0252935              N/A     31.73m\n",
      " 160     7.00         0.181743        7        0.0252935              N/A     31.14m\n",
      " 161     6.94         0.181848        7        0.0252935              N/A     31.52m\n",
      " 162     6.95          0.13222        7        0.0252935              N/A     31.21m\n",
      " 163     7.03         0.130416        7        0.0252935              N/A     31.38m\n",
      " 164     7.05         0.155028        7        0.0252935              N/A     30.44m\n",
      " 165     7.01         0.132028        7        0.0252935              N/A     32.16m\n",
      " 166     6.97         0.111559       12        0.0251927              N/A     30.58m\n",
      " 167     7.17           0.1174        7        0.0252935              N/A     30.97m\n",
      " 168     7.05         0.129689        8        0.0252854              N/A     30.16m\n",
      " 169     6.94         0.113744        7        0.0252935              N/A     30.22m\n",
      " 170     7.05         0.319246        7        0.0252935              N/A     29.39m\n",
      " 171     7.10         0.158572       12        0.0251957              N/A     30.82m\n",
      " 172     7.05         0.102805        7        0.0252935              N/A     30.43m\n",
      " 173     6.98         0.146713       13        0.0252479              N/A     30.50m\n",
      " 174     7.04          0.12697        7        0.0252935              N/A     29.83m\n",
      " 175     6.94         0.114101        8        0.0252854              N/A     30.31m\n",
      " 176     7.12         0.130294        8        0.0250263              N/A     29.50m\n",
      " 177     6.97         0.112127        7        0.0252935              N/A     30.32m\n",
      " 178     6.93         0.129116        9        0.0250263              N/A     29.80m\n",
      " 179     6.95         0.162587        7        0.0252935              N/A     30.01m\n",
      " 180     7.12         0.114268       12        0.0251927              N/A     28.91m\n",
      " 181     7.04          0.10475        7        0.0252935              N/A     29.65m\n",
      " 182     7.02         0.101825        7        0.0252935              N/A     28.71m\n",
      " 183     7.15         0.137166        9        0.0251791              N/A     29.04m\n",
      " 184     6.94        0.0998452       12        0.0240993              N/A     28.41m\n",
      " 185     7.04         0.545758        9        0.0251791              N/A     29.06m\n",
      " 186     6.88         0.112179        7        0.0252935              N/A     28.51m\n",
      " 187     7.02         0.135064        7        0.0252935              N/A     29.09m\n",
      " 188     7.18         0.114192        7        0.0252935              N/A     28.68m\n",
      " 189     7.08         0.124143       11        0.0251626              N/A     28.89m\n",
      " 190     6.92          3.31118        7        0.0252935              N/A     28.00m\n"
     ]
    },
    {
     "name": "stdout",
     "output_type": "stream",
     "text": [
      " 191     7.07         0.110099        7        0.0252935              N/A     28.97m\n",
      " 192     6.93         0.134356        7        0.0252935              N/A     28.34m\n",
      " 193     7.08         0.111191        7        0.0252935              N/A     28.37m\n",
      " 194     7.08        0.0980654        7        0.0252935              N/A     28.52m\n",
      " 195     7.10         0.116336        7        0.0252935              N/A     28.49m\n",
      " 196     6.94          0.10845        9        0.0252479              N/A     28.09m\n",
      " 197     7.00        0.0967623        7        0.0252935              N/A     27.90m\n",
      " 198     7.00        0.0993937        7        0.0252935              N/A     26.80m\n",
      " 199     7.10         0.118945        7        0.0252935              N/A     28.00m\n",
      " 200     7.01         0.106797        7        0.0252935              N/A     27.76m\n",
      " 201     7.06         0.118245        7        0.0252935              N/A     27.92m\n",
      " 202     7.02         0.116531        7        0.0252935              N/A     27.22m\n",
      " 203     7.09         0.119092        8        0.0252854              N/A     27.21m\n",
      " 204     7.02         0.115279        7        0.0252935              N/A     27.25m\n",
      " 205     6.95         0.172566        7        0.0252935              N/A     27.47m\n",
      " 206     6.93         0.108788        7        0.0252935              N/A     26.66m\n",
      " 207     7.06         0.126383        8        0.0250263              N/A     27.88m\n",
      " 208     6.98         0.313071        7        0.0252935              N/A     26.93m\n",
      " 209     7.05         0.107093        7        0.0252935              N/A     27.73m\n",
      " 210     6.95         0.106748       12        0.0250446              N/A     27.18m\n",
      " 211     7.01         0.141721        7        0.0252935              N/A     27.20m\n",
      " 212     6.96         0.188695        8        0.0250263              N/A     26.19m\n",
      " 213     7.05         0.138033        7        0.0252935              N/A     26.29m\n",
      " 214     6.94         0.107377        9        0.0251791              N/A     26.32m\n",
      " 215     6.96         0.103151        7        0.0252935              N/A     26.43m\n",
      " 216     7.01         0.116076        7        0.0252935              N/A     25.36m\n",
      " 217     6.96         0.102186        7        0.0252935              N/A     26.16m\n",
      " 218     6.98         0.154404        7        0.0252935              N/A     26.06m\n",
      " 219     7.27         0.109229        7        0.0252935              N/A     26.28m\n",
      " 220     7.04         0.125263        7        0.0252935              N/A     25.39m\n",
      " 221     7.03         0.101174        7        0.0252935              N/A     25.41m\n",
      " 222     6.98        0.0958027        7        0.0252935              N/A     24.93m\n",
      " 223     6.94          0.11089        7        0.0252935              N/A     25.97m\n",
      " 224     7.02         0.147822        9        0.0251927              N/A     25.91m\n",
      " 225     7.13         0.148544        7        0.0252935              N/A     25.84m\n",
      " 226     6.97         0.113814       13        0.0251927              N/A     25.01m\n",
      " 227     7.11         0.104703        7        0.0252935              N/A     25.33m\n",
      " 228     6.76         0.122751        7        0.0252935              N/A     25.01m\n",
      " 229     7.09         0.106357        7        0.0252935              N/A     24.46m\n",
      " 230     7.10         0.108476        7        0.0252935              N/A     24.70m\n",
      " 231     7.01         0.107244        7        0.0252935              N/A     24.85m\n",
      " 232     7.02         0.106946        7        0.0252935              N/A     24.78m\n",
      " 233     7.00         0.124004        7        0.0252935              N/A     24.71m\n",
      " 234     7.10         0.120028        7        0.0252935              N/A     24.46m\n",
      " 235     7.03         0.104006        7        0.0252935              N/A     24.55m\n",
      " 236     6.88         0.173807        9        0.0252781              N/A     24.23m\n",
      " 237     6.96         0.126012        9        0.0252479              N/A     23.79m\n",
      " 238     7.01         0.213614       12        0.0250263              N/A     23.91m\n",
      " 239     7.07          0.12353        7        0.0252935              N/A     24.05m\n",
      " 240     7.01         0.123591        7        0.0252935              N/A     23.49m\n",
      " 241     7.14          0.10922        7        0.0252935              N/A     24.31m\n",
      " 242     7.12         0.105354        7        0.0252935              N/A     23.79m\n",
      " 243     6.98          0.10495        7        0.0252935              N/A     23.96m\n",
      " 244     7.15        0.0995453        7        0.0252935              N/A     23.14m\n",
      " 245     7.12         0.111034       11        0.0252623              N/A     23.90m\n",
      " 246     7.04         0.167586        8        0.0250263              N/A     23.54m\n",
      " 247     6.93         0.104103        7        0.0252935              N/A     23.46m\n",
      " 248     6.99         0.123442        7        0.0252935              N/A     22.73m\n",
      " 249     7.07         0.107584        7        0.0252935              N/A     22.93m\n",
      " 250     7.00         0.121284        7        0.0252935              N/A     22.83m\n",
      " 251     7.02         0.124093        7        0.0252935              N/A     23.00m\n",
      " 252     7.01         0.115332        7        0.0252935              N/A     22.63m\n",
      " 253     6.94         0.107422        7        0.0252935              N/A     22.99m\n",
      " 254     7.12         0.111196        7        0.0252935              N/A     22.27m\n",
      " 255     6.94         0.105615        7        0.0252935              N/A     22.93m\n",
      " 256     7.11         0.122825        7        0.0252935              N/A     22.19m\n",
      " 257     7.09         0.142066        7        0.0252935              N/A     22.80m\n",
      " 258     6.92         0.108739        7        0.0252935              N/A     21.95m\n",
      " 259     7.10         0.108817        7        0.0252935              N/A     22.03m\n",
      " 260     6.92         0.108195        7        0.0252935              N/A     21.66m\n",
      " 261     7.03         0.135544        7        0.0252935              N/A     21.84m\n",
      " 262     6.95         0.117583        7        0.0252935              N/A     21.39m\n",
      " 263     6.99        0.0976619        7        0.0252935              N/A     21.95m\n",
      " 264     7.02         0.112633       17        0.0251853              N/A     21.32m\n",
      " 265     6.96         0.113903        8        0.0250263              N/A     21.91m\n",
      " 266     6.94         0.294329        7        0.0252935              N/A     21.28m\n",
      " 267     7.00         0.112968        7        0.0252935              N/A     21.45m\n",
      " 268     7.00         0.125375       13        0.0248543              N/A     20.98m\n",
      " 269     7.04         0.150644        7        0.0252935              N/A     21.01m\n",
      " 270     7.24         0.113833        7        0.0252935              N/A     20.52m\n",
      " 271     7.07         0.140883        7        0.0252935              N/A     21.31m\n",
      " 272     6.89         0.252027        7        0.0252935              N/A     20.52m\n",
      " 273     7.00         0.108196        7        0.0252935              N/A     20.55m\n",
      " 274     6.94         0.121663        7        0.0252935              N/A     20.12m\n",
      " 275     7.09         0.115157        7        0.0252935              N/A     20.59m\n",
      " 276     6.89          7.50483        7        0.0252935              N/A     20.58m\n",
      " 277     6.84          0.11758        7        0.0252935              N/A     20.63m\n",
      " 278     7.10         0.157642        7        0.0252935              N/A     19.86m\n",
      " 279     6.97         0.129777        7        0.0252935              N/A     20.43m\n",
      " 280     7.00         0.104254        8        0.0250263              N/A     19.42m\n",
      " 281     7.13         0.123748        7        0.0252935              N/A     20.23m\n",
      " 282     7.17         0.109058        7        0.0252935              N/A     20.11m\n",
      " 283     7.00          0.12275        7        0.0252935              N/A     20.03m\n",
      " 284     6.99         0.124616        7        0.0252935              N/A     19.41m\n",
      " 285     7.03         0.115905        8        0.0250263              N/A     19.76m\n",
      " 286     7.05         0.178279        7        0.0252935              N/A     19.38m\n",
      " 287     7.14         0.109109        8        0.0250263              N/A     19.89m\n"
     ]
    },
    {
     "name": "stdout",
     "output_type": "stream",
     "text": [
      " 288     7.04         0.113201        7        0.0252935              N/A     19.52m\n",
      " 289     6.87         0.126512        8        0.0252854              N/A     19.39m\n",
      " 290     6.93         0.107133        7        0.0252935              N/A     19.10m\n",
      " 291     6.86         0.125211        7        0.0252935              N/A     18.81m\n",
      " 292     7.08          0.11848        7        0.0252935              N/A     18.66m\n",
      " 293     7.09         0.112971        7        0.0252935              N/A     18.78m\n",
      " 294     7.03         0.106983        9        0.0252479              N/A     18.51m\n",
      " 295     7.08         0.123909        7        0.0252935              N/A     18.63m\n",
      " 296     7.10         0.117937        7        0.0252935              N/A     18.38m\n",
      " 297     7.08         0.108923        7        0.0252935              N/A     19.18m\n",
      " 298     7.06         0.121727        7        0.0252935              N/A     18.67m\n",
      " 299     7.09         0.139467        8        0.0252854              N/A     18.77m\n",
      " 300     7.02         0.107361        7        0.0252935              N/A     18.22m\n",
      " 301     7.02         0.159895        7        0.0252935              N/A     18.32m\n",
      " 302     7.10         0.108681       11        0.0250268              N/A     17.87m\n",
      " 303     6.92         0.182006        8        0.0252854              N/A     18.40m\n",
      " 304     7.04         0.109665        8        0.0250263              N/A     17.75m\n",
      " 305     7.05         0.122012        7        0.0252935              N/A     18.00m\n",
      " 306     7.00         0.492883        7        0.0252935              N/A     17.41m\n",
      " 307     7.04         0.101092        7        0.0252935              N/A     17.67m\n",
      " 308     7.01         0.129523        8        0.0250263              N/A     17.52m\n",
      " 309     7.05         0.116158        8        0.0252854              N/A     17.51m\n",
      " 310     7.17         0.107005        8        0.0250263              N/A     17.54m\n",
      " 311     7.09         0.116442        8        0.0250263              N/A     17.70m\n",
      " 312     7.09         0.111065        9        0.0250553              N/A     17.11m\n",
      " 313     6.93         0.131852        7        0.0252935              N/A     17.34m\n",
      " 314     7.03         0.131724        8        0.0252854              N/A     16.76m\n",
      " 315     6.95          0.12322        7        0.0252935              N/A     17.02m\n",
      " 316     7.14         0.121637        7        0.0252935              N/A     16.60m\n",
      " 317     6.88         0.114579        7        0.0252935              N/A     16.80m\n",
      " 318     6.89         0.465467        7        0.0252935              N/A     16.52m\n",
      " 319     6.97         0.134954        7        0.0252935              N/A     16.47m\n",
      " 320     6.99         0.115169        7        0.0252935              N/A     16.05m\n",
      " 321     7.09         0.106718        8        0.0252854              N/A     16.35m\n",
      " 322     7.04         0.161492        7        0.0252935              N/A     15.79m\n",
      " 323     6.93         0.109913        7        0.0252935              N/A     15.86m\n",
      " 324     7.00         0.104481        7        0.0252935              N/A     15.65m\n",
      " 325     7.05         0.113507        7        0.0252935              N/A     16.00m\n",
      " 326     6.96         0.158026        8        0.0252854              N/A     15.25m\n",
      " 327     7.04         0.126372        7        0.0252935              N/A     15.35m\n",
      " 328     7.04         0.127193        7        0.0252935              N/A     15.07m\n",
      " 329     7.01         0.108094        7        0.0252935              N/A     15.62m\n",
      " 330     7.08         0.133407        7        0.0252935              N/A     15.09m\n",
      " 331     7.09         0.106015        7        0.0252935              N/A     15.51m\n",
      " 332     7.03        0.0951345        7        0.0252935              N/A     14.97m\n",
      " 333     6.88         0.107983        7        0.0252935              N/A     15.30m\n",
      " 334     6.96         0.108282        8        0.0250263              N/A     14.72m\n",
      " 335     6.94         0.137585        7        0.0252935              N/A     14.76m\n",
      " 336     7.16          0.10685        7        0.0252935              N/A     14.86m\n",
      " 337     7.08        0.0962991        7        0.0252935              N/A     14.45m\n",
      " 338     7.04         0.128111        7        0.0252935              N/A     14.99m\n",
      " 339     7.08         0.123535        7        0.0252935              N/A     14.67m\n",
      " 340     7.12         0.127525        7        0.0252935              N/A     14.23m\n",
      " 341     6.89         0.168998        7        0.0252935              N/A     14.54m\n",
      " 342     7.08         0.178895        7        0.0252935              N/A     14.02m\n",
      " 343     6.93         0.121009        7        0.0252935              N/A     13.94m\n",
      " 344     7.04         0.119011        7        0.0252935              N/A     13.87m\n",
      " 345     6.92         0.134074        7        0.0252935              N/A     14.19m\n",
      " 346     7.15         0.172992        7        0.0252935              N/A     13.66m\n",
      " 347     7.01          0.13848        7        0.0252935              N/A     13.94m\n",
      " 348     7.06         0.118078        7        0.0252935              N/A     13.25m\n",
      " 349     7.01         0.120987        7        0.0252935              N/A     13.72m\n",
      " 350     6.95         0.149605        7        0.0252935              N/A     13.09m\n",
      " 351     6.87         0.130898        9        0.0252854              N/A     13.39m\n",
      " 352     7.13          0.11641        8        0.0252854              N/A     13.12m\n",
      " 353     6.90         0.129137        7        0.0252935              N/A     13.54m\n",
      " 354     7.13         0.140272        9        0.0251927              N/A     12.93m\n",
      " 355     6.93         0.167098        7        0.0252935              N/A     13.15m\n",
      " 356     7.14         0.130338        7        0.0252935              N/A     12.57m\n",
      " 357     7.15        0.0996577        8        0.0250263              N/A     12.96m\n",
      " 358     7.12         0.106432        7        0.0252935              N/A     12.52m\n",
      " 359     7.15           0.1064        8        0.0250263              N/A     12.62m\n",
      " 360     7.01         0.121671        7        0.0252935              N/A     13.09m\n",
      " 361     6.94         0.113925        7        0.0252935              N/A     12.66m\n",
      " 362     7.00         0.104065       12        0.0248005              N/A     12.12m\n",
      " 363     7.06         0.134899       13        0.0249215              N/A     11.98m\n",
      " 364     6.98         0.119822        9        0.0251791              N/A     12.26m\n",
      " 365     7.06         0.109261        7        0.0252935              N/A     12.33m\n",
      " 366     7.00         0.105072       11        0.0250263              N/A     12.26m\n",
      " 367     7.19         0.121418        7        0.0252935              N/A     12.24m\n",
      " 368     7.01         0.136269        7        0.0252935              N/A     12.12m\n",
      " 369     7.12         0.105076        7        0.0252935              N/A     11.81m\n",
      " 370     7.03         0.103997        8        0.0250263              N/A     11.66m\n",
      " 371     6.83         0.138072        8        0.0252854              N/A     11.37m\n",
      " 372     7.01         0.139174        7        0.0252935              N/A     11.29m\n",
      " 373     6.89         0.118917        7        0.0252935              N/A     11.35m\n",
      " 374     7.08         0.105347        7        0.0252935              N/A     10.96m\n",
      " 375     7.03          0.12067        8        0.0250263              N/A     11.61m\n",
      " 376     7.13         0.147165        7        0.0252935              N/A     11.00m\n",
      " 377     6.93          0.12751        7        0.0252935              N/A     11.04m\n",
      " 378     7.16         0.116522        8        0.0252854              N/A     10.79m\n",
      " 379     7.04         0.114341        7        0.0252935              N/A     10.78m\n",
      " 380     7.10         0.117018        8        0.0250263              N/A     10.76m\n",
      " 381     6.95           0.1292        8        0.0252854              N/A     10.84m\n",
      " 382     6.91         0.116622       10        0.0252854              N/A     10.42m\n",
      " 383     7.09         0.143968        7        0.0252935              N/A     10.25m\n",
      " 384     7.06         0.116808        7        0.0252935              N/A     10.38m\n"
     ]
    },
    {
     "name": "stdout",
     "output_type": "stream",
     "text": [
      " 385     7.02         0.125617        7        0.0252935              N/A     10.32m\n",
      " 386     7.02         0.113751        7        0.0252935              N/A     10.21m\n",
      " 387     7.01         0.116011        7        0.0252935              N/A     10.08m\n",
      " 388     7.04         0.105586       11        0.0251927              N/A      9.91m\n",
      " 389     6.96         0.129848        7        0.0252935              N/A      9.92m\n",
      " 390     6.95         0.105792       13        0.0249215              N/A      9.67m\n",
      " 391     7.17        0.0943589        8        0.0252854              N/A      9.75m\n",
      " 392     6.89         0.107866        8        0.0252854              N/A      9.52m\n",
      " 393     7.03         0.110897        7        0.0252935              N/A      9.46m\n",
      " 394     6.94         0.136898        8        0.0250263              N/A      9.35m\n",
      " 395     6.98         0.108281        7        0.0252935              N/A      9.63m\n",
      " 396     7.17          0.12752        7        0.0252935              N/A      9.19m\n",
      " 397     7.03         0.121197        7        0.0252935              N/A      9.20m\n",
      " 398     7.01         0.112842        7        0.0252935              N/A      8.98m\n",
      " 399     7.07        0.0936046        7        0.0252935              N/A      9.04m\n",
      " 400     7.05         0.103415        7        0.0252935              N/A      8.70m\n",
      " 401     6.95         0.112707        7        0.0252935              N/A      8.88m\n",
      " 402     6.92         0.122752        7        0.0252935              N/A      8.74m\n",
      " 403     7.02         0.106974        8        0.0252854              N/A      8.63m\n",
      " 404     6.95          0.18216        7        0.0252935              N/A      8.40m\n",
      " 405     6.95         0.108544        7        0.0252935              N/A      8.50m\n",
      " 406     6.85         0.168028        7        0.0252935              N/A      8.17m\n",
      " 407     6.92          0.18387        7        0.0252935              N/A      8.16m\n",
      " 408     7.10         0.150514        9        0.0252479              N/A      8.34m\n",
      " 409     6.93         0.163367        7        0.0252935              N/A      8.15m\n",
      " 410     6.86         0.120695        7        0.0252935              N/A      7.95m\n",
      " 411     7.07           0.1774        7        0.0252935              N/A      7.76m\n",
      " 412     7.03         0.427482       10        0.0251942              N/A      7.85m\n",
      " 413     6.94         0.123709        7        0.0252935              N/A      7.87m\n",
      " 414     7.14         0.101172        7        0.0252935              N/A      7.54m\n",
      " 415     7.03         0.120245        7        0.0252935              N/A      7.70m\n",
      " 416     6.91         0.141482        7        0.0252935              N/A      7.34m\n",
      " 417     7.02         0.127347       15        0.0249768              N/A      7.39m\n",
      " 418     7.08         0.120418        7        0.0252935              N/A      7.23m\n",
      " 419     7.00          1.52127        7        0.0252935              N/A      7.29m\n",
      " 420     6.93         0.184573        7        0.0252935              N/A      6.99m\n",
      " 421     7.06         0.122179        7        0.0252935              N/A      7.18m\n",
      " 422     7.18         0.152329        7        0.0252935              N/A      6.86m\n",
      " 423     6.85        0.0899854        7        0.0252935              N/A      6.80m\n",
      " 424     7.03         0.111569        7        0.0252935              N/A      6.70m\n",
      " 425     7.02         0.137697        7        0.0252935              N/A      6.73m\n",
      " 426     7.05          0.10585        7        0.0252935              N/A      6.45m\n",
      " 427     7.01         0.125393        7        0.0252935              N/A      6.54m\n",
      " 428     7.00         0.108801       17        0.0242121              N/A      6.33m\n",
      " 429     6.90         0.121573        7        0.0252935              N/A      6.34m\n",
      " 430     7.07         0.110179        9        0.0252479              N/A      6.01m\n",
      " 431     6.95         0.110021        7        0.0252935              N/A      6.05m\n",
      " 432     7.12         0.116282        7        0.0252935              N/A      5.95m\n",
      " 433     7.03         0.165466        7        0.0252935              N/A      5.86m\n",
      " 434     6.96         0.129286        7        0.0252935              N/A      5.78m\n",
      " 435     7.07         0.130268        7        0.0252935              N/A      5.88m\n",
      " 436     6.96         0.111504        7        0.0252935              N/A      5.63m\n",
      " 437     7.07         0.138722        7        0.0252935              N/A      5.53m\n",
      " 438     7.01          0.16928        7        0.0252935              N/A      5.60m\n",
      " 439     7.07         0.125186        7        0.0252935              N/A      5.43m\n",
      " 440     7.14          0.11367        7        0.0252935              N/A      5.19m\n",
      " 441     7.11         0.127637        8        0.0250263              N/A      5.23m\n",
      " 442     7.15         0.178944        7        0.0252935              N/A      5.15m\n",
      " 443     7.00         0.128358        8        0.0252854              N/A      4.93m\n",
      " 444     7.16         0.208501        7        0.0252935              N/A      4.92m\n",
      " 445     7.04         0.116348        9        0.0251927              N/A      4.91m\n",
      " 446     7.11         0.174146        7        0.0252935              N/A      4.67m\n",
      " 447     7.04         0.108497        7        0.0252935              N/A      4.66m\n",
      " 448     7.07         0.118782        8        0.0250263              N/A      4.59m\n",
      " 449     6.94         0.394757        7        0.0252935              N/A      4.51m\n",
      " 450     7.03         0.166997        7        0.0252935              N/A      4.35m\n",
      " 451     6.95         0.131422        8        0.0250263              N/A      4.30m\n",
      " 452     6.99         0.630574        8        0.0250263              N/A      4.25m\n",
      " 453     7.09         0.117053        7        0.0252935              N/A      4.19m\n",
      " 454     7.12          1.06823        7        0.0252935              N/A      4.01m\n",
      " 455     7.08         0.118103        7        0.0252935              N/A      3.98m\n",
      " 456     7.12         0.122205        7        0.0252935              N/A      3.96m\n",
      " 457     7.05         0.120097        7        0.0252935              N/A      3.78m\n",
      " 458     6.75         0.171214        8        0.0250263              N/A      3.63m\n",
      " 459     7.16         0.115132        7        0.0252935              N/A      3.54m\n",
      " 460     7.18           0.1229        7        0.0252935              N/A      3.51m\n",
      " 461     6.94         0.115489        8        0.0252854              N/A      3.49m\n",
      " 462     6.92         0.105237        9        0.0252854              N/A      3.29m\n",
      " 463     7.11         0.109054        7        0.0252935              N/A      3.21m\n",
      " 464     6.99         0.100014       19        0.0248323              N/A      3.21m\n",
      " 465     6.91         0.108165        7        0.0252935              N/A      3.15m\n",
      " 466     6.94         0.116623        7        0.0252935              N/A      2.92m\n",
      " 467     6.98         0.124082        7        0.0252935              N/A      2.91m\n",
      " 468     6.93         0.115097        7        0.0252935              N/A      2.76m\n",
      " 469     7.04         0.109918        8        0.0252854              N/A      2.72m\n",
      " 470     6.99         0.103506        8        0.0250263              N/A      2.60m\n",
      " 471     6.99         0.153961        7        0.0252935              N/A      2.52m\n",
      " 472     7.10         0.122994        8        0.0250263              N/A      2.38m\n",
      " 473     6.96         0.119255        8        0.0252854              N/A      2.36m\n",
      " 474     7.24         0.109218        7        0.0252935              N/A      2.21m\n",
      " 475     7.09         0.109934        8        0.0252854              N/A      2.20m\n",
      " 476     7.04          0.12619        7        0.0252935              N/A      2.05m\n",
      " 477     6.88         0.121509        7        0.0252935              N/A      2.03m\n",
      " 478     7.02         0.125595        7        0.0252935              N/A      1.82m\n",
      " 479     6.99          0.11832        8        0.0250263              N/A      1.76m\n",
      " 480     7.03         0.119661        7        0.0252935              N/A      1.66m\n",
      " 481     6.96         0.102864        7        0.0252935              N/A      1.63m\n"
     ]
    },
    {
     "name": "stdout",
     "output_type": "stream",
     "text": [
      " 482     6.99         0.101416        7        0.0252935              N/A      1.51m\n",
      " 483     6.97         0.116601        7        0.0252935              N/A      1.45m\n",
      " 484     7.15         0.100991        7        0.0252935              N/A      1.31m\n",
      " 485     7.11         0.165734        8        0.0250263              N/A      1.29m\n",
      " 486     7.16         0.111411        7        0.0252935              N/A      1.16m\n",
      " 487     7.14         0.120625        9        0.0252854              N/A      1.07m\n",
      " 488     7.09         0.100708        7        0.0252935              N/A     58.26s\n",
      " 489     6.97         0.111723        7        0.0252935              N/A     55.19s\n",
      " 490     7.17         0.506522        7        0.0252935              N/A     47.56s\n",
      " 491     7.12         0.138159        8        0.0250263              N/A     42.18s\n",
      " 492     6.90          0.11297        7        0.0252935              N/A     38.00s\n",
      " 493     6.98         0.128879       12        0.0252854              N/A     32.70s\n",
      " 494     6.97         0.108491        7        0.0252935              N/A     26.57s\n",
      " 495     6.99         0.125058        7        0.0252935              N/A     21.36s\n",
      " 496     7.11         0.101213        9        0.0251927              N/A     16.49s\n",
      " 497     7.03         0.115826        7        0.0252935              N/A     11.18s\n",
      " 498     7.04         0.127355        7        0.0252935              N/A      5.41s\n",
      " 499     6.98         0.112669        7        0.0252935              N/A      0.00s\n",
      "tanh(tanh(X0, X1, X0), X6, X0)\n"
     ]
    }
   ],
   "source": [
    "def power_f(x, d):\n",
    "    d = np.round(np.clip(d, 1, 2)).astype(int)\n",
    "    return np.power(x, d)\n",
    "\n",
    "def _tanh(x, a, b):\n",
    "    return np.tanh(a*x+b)\n",
    "\n",
    "def _mle_poisson(true, pred, w=None):\n",
    "    pred = np.where(pred>0, pred, np.exp(pred) - 1) + 1 + 1e-15\n",
    "    ll = -np.mean(poisson.logpmf(true, pred))\n",
    "    ll = np.nan_to_num(ll, nan=1e5)\n",
    "    return ll\n",
    "\n",
    "power = gpl.functions.make_function(power_f, 'pow', 2, wrap=True)\n",
    "tanh = gpl.functions.make_function(_tanh, 'tanh', 3, wrap=True)\n",
    "function_set = ['add', 'sub', 'mul', 'div', 'sqrt', power, 'log', 'min', 'max', 'sin', 'cos', 'abs', tanh]\n",
    "mle_poisson = gpl.fitness.make_fitness(_mle_poisson, greater_is_better=False)\n",
    "\n",
    "model = SymbolicRegressor(population_size = 2000, tournament_size=500, const_range=(-5,5),\n",
    "                          generations = 500, stopping_criteria=-1000,\n",
    "                          function_set = function_set, metric='mean absolute error',\n",
    "                          p_crossover=0.65, p_subtree_mutation=0.15,\n",
    "                          p_hoist_mutation=0.05, p_point_mutation=0.1, low_memory=True,\n",
    "                          verbose = 1, random_state = None, n_jobs = -1)\n",
    "\n",
    "model.fit(X_train, Y_train)\n",
    "print(model._program)"
   ]
  },
  {
   "cell_type": "code",
   "execution_count": 75,
   "metadata": {},
   "outputs": [
    {
     "data": {
      "text/plain": [
       "{'promo': ArcCosine(variance=47.1, weight_variances=0.958, bias_variance=0.958) + WhiteKernel(noise_level=0.000981),\n",
       " 'hyp_promo': ArcCosine(variance=148, weight_variances=1.14e-05, bias_variance=1.14e-05) + WhiteKernel(noise_level=1e-05),\n",
       " 'product_group': ArcCosine(variance=339, weight_variances=0.014, bias_variance=0.014) + WhiteKernel(noise_level=6.54e-05),\n",
       " 'binary': RBF(length_scale=255) * 11.1**2,\n",
       " 'year': ExpSineSquared(length_scale=84.6, periodicity=364) * 27.7**2,\n",
       " 'trend': ArcCosine(variance=46.3, weight_variances=1.38, bias_variance=1.38)}"
      ]
     },
     "execution_count": 75,
     "metadata": {},
     "output_type": "execute_result"
    }
   ],
   "source": [
    "mus = []\n",
    "for i in kernel_d:\n",
    "    k = kernel_d[i]\n",
    "    gpr = GPR(kernel=k, optimizer=None, alpha=1e-5).fit(X_train, Y_train)\n",
    "    mus.append(gpr.predict(X_test, return_std=False))\n",
    "mus = y_scaler.inverse_transform(np.stack(mus))\n",
    "mus = dict(zip(kernel_d.keys(), mus))\n",
    "kernel_d"
   ]
  },
  {
   "cell_type": "code",
   "execution_count": 76,
   "metadata": {
    "scrolled": false
   },
   "outputs": [
    {
     "name": "stderr",
     "output_type": "stream",
     "text": [
      "/home/skyolia/anaconda3/lib/python3.8/site-packages/sklearn/gaussian_process/kernels.py:285: RuntimeWarning:\n",
      "\n",
      "divide by zero encountered in log\n",
      "\n",
      "/tmp/ipykernel_8593/979786253.py:12: FutureWarning:\n",
      "\n",
      "In a future version of pandas all arguments of concat except for the argument 'objs' will be keyword-only\n",
      "\n"
     ]
    },
    {
     "data": {
      "text/html": [
       "<div>\n",
       "<style scoped>\n",
       "    .dataframe tbody tr th:only-of-type {\n",
       "        vertical-align: middle;\n",
       "    }\n",
       "\n",
       "    .dataframe tbody tr th {\n",
       "        vertical-align: top;\n",
       "    }\n",
       "\n",
       "    .dataframe thead th {\n",
       "        text-align: right;\n",
       "    }\n",
       "</style>\n",
       "<table border=\"1\" class=\"dataframe\">\n",
       "  <thead>\n",
       "    <tr style=\"text-align: right;\">\n",
       "      <th></th>\n",
       "      <th>index</th>\n",
       "      <th>Date</th>\n",
       "      <th>product_group</th>\n",
       "      <th>dispatches_SellIn</th>\n",
       "      <th>orders_SellIn</th>\n",
       "      <th>SellOut</th>\n",
       "      <th>promo</th>\n",
       "      <th>hyp_promo</th>\n",
       "      <th>type_promo_1</th>\n",
       "      <th>type_promo_2</th>\n",
       "      <th>delta_t</th>\n",
       "      <th>mu</th>\n",
       "      <th>lb</th>\n",
       "      <th>ub</th>\n",
       "      <th>promo</th>\n",
       "      <th>hyp_promo</th>\n",
       "      <th>product_group</th>\n",
       "      <th>binary</th>\n",
       "      <th>year</th>\n",
       "      <th>trend</th>\n",
       "    </tr>\n",
       "  </thead>\n",
       "  <tbody>\n",
       "    <tr>\n",
       "      <th>0</th>\n",
       "      <td>5784</td>\n",
       "      <td>2019-07-07</td>\n",
       "      <td>Product_04</td>\n",
       "      <td>9955</td>\n",
       "      <td>9955</td>\n",
       "      <td>5923</td>\n",
       "      <td>0.5</td>\n",
       "      <td>0.000000</td>\n",
       "      <td>0.0</td>\n",
       "      <td>0.0</td>\n",
       "      <td>1064.0</td>\n",
       "      <td>5274.547906</td>\n",
       "      <td>-11511.555657</td>\n",
       "      <td>22060.651469</td>\n",
       "      <td>1382.201854</td>\n",
       "      <td>1629.670759</td>\n",
       "      <td>5386.770306</td>\n",
       "      <td>5385.538251</td>\n",
       "      <td>1919.221443</td>\n",
       "      <td>1992.146962</td>\n",
       "    </tr>\n",
       "    <tr>\n",
       "      <th>1</th>\n",
       "      <td>5791</td>\n",
       "      <td>2019-07-07</td>\n",
       "      <td>Product_11</td>\n",
       "      <td>0</td>\n",
       "      <td>0</td>\n",
       "      <td>286</td>\n",
       "      <td>0.1</td>\n",
       "      <td>0.000000</td>\n",
       "      <td>0.0</td>\n",
       "      <td>0.0</td>\n",
       "      <td>1064.0</td>\n",
       "      <td>600.354341</td>\n",
       "      <td>-16144.785841</td>\n",
       "      <td>17345.494523</td>\n",
       "      <td>1161.148207</td>\n",
       "      <td>1629.670759</td>\n",
       "      <td>270.441944</td>\n",
       "      <td>270.978267</td>\n",
       "      <td>1919.221443</td>\n",
       "      <td>1992.146962</td>\n",
       "    </tr>\n",
       "    <tr>\n",
       "      <th>2</th>\n",
       "      <td>5797</td>\n",
       "      <td>2019-07-07</td>\n",
       "      <td>Product_17</td>\n",
       "      <td>659</td>\n",
       "      <td>763</td>\n",
       "      <td>825</td>\n",
       "      <td>0.0</td>\n",
       "      <td>0.000000</td>\n",
       "      <td>0.0</td>\n",
       "      <td>0.0</td>\n",
       "      <td>1064.0</td>\n",
       "      <td>878.077580</td>\n",
       "      <td>-15864.539813</td>\n",
       "      <td>17620.694973</td>\n",
       "      <td>1102.869814</td>\n",
       "      <td>1629.670759</td>\n",
       "      <td>577.157278</td>\n",
       "      <td>577.589179</td>\n",
       "      <td>1919.221443</td>\n",
       "      <td>1992.146962</td>\n",
       "    </tr>\n",
       "    <tr>\n",
       "      <th>3</th>\n",
       "      <td>5812</td>\n",
       "      <td>2019-07-07</td>\n",
       "      <td>Product_32</td>\n",
       "      <td>1045</td>\n",
       "      <td>1045</td>\n",
       "      <td>1336</td>\n",
       "      <td>0.9</td>\n",
       "      <td>0.000000</td>\n",
       "      <td>0.0</td>\n",
       "      <td>0.0</td>\n",
       "      <td>1064.0</td>\n",
       "      <td>1330.470867</td>\n",
       "      <td>-15409.237850</td>\n",
       "      <td>18070.179583</td>\n",
       "      <td>1583.973958</td>\n",
       "      <td>1629.670759</td>\n",
       "      <td>1064.829676</td>\n",
       "      <td>1065.098129</td>\n",
       "      <td>1919.221443</td>\n",
       "      <td>1992.146962</td>\n",
       "    </tr>\n",
       "    <tr>\n",
       "      <th>4</th>\n",
       "      <td>5826</td>\n",
       "      <td>2019-07-14</td>\n",
       "      <td>Product_04</td>\n",
       "      <td>8940</td>\n",
       "      <td>8940</td>\n",
       "      <td>5912</td>\n",
       "      <td>0.4</td>\n",
       "      <td>0.000000</td>\n",
       "      <td>0.0</td>\n",
       "      <td>0.0</td>\n",
       "      <td>1071.0</td>\n",
       "      <td>5271.092449</td>\n",
       "      <td>-11556.132697</td>\n",
       "      <td>22098.317596</td>\n",
       "      <td>1328.746753</td>\n",
       "      <td>1629.670759</td>\n",
       "      <td>5386.770306</td>\n",
       "      <td>5385.538251</td>\n",
       "      <td>1870.003719</td>\n",
       "      <td>1992.127968</td>\n",
       "    </tr>\n",
       "    <tr>\n",
       "      <th>...</th>\n",
       "      <td>...</td>\n",
       "      <td>...</td>\n",
       "      <td>...</td>\n",
       "      <td>...</td>\n",
       "      <td>...</td>\n",
       "      <td>...</td>\n",
       "      <td>...</td>\n",
       "      <td>...</td>\n",
       "      <td>...</td>\n",
       "      <td>...</td>\n",
       "      <td>...</td>\n",
       "      <td>...</td>\n",
       "      <td>...</td>\n",
       "      <td>...</td>\n",
       "      <td>...</td>\n",
       "      <td>...</td>\n",
       "      <td>...</td>\n",
       "      <td>...</td>\n",
       "      <td>...</td>\n",
       "      <td>...</td>\n",
       "    </tr>\n",
       "    <tr>\n",
       "      <th>99</th>\n",
       "      <td>6820</td>\n",
       "      <td>2019-12-22</td>\n",
       "      <td>Product_32</td>\n",
       "      <td>1982</td>\n",
       "      <td>1982</td>\n",
       "      <td>1540</td>\n",
       "      <td>0.3</td>\n",
       "      <td>0.000000</td>\n",
       "      <td>0.0</td>\n",
       "      <td>0.0</td>\n",
       "      <td>1232.0</td>\n",
       "      <td>1174.458349</td>\n",
       "      <td>-16274.730418</td>\n",
       "      <td>18623.647115</td>\n",
       "      <td>1274.086386</td>\n",
       "      <td>1629.670759</td>\n",
       "      <td>1064.829676</td>\n",
       "      <td>1065.098129</td>\n",
       "      <td>1867.380179</td>\n",
       "      <td>1991.775411</td>\n",
       "    </tr>\n",
       "    <tr>\n",
       "      <th>100</th>\n",
       "      <td>6834</td>\n",
       "      <td>2019-12-29</td>\n",
       "      <td>Product_04</td>\n",
       "      <td>4510</td>\n",
       "      <td>4510</td>\n",
       "      <td>5162</td>\n",
       "      <td>0.3</td>\n",
       "      <td>0.000000</td>\n",
       "      <td>0.0</td>\n",
       "      <td>0.0</td>\n",
       "      <td>1239.0</td>\n",
       "      <td>5122.602839</td>\n",
       "      <td>-12379.761885</td>\n",
       "      <td>22624.967563</td>\n",
       "      <td>1274.086386</td>\n",
       "      <td>1629.670759</td>\n",
       "      <td>5386.770306</td>\n",
       "      <td>5385.538251</td>\n",
       "      <td>1848.271137</td>\n",
       "      <td>1991.760680</td>\n",
       "    </tr>\n",
       "    <tr>\n",
       "      <th>101</th>\n",
       "      <td>6841</td>\n",
       "      <td>2019-12-29</td>\n",
       "      <td>Product_11</td>\n",
       "      <td>362</td>\n",
       "      <td>362</td>\n",
       "      <td>361</td>\n",
       "      <td>4.1</td>\n",
       "      <td>62.427746</td>\n",
       "      <td>1.0</td>\n",
       "      <td>1.0</td>\n",
       "      <td>1239.0</td>\n",
       "      <td>776.613422</td>\n",
       "      <td>-16754.973006</td>\n",
       "      <td>18308.199850</td>\n",
       "      <td>2543.392895</td>\n",
       "      <td>2968.382931</td>\n",
       "      <td>270.441944</td>\n",
       "      <td>270.978267</td>\n",
       "      <td>1848.271137</td>\n",
       "      <td>1991.760680</td>\n",
       "    </tr>\n",
       "    <tr>\n",
       "      <th>102</th>\n",
       "      <td>6847</td>\n",
       "      <td>2019-12-29</td>\n",
       "      <td>Product_17</td>\n",
       "      <td>385</td>\n",
       "      <td>385</td>\n",
       "      <td>672</td>\n",
       "      <td>3.2</td>\n",
       "      <td>0.000000</td>\n",
       "      <td>0.0</td>\n",
       "      <td>0.0</td>\n",
       "      <td>1239.0</td>\n",
       "      <td>754.198456</td>\n",
       "      <td>-16701.860046</td>\n",
       "      <td>18210.256957</td>\n",
       "      <td>2382.473173</td>\n",
       "      <td>1629.670759</td>\n",
       "      <td>577.157278</td>\n",
       "      <td>577.589179</td>\n",
       "      <td>1848.271137</td>\n",
       "      <td>1991.760680</td>\n",
       "    </tr>\n",
       "    <tr>\n",
       "      <th>103</th>\n",
       "      <td>6862</td>\n",
       "      <td>2019-12-29</td>\n",
       "      <td>Product_32</td>\n",
       "      <td>1671</td>\n",
       "      <td>2190</td>\n",
       "      <td>1298</td>\n",
       "      <td>0.1</td>\n",
       "      <td>0.000000</td>\n",
       "      <td>0.0</td>\n",
       "      <td>0.0</td>\n",
       "      <td>1239.0</td>\n",
       "      <td>1172.703744</td>\n",
       "      <td>-16282.225427</td>\n",
       "      <td>18627.632916</td>\n",
       "      <td>1161.148207</td>\n",
       "      <td>1629.670759</td>\n",
       "      <td>1064.829676</td>\n",
       "      <td>1065.098129</td>\n",
       "      <td>1848.271137</td>\n",
       "      <td>1991.760680</td>\n",
       "    </tr>\n",
       "  </tbody>\n",
       "</table>\n",
       "<p>104 rows × 20 columns</p>\n",
       "</div>"
      ],
      "text/plain": [
       "     index       Date  product_group  dispatches_SellIn  orders_SellIn  \\\n",
       "0     5784 2019-07-07     Product_04               9955           9955   \n",
       "1     5791 2019-07-07     Product_11                  0              0   \n",
       "2     5797 2019-07-07     Product_17                659            763   \n",
       "3     5812 2019-07-07     Product_32               1045           1045   \n",
       "4     5826 2019-07-14     Product_04               8940           8940   \n",
       "..     ...        ...            ...                ...            ...   \n",
       "99    6820 2019-12-22     Product_32               1982           1982   \n",
       "100   6834 2019-12-29     Product_04               4510           4510   \n",
       "101   6841 2019-12-29     Product_11                362            362   \n",
       "102   6847 2019-12-29     Product_17                385            385   \n",
       "103   6862 2019-12-29     Product_32               1671           2190   \n",
       "\n",
       "     SellOut  promo  hyp_promo  type_promo_1  type_promo_2  delta_t  \\\n",
       "0       5923    0.5   0.000000           0.0           0.0   1064.0   \n",
       "1        286    0.1   0.000000           0.0           0.0   1064.0   \n",
       "2        825    0.0   0.000000           0.0           0.0   1064.0   \n",
       "3       1336    0.9   0.000000           0.0           0.0   1064.0   \n",
       "4       5912    0.4   0.000000           0.0           0.0   1071.0   \n",
       "..       ...    ...        ...           ...           ...      ...   \n",
       "99      1540    0.3   0.000000           0.0           0.0   1232.0   \n",
       "100     5162    0.3   0.000000           0.0           0.0   1239.0   \n",
       "101      361    4.1  62.427746           1.0           1.0   1239.0   \n",
       "102      672    3.2   0.000000           0.0           0.0   1239.0   \n",
       "103     1298    0.1   0.000000           0.0           0.0   1239.0   \n",
       "\n",
       "              mu            lb            ub        promo    hyp_promo  \\\n",
       "0    5274.547906 -11511.555657  22060.651469  1382.201854  1629.670759   \n",
       "1     600.354341 -16144.785841  17345.494523  1161.148207  1629.670759   \n",
       "2     878.077580 -15864.539813  17620.694973  1102.869814  1629.670759   \n",
       "3    1330.470867 -15409.237850  18070.179583  1583.973958  1629.670759   \n",
       "4    5271.092449 -11556.132697  22098.317596  1328.746753  1629.670759   \n",
       "..           ...           ...           ...          ...          ...   \n",
       "99   1174.458349 -16274.730418  18623.647115  1274.086386  1629.670759   \n",
       "100  5122.602839 -12379.761885  22624.967563  1274.086386  1629.670759   \n",
       "101   776.613422 -16754.973006  18308.199850  2543.392895  2968.382931   \n",
       "102   754.198456 -16701.860046  18210.256957  2382.473173  1629.670759   \n",
       "103  1172.703744 -16282.225427  18627.632916  1161.148207  1629.670759   \n",
       "\n",
       "     product_group       binary         year        trend  \n",
       "0      5386.770306  5385.538251  1919.221443  1992.146962  \n",
       "1       270.441944   270.978267  1919.221443  1992.146962  \n",
       "2       577.157278   577.589179  1919.221443  1992.146962  \n",
       "3      1064.829676  1065.098129  1919.221443  1992.146962  \n",
       "4      5386.770306  5385.538251  1870.003719  1992.127968  \n",
       "..             ...          ...          ...          ...  \n",
       "99     1064.829676  1065.098129  1867.380179  1991.775411  \n",
       "100    5386.770306  5385.538251  1848.271137  1991.760680  \n",
       "101     270.441944   270.978267  1848.271137  1991.760680  \n",
       "102     577.157278   577.589179  1848.271137  1991.760680  \n",
       "103    1064.829676  1065.098129  1848.271137  1991.760680  \n",
       "\n",
       "[104 rows x 20 columns]"
      ]
     },
     "execution_count": 76,
     "metadata": {},
     "output_type": "execute_result"
    }
   ],
   "source": [
    "gpr = GPR(kernel=kernel, optimizer=None).fit(X_train, Y_train)\n",
    "mu_test, std_test = gpr.predict(X_test, return_std=True)\n",
    "lb, ub = norm.ppf(0.025, mu_test, std_test), norm.ppf(0.975, mu_test, std_test)\n",
    "oq = order_quantity(mu_test, std_test, 100, 400)\n",
    "\n",
    "pred = y_scaler.inverse_transform(np.stack((mu_test, lb, ub)).T)\n",
    "Y_train = y_scaler.inverse_transform(Y_train[:,np.newaxis]).ravel()\n",
    "oq = y_scaler.inverse_transform(oq[:,np.newaxis]).ravel()\n",
    "\n",
    "pred = pd.DataFrame({\"mu\": pred[:,0], \"lb\": pred[:,1], \"ub\": pred[:,2]})\n",
    "mus = pd.DataFrame(mus)\n",
    "pred = pd.concat((test.reset_index(), pred, mus), 1)\n",
    "\n",
    "#fig = plot_gp(pred[:,0], pred[:,1], pred[:,2], T_test, Y_test, T_train, Y_train, samples=mus, layout='h')\n",
    "#fig.show()\n",
    "pred"
   ]
  },
  {
   "cell_type": "code",
   "execution_count": 77,
   "metadata": {},
   "outputs": [
    {
     "ename": "ValueError",
     "evalue": "Cannot index with multidimensional key",
     "output_type": "error",
     "traceback": [
      "\u001b[0;31m---------------------------------------------------------------------------\u001b[0m",
      "\u001b[0;31mValueError\u001b[0m                                Traceback (most recent call last)",
      "\u001b[0;32m/tmp/ipykernel_8593/3615146039.py\u001b[0m in \u001b[0;36m<module>\u001b[0;34m\u001b[0m\n\u001b[1;32m      1\u001b[0m \u001b[0mstore\u001b[0m \u001b[0;34m=\u001b[0m \u001b[0;34m'Product_17'\u001b[0m\u001b[0;34m\u001b[0m\u001b[0;34m\u001b[0m\u001b[0m\n\u001b[1;32m      2\u001b[0m \u001b[0msub_train\u001b[0m \u001b[0;34m=\u001b[0m \u001b[0mtrain\u001b[0m\u001b[0;34m.\u001b[0m\u001b[0mloc\u001b[0m\u001b[0;34m[\u001b[0m\u001b[0mtrain\u001b[0m\u001b[0;34m[\u001b[0m\u001b[0;34m'product_group'\u001b[0m\u001b[0;34m]\u001b[0m \u001b[0;34m==\u001b[0m \u001b[0mstore\u001b[0m\u001b[0;34m]\u001b[0m\u001b[0;34m\u001b[0m\u001b[0;34m\u001b[0m\u001b[0m\n\u001b[0;32m----> 3\u001b[0;31m \u001b[0msub_pred\u001b[0m \u001b[0;34m=\u001b[0m \u001b[0mpred\u001b[0m\u001b[0;34m.\u001b[0m\u001b[0mloc\u001b[0m\u001b[0;34m[\u001b[0m\u001b[0mpred\u001b[0m\u001b[0;34m[\u001b[0m\u001b[0;34m'product_group'\u001b[0m\u001b[0;34m]\u001b[0m \u001b[0;34m==\u001b[0m \u001b[0mstore\u001b[0m\u001b[0;34m]\u001b[0m\u001b[0;34m\u001b[0m\u001b[0;34m\u001b[0m\u001b[0m\n\u001b[0m\u001b[1;32m      4\u001b[0m \u001b[0msub_mus\u001b[0m \u001b[0;34m=\u001b[0m \u001b[0mpred\u001b[0m\u001b[0;34m.\u001b[0m\u001b[0mloc\u001b[0m\u001b[0;34m[\u001b[0m\u001b[0mpred\u001b[0m\u001b[0;34m[\u001b[0m\u001b[0;34m'product_group'\u001b[0m\u001b[0;34m]\u001b[0m \u001b[0;34m==\u001b[0m \u001b[0mstore\u001b[0m\u001b[0;34m,\u001b[0m \u001b[0mlist\u001b[0m\u001b[0;34m(\u001b[0m\u001b[0mkernel_d\u001b[0m\u001b[0;34m.\u001b[0m\u001b[0mkeys\u001b[0m\u001b[0;34m(\u001b[0m\u001b[0;34m)\u001b[0m\u001b[0;34m)\u001b[0m\u001b[0;34m]\u001b[0m\u001b[0;34m.\u001b[0m\u001b[0mto_dict\u001b[0m\u001b[0;34m(\u001b[0m\u001b[0;34m'series'\u001b[0m\u001b[0;34m)\u001b[0m\u001b[0;34m\u001b[0m\u001b[0;34m\u001b[0m\u001b[0m\n\u001b[1;32m      5\u001b[0m \u001b[0merr\u001b[0m \u001b[0;34m=\u001b[0m \u001b[0mmean_absolute_error\u001b[0m\u001b[0;34m(\u001b[0m\u001b[0msub_pred\u001b[0m\u001b[0;34m[\u001b[0m\u001b[0moutput_col\u001b[0m\u001b[0;34m[\u001b[0m\u001b[0;36m0\u001b[0m\u001b[0;34m]\u001b[0m\u001b[0;34m]\u001b[0m\u001b[0;34m,\u001b[0m \u001b[0msub_pred\u001b[0m\u001b[0;34m[\u001b[0m\u001b[0;34m'mu'\u001b[0m\u001b[0;34m]\u001b[0m\u001b[0;34m)\u001b[0m\u001b[0;34m\u001b[0m\u001b[0;34m\u001b[0m\u001b[0m\n",
      "\u001b[0;32m~/anaconda3/lib/python3.8/site-packages/pandas/core/indexing.py\u001b[0m in \u001b[0;36m__getitem__\u001b[0;34m(self, key)\u001b[0m\n\u001b[1;32m    929\u001b[0m \u001b[0;34m\u001b[0m\u001b[0m\n\u001b[1;32m    930\u001b[0m             \u001b[0mmaybe_callable\u001b[0m \u001b[0;34m=\u001b[0m \u001b[0mcom\u001b[0m\u001b[0;34m.\u001b[0m\u001b[0mapply_if_callable\u001b[0m\u001b[0;34m(\u001b[0m\u001b[0mkey\u001b[0m\u001b[0;34m,\u001b[0m \u001b[0mself\u001b[0m\u001b[0;34m.\u001b[0m\u001b[0mobj\u001b[0m\u001b[0;34m)\u001b[0m\u001b[0;34m\u001b[0m\u001b[0;34m\u001b[0m\u001b[0m\n\u001b[0;32m--> 931\u001b[0;31m             \u001b[0;32mreturn\u001b[0m \u001b[0mself\u001b[0m\u001b[0;34m.\u001b[0m\u001b[0m_getitem_axis\u001b[0m\u001b[0;34m(\u001b[0m\u001b[0mmaybe_callable\u001b[0m\u001b[0;34m,\u001b[0m \u001b[0maxis\u001b[0m\u001b[0;34m=\u001b[0m\u001b[0maxis\u001b[0m\u001b[0;34m)\u001b[0m\u001b[0;34m\u001b[0m\u001b[0;34m\u001b[0m\u001b[0m\n\u001b[0m\u001b[1;32m    932\u001b[0m \u001b[0;34m\u001b[0m\u001b[0m\n\u001b[1;32m    933\u001b[0m     \u001b[0;32mdef\u001b[0m \u001b[0m_is_scalar_access\u001b[0m\u001b[0;34m(\u001b[0m\u001b[0mself\u001b[0m\u001b[0;34m,\u001b[0m \u001b[0mkey\u001b[0m\u001b[0;34m:\u001b[0m \u001b[0mtuple\u001b[0m\u001b[0;34m)\u001b[0m\u001b[0;34m:\u001b[0m\u001b[0;34m\u001b[0m\u001b[0;34m\u001b[0m\u001b[0m\n",
      "\u001b[0;32m~/anaconda3/lib/python3.8/site-packages/pandas/core/indexing.py\u001b[0m in \u001b[0;36m_getitem_axis\u001b[0;34m(self, key, axis)\u001b[0m\n\u001b[1;32m   1149\u001b[0m \u001b[0;34m\u001b[0m\u001b[0m\n\u001b[1;32m   1150\u001b[0m                 \u001b[0;32mif\u001b[0m \u001b[0mhasattr\u001b[0m\u001b[0;34m(\u001b[0m\u001b[0mkey\u001b[0m\u001b[0;34m,\u001b[0m \u001b[0;34m\"ndim\"\u001b[0m\u001b[0;34m)\u001b[0m \u001b[0;32mand\u001b[0m \u001b[0mkey\u001b[0m\u001b[0;34m.\u001b[0m\u001b[0mndim\u001b[0m \u001b[0;34m>\u001b[0m \u001b[0;36m1\u001b[0m\u001b[0;34m:\u001b[0m\u001b[0;34m\u001b[0m\u001b[0;34m\u001b[0m\u001b[0m\n\u001b[0;32m-> 1151\u001b[0;31m                     \u001b[0;32mraise\u001b[0m \u001b[0mValueError\u001b[0m\u001b[0;34m(\u001b[0m\u001b[0;34m\"Cannot index with multidimensional key\"\u001b[0m\u001b[0;34m)\u001b[0m\u001b[0;34m\u001b[0m\u001b[0;34m\u001b[0m\u001b[0m\n\u001b[0m\u001b[1;32m   1152\u001b[0m \u001b[0;34m\u001b[0m\u001b[0m\n\u001b[1;32m   1153\u001b[0m                 \u001b[0;32mreturn\u001b[0m \u001b[0mself\u001b[0m\u001b[0;34m.\u001b[0m\u001b[0m_getitem_iterable\u001b[0m\u001b[0;34m(\u001b[0m\u001b[0mkey\u001b[0m\u001b[0;34m,\u001b[0m \u001b[0maxis\u001b[0m\u001b[0;34m=\u001b[0m\u001b[0maxis\u001b[0m\u001b[0;34m)\u001b[0m\u001b[0;34m\u001b[0m\u001b[0;34m\u001b[0m\u001b[0m\n",
      "\u001b[0;31mValueError\u001b[0m: Cannot index with multidimensional key"
     ]
    }
   ],
   "source": [
    "store = 'Product_17'\n",
    "sub_train = train.loc[train['product_group'] == store] \n",
    "sub_pred = pred.loc[pred['product_group'] == store] \n",
    "sub_mus = pred.loc[pred['product_group'] == store, list(kernel_d.keys())].to_dict('series')\n",
    "err = mean_absolute_error(sub_pred[output_col[0]], sub_pred['mu'])\n",
    "fig = plot_gp(sub_pred['mu'], sub_pred['lb'], sub_pred['ub'], sub_pred['Date'], sub_pred[output_col[0]], sub_train['Date'], sub_train[output_col[0]], name=err, samples=sub_mus, layout='h')\n",
    "fig.show()"
   ]
  },
  {
   "cell_type": "code",
   "execution_count": 78,
   "metadata": {},
   "outputs": [
    {
     "data": {
      "text/html": [
       "<div>\n",
       "<style scoped>\n",
       "    .dataframe tbody tr th:only-of-type {\n",
       "        vertical-align: middle;\n",
       "    }\n",
       "\n",
       "    .dataframe tbody tr th {\n",
       "        vertical-align: top;\n",
       "    }\n",
       "\n",
       "    .dataframe thead th {\n",
       "        text-align: right;\n",
       "    }\n",
       "</style>\n",
       "<table border=\"1\" class=\"dataframe\">\n",
       "  <thead>\n",
       "    <tr style=\"text-align: right;\">\n",
       "      <th></th>\n",
       "      <th>MAE</th>\n",
       "      <th>RMSE</th>\n",
       "      <th>RMSPE</th>\n",
       "      <th>MAPE</th>\n",
       "      <th>R2</th>\n",
       "      <th>MASE</th>\n",
       "    </tr>\n",
       "  </thead>\n",
       "  <tbody>\n",
       "    <tr>\n",
       "      <th>THIS</th>\n",
       "      <td>310.672272</td>\n",
       "      <td>526.418838</td>\n",
       "      <td>47.79813</td>\n",
       "      <td>32.0</td>\n",
       "      <td>0.951615</td>\n",
       "      <td>0.120271</td>\n",
       "    </tr>\n",
       "  </tbody>\n",
       "</table>\n",
       "</div>"
      ],
      "text/plain": [
       "             MAE        RMSE     RMSPE  MAPE        R2      MASE\n",
       "THIS  310.672272  526.418838  47.79813  32.0  0.951615  0.120271"
      ]
     },
     "execution_count": 78,
     "metadata": {},
     "output_type": "execute_result"
    }
   ],
   "source": [
    "def mase(test_y, pred, train_y):\n",
    "    e_t = test_y - pred\n",
    "    scale = mean_absolute_error(train_y[1:], train_y[:-1])\n",
    "    return np.mean(np.abs(e_t / scale))\n",
    "\n",
    "def mape(test_y, pred):\n",
    "    return np.round(np.mean(np.abs(100*(test_y-pred)/(test_y + 1e-9))), 0)\n",
    "\n",
    "def rmspe(test_y, pred):\n",
    "    return (np.sqrt(np.mean(np.square((test_y - pred) / (test_y + 1e-9))))) * 100\n",
    "\n",
    "errors = {'MAE':[mean_absolute_error(Y_test, pred['mu'])], \n",
    "        'RMSE':[mean_squared_error(Y_test, pred['mu'], squared=False)], \n",
    "        'RMSPE': [rmspe(Y_test, pred['mu'])],\n",
    "        'MAPE':[mape(Y_test, pred['mu'])],\n",
    "        'R2':[r2_score(Y_test, pred['mu'])],\n",
    "        'MASE':[mase(Y_test, pred['mu'], Y_train)]} \n",
    "errors = pd.DataFrame(errors, index =['THIS']) \n",
    "errors"
   ]
  },
  {
   "cell_type": "code",
   "execution_count": 112,
   "metadata": {},
   "outputs": [
    {
     "data": {
      "text/plain": [
       "-256.6863537910383"
      ]
     },
     "execution_count": 112,
     "metadata": {},
     "output_type": "execute_result"
    }
   ],
   "source": [
    "-1 * gpr.log_marginal_likelihood_value_"
   ]
  },
  {
   "cell_type": "code",
   "execution_count": 79,
   "metadata": {
    "scrolled": false
   },
   "outputs": [
    {
     "name": "stderr",
     "output_type": "stream",
     "text": [
      "/home/skyolia/anaconda3/lib/python3.8/site-packages/sklearn/base.py:450: UserWarning:\n",
      "\n",
      "X does not have valid feature names, but MinMaxScaler was fitted with feature names\n",
      "\n"
     ]
    },
    {
     "data": {
      "application/vnd.plotly.v1+json": {
       "config": {
        "plotlyServerURL": "https://plot.ly"
       },
       "data": [
        {
         "name": "product_group",
         "type": "box",
         "x": [
          1.030333347427067,
          1.0907346568639094,
          1.3380019366073321,
          1.299265146836966,
          1.3748512933617736,
          1.4226740163640041,
          1.184780564616242,
          1.2840713861924011,
          1.2146973038994302,
          1.2476934376859672
         ]
        },
        {
         "name": "promo",
         "type": "box",
         "x": [
          0.15389306524388668,
          0.12792208812542083,
          0.16604750218719522,
          0.1530330885372374,
          0.14388560622669233,
          0.13798755803679008,
          0.16482660320217513,
          0.14339178405942243,
          0.16183540439616506,
          0.15129510595409879
         ]
        },
        {
         "name": "hyp_promo",
         "type": "box",
         "x": [
          0.010872547112284359,
          0.005330716587237494,
          0.010905632685603184,
          0.010823254445920583,
          0.01145909707064674,
          0.006543286103652957,
          0.011645147535333522,
          0.011032045956636871,
          0.009624545719095878,
          0.008938537125716017
         ]
        },
        {
         "name": "type_promo_1",
         "type": "box",
         "x": [
          0,
          0,
          0,
          0,
          0,
          0,
          0,
          0,
          0,
          0
         ]
        },
        {
         "name": "type_promo_2",
         "type": "box",
         "x": [
          0,
          0,
          0,
          0,
          0,
          0,
          0,
          0,
          0,
          0
         ]
        },
        {
         "name": "delta_t",
         "type": "box",
         "x": [
          -0.0012254981338357673,
          -0.0006483558554069013,
          -5.4819645857628885e-05,
          -0.0004781872919441543,
          -0.0011893858327661766,
          -0.0012133860985344969,
          -0.002318931370709598,
          -0.002215378690967773,
          -0.0016938763390625944,
          -0.0003700321116709704
         ]
        }
       ],
       "layout": {
        "template": {
         "data": {
          "bar": [
           {
            "error_x": {
             "color": "#2a3f5f"
            },
            "error_y": {
             "color": "#2a3f5f"
            },
            "marker": {
             "line": {
              "color": "#E5ECF6",
              "width": 0.5
             },
             "pattern": {
              "fillmode": "overlay",
              "size": 10,
              "solidity": 0.2
             }
            },
            "type": "bar"
           }
          ],
          "barpolar": [
           {
            "marker": {
             "line": {
              "color": "#E5ECF6",
              "width": 0.5
             },
             "pattern": {
              "fillmode": "overlay",
              "size": 10,
              "solidity": 0.2
             }
            },
            "type": "barpolar"
           }
          ],
          "carpet": [
           {
            "aaxis": {
             "endlinecolor": "#2a3f5f",
             "gridcolor": "white",
             "linecolor": "white",
             "minorgridcolor": "white",
             "startlinecolor": "#2a3f5f"
            },
            "baxis": {
             "endlinecolor": "#2a3f5f",
             "gridcolor": "white",
             "linecolor": "white",
             "minorgridcolor": "white",
             "startlinecolor": "#2a3f5f"
            },
            "type": "carpet"
           }
          ],
          "choropleth": [
           {
            "colorbar": {
             "outlinewidth": 0,
             "ticks": ""
            },
            "type": "choropleth"
           }
          ],
          "contour": [
           {
            "colorbar": {
             "outlinewidth": 0,
             "ticks": ""
            },
            "colorscale": [
             [
              0,
              "#0d0887"
             ],
             [
              0.1111111111111111,
              "#46039f"
             ],
             [
              0.2222222222222222,
              "#7201a8"
             ],
             [
              0.3333333333333333,
              "#9c179e"
             ],
             [
              0.4444444444444444,
              "#bd3786"
             ],
             [
              0.5555555555555556,
              "#d8576b"
             ],
             [
              0.6666666666666666,
              "#ed7953"
             ],
             [
              0.7777777777777778,
              "#fb9f3a"
             ],
             [
              0.8888888888888888,
              "#fdca26"
             ],
             [
              1,
              "#f0f921"
             ]
            ],
            "type": "contour"
           }
          ],
          "contourcarpet": [
           {
            "colorbar": {
             "outlinewidth": 0,
             "ticks": ""
            },
            "type": "contourcarpet"
           }
          ],
          "heatmap": [
           {
            "colorbar": {
             "outlinewidth": 0,
             "ticks": ""
            },
            "colorscale": [
             [
              0,
              "#0d0887"
             ],
             [
              0.1111111111111111,
              "#46039f"
             ],
             [
              0.2222222222222222,
              "#7201a8"
             ],
             [
              0.3333333333333333,
              "#9c179e"
             ],
             [
              0.4444444444444444,
              "#bd3786"
             ],
             [
              0.5555555555555556,
              "#d8576b"
             ],
             [
              0.6666666666666666,
              "#ed7953"
             ],
             [
              0.7777777777777778,
              "#fb9f3a"
             ],
             [
              0.8888888888888888,
              "#fdca26"
             ],
             [
              1,
              "#f0f921"
             ]
            ],
            "type": "heatmap"
           }
          ],
          "heatmapgl": [
           {
            "colorbar": {
             "outlinewidth": 0,
             "ticks": ""
            },
            "colorscale": [
             [
              0,
              "#0d0887"
             ],
             [
              0.1111111111111111,
              "#46039f"
             ],
             [
              0.2222222222222222,
              "#7201a8"
             ],
             [
              0.3333333333333333,
              "#9c179e"
             ],
             [
              0.4444444444444444,
              "#bd3786"
             ],
             [
              0.5555555555555556,
              "#d8576b"
             ],
             [
              0.6666666666666666,
              "#ed7953"
             ],
             [
              0.7777777777777778,
              "#fb9f3a"
             ],
             [
              0.8888888888888888,
              "#fdca26"
             ],
             [
              1,
              "#f0f921"
             ]
            ],
            "type": "heatmapgl"
           }
          ],
          "histogram": [
           {
            "marker": {
             "pattern": {
              "fillmode": "overlay",
              "size": 10,
              "solidity": 0.2
             }
            },
            "type": "histogram"
           }
          ],
          "histogram2d": [
           {
            "colorbar": {
             "outlinewidth": 0,
             "ticks": ""
            },
            "colorscale": [
             [
              0,
              "#0d0887"
             ],
             [
              0.1111111111111111,
              "#46039f"
             ],
             [
              0.2222222222222222,
              "#7201a8"
             ],
             [
              0.3333333333333333,
              "#9c179e"
             ],
             [
              0.4444444444444444,
              "#bd3786"
             ],
             [
              0.5555555555555556,
              "#d8576b"
             ],
             [
              0.6666666666666666,
              "#ed7953"
             ],
             [
              0.7777777777777778,
              "#fb9f3a"
             ],
             [
              0.8888888888888888,
              "#fdca26"
             ],
             [
              1,
              "#f0f921"
             ]
            ],
            "type": "histogram2d"
           }
          ],
          "histogram2dcontour": [
           {
            "colorbar": {
             "outlinewidth": 0,
             "ticks": ""
            },
            "colorscale": [
             [
              0,
              "#0d0887"
             ],
             [
              0.1111111111111111,
              "#46039f"
             ],
             [
              0.2222222222222222,
              "#7201a8"
             ],
             [
              0.3333333333333333,
              "#9c179e"
             ],
             [
              0.4444444444444444,
              "#bd3786"
             ],
             [
              0.5555555555555556,
              "#d8576b"
             ],
             [
              0.6666666666666666,
              "#ed7953"
             ],
             [
              0.7777777777777778,
              "#fb9f3a"
             ],
             [
              0.8888888888888888,
              "#fdca26"
             ],
             [
              1,
              "#f0f921"
             ]
            ],
            "type": "histogram2dcontour"
           }
          ],
          "mesh3d": [
           {
            "colorbar": {
             "outlinewidth": 0,
             "ticks": ""
            },
            "type": "mesh3d"
           }
          ],
          "parcoords": [
           {
            "line": {
             "colorbar": {
              "outlinewidth": 0,
              "ticks": ""
             }
            },
            "type": "parcoords"
           }
          ],
          "pie": [
           {
            "automargin": true,
            "type": "pie"
           }
          ],
          "scatter": [
           {
            "marker": {
             "colorbar": {
              "outlinewidth": 0,
              "ticks": ""
             }
            },
            "type": "scatter"
           }
          ],
          "scatter3d": [
           {
            "line": {
             "colorbar": {
              "outlinewidth": 0,
              "ticks": ""
             }
            },
            "marker": {
             "colorbar": {
              "outlinewidth": 0,
              "ticks": ""
             }
            },
            "type": "scatter3d"
           }
          ],
          "scattercarpet": [
           {
            "marker": {
             "colorbar": {
              "outlinewidth": 0,
              "ticks": ""
             }
            },
            "type": "scattercarpet"
           }
          ],
          "scattergeo": [
           {
            "marker": {
             "colorbar": {
              "outlinewidth": 0,
              "ticks": ""
             }
            },
            "type": "scattergeo"
           }
          ],
          "scattergl": [
           {
            "marker": {
             "colorbar": {
              "outlinewidth": 0,
              "ticks": ""
             }
            },
            "type": "scattergl"
           }
          ],
          "scattermapbox": [
           {
            "marker": {
             "colorbar": {
              "outlinewidth": 0,
              "ticks": ""
             }
            },
            "type": "scattermapbox"
           }
          ],
          "scatterpolar": [
           {
            "marker": {
             "colorbar": {
              "outlinewidth": 0,
              "ticks": ""
             }
            },
            "type": "scatterpolar"
           }
          ],
          "scatterpolargl": [
           {
            "marker": {
             "colorbar": {
              "outlinewidth": 0,
              "ticks": ""
             }
            },
            "type": "scatterpolargl"
           }
          ],
          "scatterternary": [
           {
            "marker": {
             "colorbar": {
              "outlinewidth": 0,
              "ticks": ""
             }
            },
            "type": "scatterternary"
           }
          ],
          "surface": [
           {
            "colorbar": {
             "outlinewidth": 0,
             "ticks": ""
            },
            "colorscale": [
             [
              0,
              "#0d0887"
             ],
             [
              0.1111111111111111,
              "#46039f"
             ],
             [
              0.2222222222222222,
              "#7201a8"
             ],
             [
              0.3333333333333333,
              "#9c179e"
             ],
             [
              0.4444444444444444,
              "#bd3786"
             ],
             [
              0.5555555555555556,
              "#d8576b"
             ],
             [
              0.6666666666666666,
              "#ed7953"
             ],
             [
              0.7777777777777778,
              "#fb9f3a"
             ],
             [
              0.8888888888888888,
              "#fdca26"
             ],
             [
              1,
              "#f0f921"
             ]
            ],
            "type": "surface"
           }
          ],
          "table": [
           {
            "cells": {
             "fill": {
              "color": "#EBF0F8"
             },
             "line": {
              "color": "white"
             }
            },
            "header": {
             "fill": {
              "color": "#C8D4E3"
             },
             "line": {
              "color": "white"
             }
            },
            "type": "table"
           }
          ]
         },
         "layout": {
          "annotationdefaults": {
           "arrowcolor": "#2a3f5f",
           "arrowhead": 0,
           "arrowwidth": 1
          },
          "autotypenumbers": "strict",
          "coloraxis": {
           "colorbar": {
            "outlinewidth": 0,
            "ticks": ""
           }
          },
          "colorscale": {
           "diverging": [
            [
             0,
             "#8e0152"
            ],
            [
             0.1,
             "#c51b7d"
            ],
            [
             0.2,
             "#de77ae"
            ],
            [
             0.3,
             "#f1b6da"
            ],
            [
             0.4,
             "#fde0ef"
            ],
            [
             0.5,
             "#f7f7f7"
            ],
            [
             0.6,
             "#e6f5d0"
            ],
            [
             0.7,
             "#b8e186"
            ],
            [
             0.8,
             "#7fbc41"
            ],
            [
             0.9,
             "#4d9221"
            ],
            [
             1,
             "#276419"
            ]
           ],
           "sequential": [
            [
             0,
             "#0d0887"
            ],
            [
             0.1111111111111111,
             "#46039f"
            ],
            [
             0.2222222222222222,
             "#7201a8"
            ],
            [
             0.3333333333333333,
             "#9c179e"
            ],
            [
             0.4444444444444444,
             "#bd3786"
            ],
            [
             0.5555555555555556,
             "#d8576b"
            ],
            [
             0.6666666666666666,
             "#ed7953"
            ],
            [
             0.7777777777777778,
             "#fb9f3a"
            ],
            [
             0.8888888888888888,
             "#fdca26"
            ],
            [
             1,
             "#f0f921"
            ]
           ],
           "sequentialminus": [
            [
             0,
             "#0d0887"
            ],
            [
             0.1111111111111111,
             "#46039f"
            ],
            [
             0.2222222222222222,
             "#7201a8"
            ],
            [
             0.3333333333333333,
             "#9c179e"
            ],
            [
             0.4444444444444444,
             "#bd3786"
            ],
            [
             0.5555555555555556,
             "#d8576b"
            ],
            [
             0.6666666666666666,
             "#ed7953"
            ],
            [
             0.7777777777777778,
             "#fb9f3a"
            ],
            [
             0.8888888888888888,
             "#fdca26"
            ],
            [
             1,
             "#f0f921"
            ]
           ]
          },
          "colorway": [
           "#636efa",
           "#EF553B",
           "#00cc96",
           "#ab63fa",
           "#FFA15A",
           "#19d3f3",
           "#FF6692",
           "#B6E880",
           "#FF97FF",
           "#FECB52"
          ],
          "font": {
           "color": "#2a3f5f"
          },
          "geo": {
           "bgcolor": "white",
           "lakecolor": "white",
           "landcolor": "#E5ECF6",
           "showlakes": true,
           "showland": true,
           "subunitcolor": "white"
          },
          "hoverlabel": {
           "align": "left"
          },
          "hovermode": "closest",
          "mapbox": {
           "style": "light"
          },
          "paper_bgcolor": "white",
          "plot_bgcolor": "#E5ECF6",
          "polar": {
           "angularaxis": {
            "gridcolor": "white",
            "linecolor": "white",
            "ticks": ""
           },
           "bgcolor": "#E5ECF6",
           "radialaxis": {
            "gridcolor": "white",
            "linecolor": "white",
            "ticks": ""
           }
          },
          "scene": {
           "xaxis": {
            "backgroundcolor": "#E5ECF6",
            "gridcolor": "white",
            "gridwidth": 2,
            "linecolor": "white",
            "showbackground": true,
            "ticks": "",
            "zerolinecolor": "white"
           },
           "yaxis": {
            "backgroundcolor": "#E5ECF6",
            "gridcolor": "white",
            "gridwidth": 2,
            "linecolor": "white",
            "showbackground": true,
            "ticks": "",
            "zerolinecolor": "white"
           },
           "zaxis": {
            "backgroundcolor": "#E5ECF6",
            "gridcolor": "white",
            "gridwidth": 2,
            "linecolor": "white",
            "showbackground": true,
            "ticks": "",
            "zerolinecolor": "white"
           }
          },
          "shapedefaults": {
           "line": {
            "color": "#2a3f5f"
           }
          },
          "ternary": {
           "aaxis": {
            "gridcolor": "white",
            "linecolor": "white",
            "ticks": ""
           },
           "baxis": {
            "gridcolor": "white",
            "linecolor": "white",
            "ticks": ""
           },
           "bgcolor": "#E5ECF6",
           "caxis": {
            "gridcolor": "white",
            "linecolor": "white",
            "ticks": ""
           }
          },
          "title": {
           "x": 0.05
          },
          "xaxis": {
           "automargin": true,
           "gridcolor": "white",
           "linecolor": "white",
           "ticks": "",
           "title": {
            "standoff": 15
           },
           "zerolinecolor": "white",
           "zerolinewidth": 2
          },
          "yaxis": {
           "automargin": true,
           "gridcolor": "white",
           "linecolor": "white",
           "ticks": "",
           "title": {
            "standoff": 15
           },
           "zerolinecolor": "white",
           "zerolinewidth": 2
          }
         }
        }
       }
      },
      "text/html": [
       "<div>                            <div id=\"d4100e3c-400b-43b9-ae30-9d743203aecf\" class=\"plotly-graph-div\" style=\"height:525px; width:100%;\"></div>            <script type=\"text/javascript\">                require([\"plotly\"], function(Plotly) {                    window.PLOTLYENV=window.PLOTLYENV || {};                                    if (document.getElementById(\"d4100e3c-400b-43b9-ae30-9d743203aecf\")) {                    Plotly.newPlot(                        \"d4100e3c-400b-43b9-ae30-9d743203aecf\",                        [{\"name\":\"product_group\",\"x\":[1.030333347427067,1.0907346568639094,1.3380019366073321,1.299265146836966,1.3748512933617736,1.4226740163640041,1.184780564616242,1.2840713861924011,1.2146973038994302,1.2476934376859672],\"type\":\"box\"},{\"name\":\"promo\",\"x\":[0.15389306524388668,0.12792208812542083,0.16604750218719522,0.1530330885372374,0.14388560622669233,0.13798755803679008,0.16482660320217513,0.14339178405942243,0.16183540439616506,0.15129510595409879],\"type\":\"box\"},{\"name\":\"hyp_promo\",\"x\":[0.010872547112284359,0.005330716587237494,0.010905632685603184,0.010823254445920583,0.01145909707064674,0.006543286103652957,0.011645147535333522,0.011032045956636871,0.009624545719095878,0.008938537125716017],\"type\":\"box\"},{\"name\":\"type_promo_1\",\"x\":[0.0,0.0,0.0,0.0,0.0,0.0,0.0,0.0,0.0,0.0],\"type\":\"box\"},{\"name\":\"type_promo_2\",\"x\":[0.0,0.0,0.0,0.0,0.0,0.0,0.0,0.0,0.0,0.0],\"type\":\"box\"},{\"name\":\"delta_t\",\"x\":[-0.0012254981338357673,-0.0006483558554069013,-5.4819645857628885e-05,-0.0004781872919441543,-0.0011893858327661766,-0.0012133860985344969,-0.002318931370709598,-0.002215378690967773,-0.0016938763390625944,-0.0003700321116709704],\"type\":\"box\"}],                        {\"template\":{\"data\":{\"bar\":[{\"error_x\":{\"color\":\"#2a3f5f\"},\"error_y\":{\"color\":\"#2a3f5f\"},\"marker\":{\"line\":{\"color\":\"#E5ECF6\",\"width\":0.5},\"pattern\":{\"fillmode\":\"overlay\",\"size\":10,\"solidity\":0.2}},\"type\":\"bar\"}],\"barpolar\":[{\"marker\":{\"line\":{\"color\":\"#E5ECF6\",\"width\":0.5},\"pattern\":{\"fillmode\":\"overlay\",\"size\":10,\"solidity\":0.2}},\"type\":\"barpolar\"}],\"carpet\":[{\"aaxis\":{\"endlinecolor\":\"#2a3f5f\",\"gridcolor\":\"white\",\"linecolor\":\"white\",\"minorgridcolor\":\"white\",\"startlinecolor\":\"#2a3f5f\"},\"baxis\":{\"endlinecolor\":\"#2a3f5f\",\"gridcolor\":\"white\",\"linecolor\":\"white\",\"minorgridcolor\":\"white\",\"startlinecolor\":\"#2a3f5f\"},\"type\":\"carpet\"}],\"choropleth\":[{\"colorbar\":{\"outlinewidth\":0,\"ticks\":\"\"},\"type\":\"choropleth\"}],\"contour\":[{\"colorbar\":{\"outlinewidth\":0,\"ticks\":\"\"},\"colorscale\":[[0.0,\"#0d0887\"],[0.1111111111111111,\"#46039f\"],[0.2222222222222222,\"#7201a8\"],[0.3333333333333333,\"#9c179e\"],[0.4444444444444444,\"#bd3786\"],[0.5555555555555556,\"#d8576b\"],[0.6666666666666666,\"#ed7953\"],[0.7777777777777778,\"#fb9f3a\"],[0.8888888888888888,\"#fdca26\"],[1.0,\"#f0f921\"]],\"type\":\"contour\"}],\"contourcarpet\":[{\"colorbar\":{\"outlinewidth\":0,\"ticks\":\"\"},\"type\":\"contourcarpet\"}],\"heatmap\":[{\"colorbar\":{\"outlinewidth\":0,\"ticks\":\"\"},\"colorscale\":[[0.0,\"#0d0887\"],[0.1111111111111111,\"#46039f\"],[0.2222222222222222,\"#7201a8\"],[0.3333333333333333,\"#9c179e\"],[0.4444444444444444,\"#bd3786\"],[0.5555555555555556,\"#d8576b\"],[0.6666666666666666,\"#ed7953\"],[0.7777777777777778,\"#fb9f3a\"],[0.8888888888888888,\"#fdca26\"],[1.0,\"#f0f921\"]],\"type\":\"heatmap\"}],\"heatmapgl\":[{\"colorbar\":{\"outlinewidth\":0,\"ticks\":\"\"},\"colorscale\":[[0.0,\"#0d0887\"],[0.1111111111111111,\"#46039f\"],[0.2222222222222222,\"#7201a8\"],[0.3333333333333333,\"#9c179e\"],[0.4444444444444444,\"#bd3786\"],[0.5555555555555556,\"#d8576b\"],[0.6666666666666666,\"#ed7953\"],[0.7777777777777778,\"#fb9f3a\"],[0.8888888888888888,\"#fdca26\"],[1.0,\"#f0f921\"]],\"type\":\"heatmapgl\"}],\"histogram\":[{\"marker\":{\"pattern\":{\"fillmode\":\"overlay\",\"size\":10,\"solidity\":0.2}},\"type\":\"histogram\"}],\"histogram2d\":[{\"colorbar\":{\"outlinewidth\":0,\"ticks\":\"\"},\"colorscale\":[[0.0,\"#0d0887\"],[0.1111111111111111,\"#46039f\"],[0.2222222222222222,\"#7201a8\"],[0.3333333333333333,\"#9c179e\"],[0.4444444444444444,\"#bd3786\"],[0.5555555555555556,\"#d8576b\"],[0.6666666666666666,\"#ed7953\"],[0.7777777777777778,\"#fb9f3a\"],[0.8888888888888888,\"#fdca26\"],[1.0,\"#f0f921\"]],\"type\":\"histogram2d\"}],\"histogram2dcontour\":[{\"colorbar\":{\"outlinewidth\":0,\"ticks\":\"\"},\"colorscale\":[[0.0,\"#0d0887\"],[0.1111111111111111,\"#46039f\"],[0.2222222222222222,\"#7201a8\"],[0.3333333333333333,\"#9c179e\"],[0.4444444444444444,\"#bd3786\"],[0.5555555555555556,\"#d8576b\"],[0.6666666666666666,\"#ed7953\"],[0.7777777777777778,\"#fb9f3a\"],[0.8888888888888888,\"#fdca26\"],[1.0,\"#f0f921\"]],\"type\":\"histogram2dcontour\"}],\"mesh3d\":[{\"colorbar\":{\"outlinewidth\":0,\"ticks\":\"\"},\"type\":\"mesh3d\"}],\"parcoords\":[{\"line\":{\"colorbar\":{\"outlinewidth\":0,\"ticks\":\"\"}},\"type\":\"parcoords\"}],\"pie\":[{\"automargin\":true,\"type\":\"pie\"}],\"scatter\":[{\"marker\":{\"colorbar\":{\"outlinewidth\":0,\"ticks\":\"\"}},\"type\":\"scatter\"}],\"scatter3d\":[{\"line\":{\"colorbar\":{\"outlinewidth\":0,\"ticks\":\"\"}},\"marker\":{\"colorbar\":{\"outlinewidth\":0,\"ticks\":\"\"}},\"type\":\"scatter3d\"}],\"scattercarpet\":[{\"marker\":{\"colorbar\":{\"outlinewidth\":0,\"ticks\":\"\"}},\"type\":\"scattercarpet\"}],\"scattergeo\":[{\"marker\":{\"colorbar\":{\"outlinewidth\":0,\"ticks\":\"\"}},\"type\":\"scattergeo\"}],\"scattergl\":[{\"marker\":{\"colorbar\":{\"outlinewidth\":0,\"ticks\":\"\"}},\"type\":\"scattergl\"}],\"scattermapbox\":[{\"marker\":{\"colorbar\":{\"outlinewidth\":0,\"ticks\":\"\"}},\"type\":\"scattermapbox\"}],\"scatterpolar\":[{\"marker\":{\"colorbar\":{\"outlinewidth\":0,\"ticks\":\"\"}},\"type\":\"scatterpolar\"}],\"scatterpolargl\":[{\"marker\":{\"colorbar\":{\"outlinewidth\":0,\"ticks\":\"\"}},\"type\":\"scatterpolargl\"}],\"scatterternary\":[{\"marker\":{\"colorbar\":{\"outlinewidth\":0,\"ticks\":\"\"}},\"type\":\"scatterternary\"}],\"surface\":[{\"colorbar\":{\"outlinewidth\":0,\"ticks\":\"\"},\"colorscale\":[[0.0,\"#0d0887\"],[0.1111111111111111,\"#46039f\"],[0.2222222222222222,\"#7201a8\"],[0.3333333333333333,\"#9c179e\"],[0.4444444444444444,\"#bd3786\"],[0.5555555555555556,\"#d8576b\"],[0.6666666666666666,\"#ed7953\"],[0.7777777777777778,\"#fb9f3a\"],[0.8888888888888888,\"#fdca26\"],[1.0,\"#f0f921\"]],\"type\":\"surface\"}],\"table\":[{\"cells\":{\"fill\":{\"color\":\"#EBF0F8\"},\"line\":{\"color\":\"white\"}},\"header\":{\"fill\":{\"color\":\"#C8D4E3\"},\"line\":{\"color\":\"white\"}},\"type\":\"table\"}]},\"layout\":{\"annotationdefaults\":{\"arrowcolor\":\"#2a3f5f\",\"arrowhead\":0,\"arrowwidth\":1},\"autotypenumbers\":\"strict\",\"coloraxis\":{\"colorbar\":{\"outlinewidth\":0,\"ticks\":\"\"}},\"colorscale\":{\"diverging\":[[0,\"#8e0152\"],[0.1,\"#c51b7d\"],[0.2,\"#de77ae\"],[0.3,\"#f1b6da\"],[0.4,\"#fde0ef\"],[0.5,\"#f7f7f7\"],[0.6,\"#e6f5d0\"],[0.7,\"#b8e186\"],[0.8,\"#7fbc41\"],[0.9,\"#4d9221\"],[1,\"#276419\"]],\"sequential\":[[0.0,\"#0d0887\"],[0.1111111111111111,\"#46039f\"],[0.2222222222222222,\"#7201a8\"],[0.3333333333333333,\"#9c179e\"],[0.4444444444444444,\"#bd3786\"],[0.5555555555555556,\"#d8576b\"],[0.6666666666666666,\"#ed7953\"],[0.7777777777777778,\"#fb9f3a\"],[0.8888888888888888,\"#fdca26\"],[1.0,\"#f0f921\"]],\"sequentialminus\":[[0.0,\"#0d0887\"],[0.1111111111111111,\"#46039f\"],[0.2222222222222222,\"#7201a8\"],[0.3333333333333333,\"#9c179e\"],[0.4444444444444444,\"#bd3786\"],[0.5555555555555556,\"#d8576b\"],[0.6666666666666666,\"#ed7953\"],[0.7777777777777778,\"#fb9f3a\"],[0.8888888888888888,\"#fdca26\"],[1.0,\"#f0f921\"]]},\"colorway\":[\"#636efa\",\"#EF553B\",\"#00cc96\",\"#ab63fa\",\"#FFA15A\",\"#19d3f3\",\"#FF6692\",\"#B6E880\",\"#FF97FF\",\"#FECB52\"],\"font\":{\"color\":\"#2a3f5f\"},\"geo\":{\"bgcolor\":\"white\",\"lakecolor\":\"white\",\"landcolor\":\"#E5ECF6\",\"showlakes\":true,\"showland\":true,\"subunitcolor\":\"white\"},\"hoverlabel\":{\"align\":\"left\"},\"hovermode\":\"closest\",\"mapbox\":{\"style\":\"light\"},\"paper_bgcolor\":\"white\",\"plot_bgcolor\":\"#E5ECF6\",\"polar\":{\"angularaxis\":{\"gridcolor\":\"white\",\"linecolor\":\"white\",\"ticks\":\"\"},\"bgcolor\":\"#E5ECF6\",\"radialaxis\":{\"gridcolor\":\"white\",\"linecolor\":\"white\",\"ticks\":\"\"}},\"scene\":{\"xaxis\":{\"backgroundcolor\":\"#E5ECF6\",\"gridcolor\":\"white\",\"gridwidth\":2,\"linecolor\":\"white\",\"showbackground\":true,\"ticks\":\"\",\"zerolinecolor\":\"white\"},\"yaxis\":{\"backgroundcolor\":\"#E5ECF6\",\"gridcolor\":\"white\",\"gridwidth\":2,\"linecolor\":\"white\",\"showbackground\":true,\"ticks\":\"\",\"zerolinecolor\":\"white\"},\"zaxis\":{\"backgroundcolor\":\"#E5ECF6\",\"gridcolor\":\"white\",\"gridwidth\":2,\"linecolor\":\"white\",\"showbackground\":true,\"ticks\":\"\",\"zerolinecolor\":\"white\"}},\"shapedefaults\":{\"line\":{\"color\":\"#2a3f5f\"}},\"ternary\":{\"aaxis\":{\"gridcolor\":\"white\",\"linecolor\":\"white\",\"ticks\":\"\"},\"baxis\":{\"gridcolor\":\"white\",\"linecolor\":\"white\",\"ticks\":\"\"},\"bgcolor\":\"#E5ECF6\",\"caxis\":{\"gridcolor\":\"white\",\"linecolor\":\"white\",\"ticks\":\"\"}},\"title\":{\"x\":0.05},\"xaxis\":{\"automargin\":true,\"gridcolor\":\"white\",\"linecolor\":\"white\",\"ticks\":\"\",\"title\":{\"standoff\":15},\"zerolinecolor\":\"white\",\"zerolinewidth\":2},\"yaxis\":{\"automargin\":true,\"gridcolor\":\"white\",\"linecolor\":\"white\",\"ticks\":\"\",\"title\":{\"standoff\":15},\"zerolinecolor\":\"white\",\"zerolinewidth\":2}}}},                        {\"responsive\": true}                    ).then(function(){\n",
       "                            \n",
       "var gd = document.getElementById('d4100e3c-400b-43b9-ae30-9d743203aecf');\n",
       "var x = new MutationObserver(function (mutations, observer) {{\n",
       "        var display = window.getComputedStyle(gd).display;\n",
       "        if (!display || display === 'none') {{\n",
       "            console.log([gd, 'removed!']);\n",
       "            Plotly.purge(gd);\n",
       "            observer.disconnect();\n",
       "        }}\n",
       "}});\n",
       "\n",
       "// Listen for the removal of the full notebook cells\n",
       "var notebookContainer = gd.closest('#notebook-container');\n",
       "if (notebookContainer) {{\n",
       "    x.observe(notebookContainer, {childList: true});\n",
       "}}\n",
       "\n",
       "// Listen for the clearing of the current output cell\n",
       "var outputEl = gd.closest('.output');\n",
       "if (outputEl) {{\n",
       "    x.observe(outputEl, {childList: true});\n",
       "}}\n",
       "\n",
       "                        })                };                });            </script>        </div>"
      ]
     },
     "metadata": {},
     "output_type": "display_data"
    }
   ],
   "source": [
    "from sklearn.inspection import permutation_importance\n",
    "from sklearn.metrics import fbeta_score, make_scorer\n",
    "\n",
    "\n",
    "result = permutation_importance(gpr, X_test, y_scaler.transform(Y_test[:,np.newaxis]).ravel(), n_repeats=10, random_state=42, n_jobs=2, scoring='r2')\n",
    "fig = go.Figure()\n",
    "# Use x instead of y argument for horizontal plot\n",
    "for i in range(X_test.shape[1]):\n",
    "    fig.add_trace(go.Box(x=result['importances'][i], name=X_test.columns[i]))\n",
    "\n",
    "fig.show()"
   ]
  }
 ],
 "metadata": {
  "kernelspec": {
   "display_name": "Python 3 (ipykernel)",
   "language": "python",
   "name": "python3"
  },
  "language_info": {
   "codemirror_mode": {
    "name": "ipython",
    "version": 3
   },
   "file_extension": ".py",
   "mimetype": "text/x-python",
   "name": "python",
   "nbconvert_exporter": "python",
   "pygments_lexer": "ipython3",
   "version": "3.8.5"
  }
 },
 "nbformat": 4,
 "nbformat_minor": 4
}
